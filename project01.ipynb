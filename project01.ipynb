{
 "cells": [
  {
   "cell_type": "markdown",
   "id": "60c09337",
   "metadata": {
    "heading_collapsed": true
   },
   "source": [
    "# Importações e primeiras informações"
   ]
  },
  {
   "cell_type": "markdown",
   "id": "961882f1",
   "metadata": {
    "hidden": true
   },
   "source": [
    "Para melhor exposição das informações, troquei as configurações do display. Seaborn será usado somente para elaboração de gráficos."
   ]
  },
  {
   "cell_type": "code",
   "execution_count": 18,
   "id": "3d43512b",
   "metadata": {
    "hidden": true
   },
   "outputs": [],
   "source": [
    "import pandas as pd\n",
    "import numpy as np\n",
    "import seaborn as sns\n",
    "sharks = pd.read_csv('data/attacks.csv', encoding='latin-1')\n",
    "pd.set_option('display.max_columns', 500)\n",
    "pd.set_option('display.max_rows', 50)"
   ]
  },
  {
   "cell_type": "markdown",
   "id": "74d175a3",
   "metadata": {
    "heading_collapsed": true
   },
   "source": [
    "# Primeira Análise"
   ]
  },
  {
   "cell_type": "markdown",
   "id": "4e8e90ba",
   "metadata": {
    "hidden": true
   },
   "source": [
    "Aqui, usei os principais métodos para uma análise exploratória primária dos dados. Algumas foram mais significativas do que outras, que acrescentaram pouco."
   ]
  },
  {
   "cell_type": "markdown",
   "id": "c368de60",
   "metadata": {
    "heading_collapsed": true,
    "hidden": true
   },
   "source": [
    "## Info"
   ]
  },
  {
   "cell_type": "code",
   "execution_count": 2,
   "id": "f4fb7464",
   "metadata": {
    "hidden": true
   },
   "outputs": [
    {
     "name": "stdout",
     "output_type": "stream",
     "text": [
      "<class 'pandas.core.frame.DataFrame'>\n",
      "RangeIndex: 25723 entries, 0 to 25722\n",
      "Data columns (total 24 columns):\n",
      " #   Column                  Non-Null Count  Dtype  \n",
      "---  ------                  --------------  -----  \n",
      " 0   Case Number             8702 non-null   object \n",
      " 1   Date                    6302 non-null   object \n",
      " 2   Year                    6300 non-null   float64\n",
      " 3   Type                    6298 non-null   object \n",
      " 4   Country                 6252 non-null   object \n",
      " 5   Area                    5847 non-null   object \n",
      " 6   Location                5762 non-null   object \n",
      " 7   Activity                5758 non-null   object \n",
      " 8   Name                    6092 non-null   object \n",
      " 9   Sex                     5737 non-null   object \n",
      " 10  Age                     3471 non-null   object \n",
      " 11  Injury                  6274 non-null   object \n",
      " 12  Fatal (Y/N)             5763 non-null   object \n",
      " 13  Time                    2948 non-null   object \n",
      " 14  Species                 3464 non-null   object \n",
      " 15  Investigator or Source  6285 non-null   object \n",
      " 16  pdf                     6302 non-null   object \n",
      " 17  href formula            6301 non-null   object \n",
      " 18  href                    6302 non-null   object \n",
      " 19  Case Number.1           6302 non-null   object \n",
      " 20  Case Number.2           6302 non-null   object \n",
      " 21  original order          6309 non-null   float64\n",
      " 22  Unnamed: 22             1 non-null      object \n",
      " 23  Unnamed: 23             2 non-null      object \n",
      "dtypes: float64(2), object(22)\n",
      "memory usage: 4.7+ MB\n"
     ]
    }
   ],
   "source": [
    "sharks.info()"
   ]
  },
  {
   "cell_type": "markdown",
   "id": "33826743",
   "metadata": {
    "hidden": true
   },
   "source": [
    "Análise breve: Vemos que, apesar dos 25 mil "
   ]
  },
  {
   "cell_type": "markdown",
   "id": "7c5df881",
   "metadata": {
    "heading_collapsed": true,
    "hidden": true
   },
   "source": [
    "## Columns"
   ]
  },
  {
   "cell_type": "code",
   "execution_count": 3,
   "id": "e71a4f82",
   "metadata": {
    "hidden": true
   },
   "outputs": [
    {
     "data": {
      "text/plain": [
       "Index(['Case Number', 'Date', 'Year', 'Type', 'Country', 'Area', 'Location',\n",
       "       'Activity', 'Name', 'Sex ', 'Age', 'Injury', 'Fatal (Y/N)', 'Time',\n",
       "       'Species ', 'Investigator or Source', 'pdf', 'href formula', 'href',\n",
       "       'Case Number.1', 'Case Number.2', 'original order', 'Unnamed: 22',\n",
       "       'Unnamed: 23'],\n",
       "      dtype='object')"
      ]
     },
     "execution_count": 3,
     "metadata": {},
     "output_type": "execute_result"
    }
   ],
   "source": [
    "sharks.columns"
   ]
  },
  {
   "cell_type": "markdown",
   "id": "20dc27e3",
   "metadata": {
    "heading_collapsed": true,
    "hidden": true
   },
   "source": [
    "## DTypes"
   ]
  },
  {
   "cell_type": "code",
   "execution_count": 4,
   "id": "0b51abcb",
   "metadata": {
    "hidden": true
   },
   "outputs": [
    {
     "data": {
      "text/plain": [
       "Case Number                object\n",
       "Date                       object\n",
       "Year                      float64\n",
       "Type                       object\n",
       "Country                    object\n",
       "Area                       object\n",
       "Location                   object\n",
       "Activity                   object\n",
       "Name                       object\n",
       "Sex                        object\n",
       "Age                        object\n",
       "Injury                     object\n",
       "Fatal (Y/N)                object\n",
       "Time                       object\n",
       "Species                    object\n",
       "Investigator or Source     object\n",
       "pdf                        object\n",
       "href formula               object\n",
       "href                       object\n",
       "Case Number.1              object\n",
       "Case Number.2              object\n",
       "original order            float64\n",
       "Unnamed: 22                object\n",
       "Unnamed: 23                object\n",
       "dtype: object"
      ]
     },
     "execution_count": 4,
     "metadata": {},
     "output_type": "execute_result"
    }
   ],
   "source": [
    "sharks.dtypes"
   ]
  },
  {
   "cell_type": "code",
   "execution_count": 5,
   "id": "cc7421ab",
   "metadata": {
    "hidden": true
   },
   "outputs": [
    {
     "data": {
      "text/plain": [
       "object     22\n",
       "float64     2\n",
       "dtype: int64"
      ]
     },
     "execution_count": 5,
     "metadata": {},
     "output_type": "execute_result"
    }
   ],
   "source": [
    "sharks.dtypes.value_counts()"
   ]
  },
  {
   "cell_type": "code",
   "execution_count": 6,
   "id": "6335fa0a",
   "metadata": {
    "hidden": true,
    "scrolled": true
   },
   "outputs": [
    {
     "data": {
      "text/html": [
       "<div>\n",
       "<style scoped>\n",
       "    .dataframe tbody tr th:only-of-type {\n",
       "        vertical-align: middle;\n",
       "    }\n",
       "\n",
       "    .dataframe tbody tr th {\n",
       "        vertical-align: top;\n",
       "    }\n",
       "\n",
       "    .dataframe thead th {\n",
       "        text-align: right;\n",
       "    }\n",
       "</style>\n",
       "<table border=\"1\" class=\"dataframe\">\n",
       "  <thead>\n",
       "    <tr style=\"text-align: right;\">\n",
       "      <th></th>\n",
       "      <th>Case Number</th>\n",
       "      <th>Date</th>\n",
       "      <th>Type</th>\n",
       "      <th>Country</th>\n",
       "      <th>Area</th>\n",
       "      <th>Location</th>\n",
       "      <th>Activity</th>\n",
       "      <th>Name</th>\n",
       "      <th>Sex</th>\n",
       "      <th>Age</th>\n",
       "      <th>Injury</th>\n",
       "      <th>Fatal (Y/N)</th>\n",
       "      <th>Time</th>\n",
       "      <th>Species</th>\n",
       "      <th>Investigator or Source</th>\n",
       "      <th>pdf</th>\n",
       "      <th>href formula</th>\n",
       "      <th>href</th>\n",
       "      <th>Case Number.1</th>\n",
       "      <th>Case Number.2</th>\n",
       "      <th>Unnamed: 22</th>\n",
       "      <th>Unnamed: 23</th>\n",
       "    </tr>\n",
       "  </thead>\n",
       "  <tbody>\n",
       "    <tr>\n",
       "      <th>0</th>\n",
       "      <td>2018.06.25</td>\n",
       "      <td>25-Jun-2018</td>\n",
       "      <td>Boating</td>\n",
       "      <td>USA</td>\n",
       "      <td>California</td>\n",
       "      <td>Oceanside, San Diego County</td>\n",
       "      <td>Paddling</td>\n",
       "      <td>Julie Wolfe</td>\n",
       "      <td>F</td>\n",
       "      <td>57</td>\n",
       "      <td>No injury to occupant, outrigger canoe and pad...</td>\n",
       "      <td>N</td>\n",
       "      <td>18h00</td>\n",
       "      <td>White shark</td>\n",
       "      <td>R. Collier, GSAF</td>\n",
       "      <td>2018.06.25-Wolfe.pdf</td>\n",
       "      <td>http://sharkattackfile.net/spreadsheets/pdf_di...</td>\n",
       "      <td>http://sharkattackfile.net/spreadsheets/pdf_di...</td>\n",
       "      <td>2018.06.25</td>\n",
       "      <td>2018.06.25</td>\n",
       "      <td>NaN</td>\n",
       "      <td>NaN</td>\n",
       "    </tr>\n",
       "    <tr>\n",
       "      <th>1</th>\n",
       "      <td>2018.06.18</td>\n",
       "      <td>18-Jun-2018</td>\n",
       "      <td>Unprovoked</td>\n",
       "      <td>USA</td>\n",
       "      <td>Georgia</td>\n",
       "      <td>St. Simon Island, Glynn County</td>\n",
       "      <td>Standing</td>\n",
       "      <td>Adyson McNeely</td>\n",
       "      <td>F</td>\n",
       "      <td>11</td>\n",
       "      <td>Minor injury to left thigh</td>\n",
       "      <td>N</td>\n",
       "      <td>14h00  -15h00</td>\n",
       "      <td>NaN</td>\n",
       "      <td>K.McMurray, TrackingSharks.com</td>\n",
       "      <td>2018.06.18-McNeely.pdf</td>\n",
       "      <td>http://sharkattackfile.net/spreadsheets/pdf_di...</td>\n",
       "      <td>http://sharkattackfile.net/spreadsheets/pdf_di...</td>\n",
       "      <td>2018.06.18</td>\n",
       "      <td>2018.06.18</td>\n",
       "      <td>NaN</td>\n",
       "      <td>NaN</td>\n",
       "    </tr>\n",
       "    <tr>\n",
       "      <th>2</th>\n",
       "      <td>2018.06.09</td>\n",
       "      <td>09-Jun-2018</td>\n",
       "      <td>Invalid</td>\n",
       "      <td>USA</td>\n",
       "      <td>Hawaii</td>\n",
       "      <td>Habush, Oahu</td>\n",
       "      <td>Surfing</td>\n",
       "      <td>John Denges</td>\n",
       "      <td>M</td>\n",
       "      <td>48</td>\n",
       "      <td>Injury to left lower leg from surfboard skeg</td>\n",
       "      <td>N</td>\n",
       "      <td>07h45</td>\n",
       "      <td>NaN</td>\n",
       "      <td>K.McMurray, TrackingSharks.com</td>\n",
       "      <td>2018.06.09-Denges.pdf</td>\n",
       "      <td>http://sharkattackfile.net/spreadsheets/pdf_di...</td>\n",
       "      <td>http://sharkattackfile.net/spreadsheets/pdf_di...</td>\n",
       "      <td>2018.06.09</td>\n",
       "      <td>2018.06.09</td>\n",
       "      <td>NaN</td>\n",
       "      <td>NaN</td>\n",
       "    </tr>\n",
       "    <tr>\n",
       "      <th>3</th>\n",
       "      <td>2018.06.08</td>\n",
       "      <td>08-Jun-2018</td>\n",
       "      <td>Unprovoked</td>\n",
       "      <td>AUSTRALIA</td>\n",
       "      <td>New South Wales</td>\n",
       "      <td>Arrawarra Headland</td>\n",
       "      <td>Surfing</td>\n",
       "      <td>male</td>\n",
       "      <td>M</td>\n",
       "      <td>NaN</td>\n",
       "      <td>Minor injury to lower leg</td>\n",
       "      <td>N</td>\n",
       "      <td>NaN</td>\n",
       "      <td>2 m shark</td>\n",
       "      <td>B. Myatt, GSAF</td>\n",
       "      <td>2018.06.08-Arrawarra.pdf</td>\n",
       "      <td>http://sharkattackfile.net/spreadsheets/pdf_di...</td>\n",
       "      <td>http://sharkattackfile.net/spreadsheets/pdf_di...</td>\n",
       "      <td>2018.06.08</td>\n",
       "      <td>2018.06.08</td>\n",
       "      <td>NaN</td>\n",
       "      <td>NaN</td>\n",
       "    </tr>\n",
       "    <tr>\n",
       "      <th>4</th>\n",
       "      <td>2018.06.04</td>\n",
       "      <td>04-Jun-2018</td>\n",
       "      <td>Provoked</td>\n",
       "      <td>MEXICO</td>\n",
       "      <td>Colima</td>\n",
       "      <td>La Ticla</td>\n",
       "      <td>Free diving</td>\n",
       "      <td>Gustavo Ramos</td>\n",
       "      <td>M</td>\n",
       "      <td>NaN</td>\n",
       "      <td>Lacerations to leg &amp; hand shark PROVOKED INCIDENT</td>\n",
       "      <td>N</td>\n",
       "      <td>NaN</td>\n",
       "      <td>Tiger shark, 3m</td>\n",
       "      <td>A .Kipper</td>\n",
       "      <td>2018.06.04-Ramos.pdf</td>\n",
       "      <td>http://sharkattackfile.net/spreadsheets/pdf_di...</td>\n",
       "      <td>http://sharkattackfile.net/spreadsheets/pdf_di...</td>\n",
       "      <td>2018.06.04</td>\n",
       "      <td>2018.06.04</td>\n",
       "      <td>NaN</td>\n",
       "      <td>NaN</td>\n",
       "    </tr>\n",
       "    <tr>\n",
       "      <th>...</th>\n",
       "      <td>...</td>\n",
       "      <td>...</td>\n",
       "      <td>...</td>\n",
       "      <td>...</td>\n",
       "      <td>...</td>\n",
       "      <td>...</td>\n",
       "      <td>...</td>\n",
       "      <td>...</td>\n",
       "      <td>...</td>\n",
       "      <td>...</td>\n",
       "      <td>...</td>\n",
       "      <td>...</td>\n",
       "      <td>...</td>\n",
       "      <td>...</td>\n",
       "      <td>...</td>\n",
       "      <td>...</td>\n",
       "      <td>...</td>\n",
       "      <td>...</td>\n",
       "      <td>...</td>\n",
       "      <td>...</td>\n",
       "      <td>...</td>\n",
       "      <td>...</td>\n",
       "    </tr>\n",
       "    <tr>\n",
       "      <th>25718</th>\n",
       "      <td>NaN</td>\n",
       "      <td>NaN</td>\n",
       "      <td>NaN</td>\n",
       "      <td>NaN</td>\n",
       "      <td>NaN</td>\n",
       "      <td>NaN</td>\n",
       "      <td>NaN</td>\n",
       "      <td>NaN</td>\n",
       "      <td>NaN</td>\n",
       "      <td>NaN</td>\n",
       "      <td>NaN</td>\n",
       "      <td>NaN</td>\n",
       "      <td>NaN</td>\n",
       "      <td>NaN</td>\n",
       "      <td>NaN</td>\n",
       "      <td>NaN</td>\n",
       "      <td>NaN</td>\n",
       "      <td>NaN</td>\n",
       "      <td>NaN</td>\n",
       "      <td>NaN</td>\n",
       "      <td>NaN</td>\n",
       "      <td>NaN</td>\n",
       "    </tr>\n",
       "    <tr>\n",
       "      <th>25719</th>\n",
       "      <td>NaN</td>\n",
       "      <td>NaN</td>\n",
       "      <td>NaN</td>\n",
       "      <td>NaN</td>\n",
       "      <td>NaN</td>\n",
       "      <td>NaN</td>\n",
       "      <td>NaN</td>\n",
       "      <td>NaN</td>\n",
       "      <td>NaN</td>\n",
       "      <td>NaN</td>\n",
       "      <td>NaN</td>\n",
       "      <td>NaN</td>\n",
       "      <td>NaN</td>\n",
       "      <td>NaN</td>\n",
       "      <td>NaN</td>\n",
       "      <td>NaN</td>\n",
       "      <td>NaN</td>\n",
       "      <td>NaN</td>\n",
       "      <td>NaN</td>\n",
       "      <td>NaN</td>\n",
       "      <td>NaN</td>\n",
       "      <td>NaN</td>\n",
       "    </tr>\n",
       "    <tr>\n",
       "      <th>25720</th>\n",
       "      <td>NaN</td>\n",
       "      <td>NaN</td>\n",
       "      <td>NaN</td>\n",
       "      <td>NaN</td>\n",
       "      <td>NaN</td>\n",
       "      <td>NaN</td>\n",
       "      <td>NaN</td>\n",
       "      <td>NaN</td>\n",
       "      <td>NaN</td>\n",
       "      <td>NaN</td>\n",
       "      <td>NaN</td>\n",
       "      <td>NaN</td>\n",
       "      <td>NaN</td>\n",
       "      <td>NaN</td>\n",
       "      <td>NaN</td>\n",
       "      <td>NaN</td>\n",
       "      <td>NaN</td>\n",
       "      <td>NaN</td>\n",
       "      <td>NaN</td>\n",
       "      <td>NaN</td>\n",
       "      <td>NaN</td>\n",
       "      <td>NaN</td>\n",
       "    </tr>\n",
       "    <tr>\n",
       "      <th>25721</th>\n",
       "      <td>NaN</td>\n",
       "      <td>NaN</td>\n",
       "      <td>NaN</td>\n",
       "      <td>NaN</td>\n",
       "      <td>NaN</td>\n",
       "      <td>NaN</td>\n",
       "      <td>NaN</td>\n",
       "      <td>NaN</td>\n",
       "      <td>NaN</td>\n",
       "      <td>NaN</td>\n",
       "      <td>NaN</td>\n",
       "      <td>NaN</td>\n",
       "      <td>NaN</td>\n",
       "      <td>NaN</td>\n",
       "      <td>NaN</td>\n",
       "      <td>NaN</td>\n",
       "      <td>NaN</td>\n",
       "      <td>NaN</td>\n",
       "      <td>NaN</td>\n",
       "      <td>NaN</td>\n",
       "      <td>NaN</td>\n",
       "      <td>NaN</td>\n",
       "    </tr>\n",
       "    <tr>\n",
       "      <th>25722</th>\n",
       "      <td>xx</td>\n",
       "      <td>NaN</td>\n",
       "      <td>NaN</td>\n",
       "      <td>NaN</td>\n",
       "      <td>NaN</td>\n",
       "      <td>NaN</td>\n",
       "      <td>NaN</td>\n",
       "      <td>NaN</td>\n",
       "      <td>NaN</td>\n",
       "      <td>NaN</td>\n",
       "      <td>NaN</td>\n",
       "      <td>NaN</td>\n",
       "      <td>NaN</td>\n",
       "      <td>NaN</td>\n",
       "      <td>NaN</td>\n",
       "      <td>NaN</td>\n",
       "      <td>NaN</td>\n",
       "      <td>NaN</td>\n",
       "      <td>NaN</td>\n",
       "      <td>NaN</td>\n",
       "      <td>NaN</td>\n",
       "      <td>NaN</td>\n",
       "    </tr>\n",
       "  </tbody>\n",
       "</table>\n",
       "<p>25723 rows × 22 columns</p>\n",
       "</div>"
      ],
      "text/plain": [
       "      Case Number         Date        Type    Country             Area  \\\n",
       "0      2018.06.25  25-Jun-2018     Boating        USA       California   \n",
       "1      2018.06.18  18-Jun-2018  Unprovoked        USA          Georgia   \n",
       "2      2018.06.09  09-Jun-2018     Invalid        USA           Hawaii   \n",
       "3      2018.06.08  08-Jun-2018  Unprovoked  AUSTRALIA  New South Wales   \n",
       "4      2018.06.04  04-Jun-2018    Provoked     MEXICO           Colima   \n",
       "...           ...          ...         ...        ...              ...   \n",
       "25718         NaN          NaN         NaN        NaN              NaN   \n",
       "25719         NaN          NaN         NaN        NaN              NaN   \n",
       "25720         NaN          NaN         NaN        NaN              NaN   \n",
       "25721         NaN          NaN         NaN        NaN              NaN   \n",
       "25722          xx          NaN         NaN        NaN              NaN   \n",
       "\n",
       "                             Location     Activity             Name Sex   Age  \\\n",
       "0         Oceanside, San Diego County     Paddling      Julie Wolfe    F   57   \n",
       "1      St. Simon Island, Glynn County     Standing  Adyson McNeely     F   11   \n",
       "2                        Habush, Oahu      Surfing      John Denges    M   48   \n",
       "3                  Arrawarra Headland      Surfing             male    M  NaN   \n",
       "4                            La Ticla  Free diving   Gustavo Ramos     M  NaN   \n",
       "...                               ...          ...              ...  ...  ...   \n",
       "25718                             NaN          NaN              NaN  NaN  NaN   \n",
       "25719                             NaN          NaN              NaN  NaN  NaN   \n",
       "25720                             NaN          NaN              NaN  NaN  NaN   \n",
       "25721                             NaN          NaN              NaN  NaN  NaN   \n",
       "25722                             NaN          NaN              NaN  NaN  NaN   \n",
       "\n",
       "                                                  Injury Fatal (Y/N)  \\\n",
       "0      No injury to occupant, outrigger canoe and pad...           N   \n",
       "1                             Minor injury to left thigh           N   \n",
       "2           Injury to left lower leg from surfboard skeg           N   \n",
       "3                              Minor injury to lower leg           N   \n",
       "4      Lacerations to leg & hand shark PROVOKED INCIDENT           N   \n",
       "...                                                  ...         ...   \n",
       "25718                                                NaN         NaN   \n",
       "25719                                                NaN         NaN   \n",
       "25720                                                NaN         NaN   \n",
       "25721                                                NaN         NaN   \n",
       "25722                                                NaN         NaN   \n",
       "\n",
       "                Time         Species           Investigator or Source  \\\n",
       "0              18h00      White shark                R. Collier, GSAF   \n",
       "1      14h00  -15h00              NaN  K.McMurray, TrackingSharks.com   \n",
       "2              07h45              NaN  K.McMurray, TrackingSharks.com   \n",
       "3                NaN        2 m shark                  B. Myatt, GSAF   \n",
       "4                NaN  Tiger shark, 3m                       A .Kipper   \n",
       "...              ...              ...                             ...   \n",
       "25718            NaN              NaN                             NaN   \n",
       "25719            NaN              NaN                             NaN   \n",
       "25720            NaN              NaN                             NaN   \n",
       "25721            NaN              NaN                             NaN   \n",
       "25722            NaN              NaN                             NaN   \n",
       "\n",
       "                            pdf  \\\n",
       "0          2018.06.25-Wolfe.pdf   \n",
       "1        2018.06.18-McNeely.pdf   \n",
       "2         2018.06.09-Denges.pdf   \n",
       "3      2018.06.08-Arrawarra.pdf   \n",
       "4          2018.06.04-Ramos.pdf   \n",
       "...                         ...   \n",
       "25718                       NaN   \n",
       "25719                       NaN   \n",
       "25720                       NaN   \n",
       "25721                       NaN   \n",
       "25722                       NaN   \n",
       "\n",
       "                                            href formula  \\\n",
       "0      http://sharkattackfile.net/spreadsheets/pdf_di...   \n",
       "1      http://sharkattackfile.net/spreadsheets/pdf_di...   \n",
       "2      http://sharkattackfile.net/spreadsheets/pdf_di...   \n",
       "3      http://sharkattackfile.net/spreadsheets/pdf_di...   \n",
       "4      http://sharkattackfile.net/spreadsheets/pdf_di...   \n",
       "...                                                  ...   \n",
       "25718                                                NaN   \n",
       "25719                                                NaN   \n",
       "25720                                                NaN   \n",
       "25721                                                NaN   \n",
       "25722                                                NaN   \n",
       "\n",
       "                                                    href Case Number.1  \\\n",
       "0      http://sharkattackfile.net/spreadsheets/pdf_di...    2018.06.25   \n",
       "1      http://sharkattackfile.net/spreadsheets/pdf_di...    2018.06.18   \n",
       "2      http://sharkattackfile.net/spreadsheets/pdf_di...    2018.06.09   \n",
       "3      http://sharkattackfile.net/spreadsheets/pdf_di...    2018.06.08   \n",
       "4      http://sharkattackfile.net/spreadsheets/pdf_di...    2018.06.04   \n",
       "...                                                  ...           ...   \n",
       "25718                                                NaN           NaN   \n",
       "25719                                                NaN           NaN   \n",
       "25720                                                NaN           NaN   \n",
       "25721                                                NaN           NaN   \n",
       "25722                                                NaN           NaN   \n",
       "\n",
       "      Case Number.2 Unnamed: 22 Unnamed: 23  \n",
       "0        2018.06.25         NaN         NaN  \n",
       "1        2018.06.18         NaN         NaN  \n",
       "2        2018.06.09         NaN         NaN  \n",
       "3        2018.06.08         NaN         NaN  \n",
       "4        2018.06.04         NaN         NaN  \n",
       "...             ...         ...         ...  \n",
       "25718           NaN         NaN         NaN  \n",
       "25719           NaN         NaN         NaN  \n",
       "25720           NaN         NaN         NaN  \n",
       "25721           NaN         NaN         NaN  \n",
       "25722           NaN         NaN         NaN  \n",
       "\n",
       "[25723 rows x 22 columns]"
      ]
     },
     "execution_count": 6,
     "metadata": {},
     "output_type": "execute_result"
    }
   ],
   "source": [
    "sharks.select_dtypes(include='object')"
   ]
  },
  {
   "cell_type": "code",
   "execution_count": 7,
   "id": "7e39dd15",
   "metadata": {
    "hidden": true
   },
   "outputs": [
    {
     "name": "stdout",
     "output_type": "stream",
     "text": [
      "<class 'pandas.core.frame.DataFrame'>\n",
      "RangeIndex: 25723 entries, 0 to 25722\n",
      "Data columns (total 22 columns):\n",
      " #   Column                  Non-Null Count  Dtype \n",
      "---  ------                  --------------  ----- \n",
      " 0   Case Number             8702 non-null   object\n",
      " 1   Date                    6302 non-null   object\n",
      " 2   Type                    6298 non-null   object\n",
      " 3   Country                 6252 non-null   object\n",
      " 4   Area                    5847 non-null   object\n",
      " 5   Location                5762 non-null   object\n",
      " 6   Activity                5758 non-null   object\n",
      " 7   Name                    6092 non-null   object\n",
      " 8   Sex                     5737 non-null   object\n",
      " 9   Age                     3471 non-null   object\n",
      " 10  Injury                  6274 non-null   object\n",
      " 11  Fatal (Y/N)             5763 non-null   object\n",
      " 12  Time                    2948 non-null   object\n",
      " 13  Species                 3464 non-null   object\n",
      " 14  Investigator or Source  6285 non-null   object\n",
      " 15  pdf                     6302 non-null   object\n",
      " 16  href formula            6301 non-null   object\n",
      " 17  href                    6302 non-null   object\n",
      " 18  Case Number.1           6302 non-null   object\n",
      " 19  Case Number.2           6302 non-null   object\n",
      " 20  Unnamed: 22             1 non-null      object\n",
      " 21  Unnamed: 23             2 non-null      object\n",
      "dtypes: object(22)\n",
      "memory usage: 4.3+ MB\n"
     ]
    }
   ],
   "source": [
    "sharks.select_dtypes(include='object').info()"
   ]
  },
  {
   "cell_type": "markdown",
   "id": "b97e0f58",
   "metadata": {
    "heading_collapsed": true,
    "hidden": true
   },
   "source": [
    "## Describe"
   ]
  },
  {
   "cell_type": "code",
   "execution_count": 8,
   "id": "d2ec5575",
   "metadata": {
    "hidden": true
   },
   "outputs": [
    {
     "data": {
      "text/html": [
       "<div>\n",
       "<style scoped>\n",
       "    .dataframe tbody tr th:only-of-type {\n",
       "        vertical-align: middle;\n",
       "    }\n",
       "\n",
       "    .dataframe tbody tr th {\n",
       "        vertical-align: top;\n",
       "    }\n",
       "\n",
       "    .dataframe thead th {\n",
       "        text-align: right;\n",
       "    }\n",
       "</style>\n",
       "<table border=\"1\" class=\"dataframe\">\n",
       "  <thead>\n",
       "    <tr style=\"text-align: right;\">\n",
       "      <th></th>\n",
       "      <th>Year</th>\n",
       "      <th>original order</th>\n",
       "    </tr>\n",
       "  </thead>\n",
       "  <tbody>\n",
       "    <tr>\n",
       "      <th>count</th>\n",
       "      <td>6300.000000</td>\n",
       "      <td>6309.000000</td>\n",
       "    </tr>\n",
       "    <tr>\n",
       "      <th>mean</th>\n",
       "      <td>1927.272381</td>\n",
       "      <td>3155.999683</td>\n",
       "    </tr>\n",
       "    <tr>\n",
       "      <th>std</th>\n",
       "      <td>281.116308</td>\n",
       "      <td>1821.396206</td>\n",
       "    </tr>\n",
       "    <tr>\n",
       "      <th>min</th>\n",
       "      <td>0.000000</td>\n",
       "      <td>2.000000</td>\n",
       "    </tr>\n",
       "    <tr>\n",
       "      <th>25%</th>\n",
       "      <td>1942.000000</td>\n",
       "      <td>1579.000000</td>\n",
       "    </tr>\n",
       "    <tr>\n",
       "      <th>50%</th>\n",
       "      <td>1977.000000</td>\n",
       "      <td>3156.000000</td>\n",
       "    </tr>\n",
       "    <tr>\n",
       "      <th>75%</th>\n",
       "      <td>2005.000000</td>\n",
       "      <td>4733.000000</td>\n",
       "    </tr>\n",
       "    <tr>\n",
       "      <th>max</th>\n",
       "      <td>2018.000000</td>\n",
       "      <td>6310.000000</td>\n",
       "    </tr>\n",
       "  </tbody>\n",
       "</table>\n",
       "</div>"
      ],
      "text/plain": [
       "              Year  original order\n",
       "count  6300.000000     6309.000000\n",
       "mean   1927.272381     3155.999683\n",
       "std     281.116308     1821.396206\n",
       "min       0.000000        2.000000\n",
       "25%    1942.000000     1579.000000\n",
       "50%    1977.000000     3156.000000\n",
       "75%    2005.000000     4733.000000\n",
       "max    2018.000000     6310.000000"
      ]
     },
     "execution_count": 8,
     "metadata": {},
     "output_type": "execute_result"
    }
   ],
   "source": [
    "sharks.describe()"
   ]
  },
  {
   "cell_type": "markdown",
   "id": "ee6e9b1e",
   "metadata": {
    "heading_collapsed": true,
    "hidden": true
   },
   "source": [
    "## Head"
   ]
  },
  {
   "cell_type": "code",
   "execution_count": 9,
   "id": "a6572780",
   "metadata": {
    "hidden": true
   },
   "outputs": [
    {
     "data": {
      "text/html": [
       "<div>\n",
       "<style scoped>\n",
       "    .dataframe tbody tr th:only-of-type {\n",
       "        vertical-align: middle;\n",
       "    }\n",
       "\n",
       "    .dataframe tbody tr th {\n",
       "        vertical-align: top;\n",
       "    }\n",
       "\n",
       "    .dataframe thead th {\n",
       "        text-align: right;\n",
       "    }\n",
       "</style>\n",
       "<table border=\"1\" class=\"dataframe\">\n",
       "  <thead>\n",
       "    <tr style=\"text-align: right;\">\n",
       "      <th></th>\n",
       "      <th>Case Number</th>\n",
       "      <th>Date</th>\n",
       "      <th>Year</th>\n",
       "      <th>Type</th>\n",
       "      <th>Country</th>\n",
       "      <th>Area</th>\n",
       "      <th>Location</th>\n",
       "      <th>Activity</th>\n",
       "      <th>Name</th>\n",
       "      <th>Sex</th>\n",
       "      <th>Age</th>\n",
       "      <th>Injury</th>\n",
       "      <th>Fatal (Y/N)</th>\n",
       "      <th>Time</th>\n",
       "      <th>Species</th>\n",
       "      <th>Investigator or Source</th>\n",
       "      <th>pdf</th>\n",
       "      <th>href formula</th>\n",
       "      <th>href</th>\n",
       "      <th>Case Number.1</th>\n",
       "      <th>Case Number.2</th>\n",
       "      <th>original order</th>\n",
       "      <th>Unnamed: 22</th>\n",
       "      <th>Unnamed: 23</th>\n",
       "    </tr>\n",
       "  </thead>\n",
       "  <tbody>\n",
       "    <tr>\n",
       "      <th>0</th>\n",
       "      <td>2018.06.25</td>\n",
       "      <td>25-Jun-2018</td>\n",
       "      <td>2018.0</td>\n",
       "      <td>Boating</td>\n",
       "      <td>USA</td>\n",
       "      <td>California</td>\n",
       "      <td>Oceanside, San Diego County</td>\n",
       "      <td>Paddling</td>\n",
       "      <td>Julie Wolfe</td>\n",
       "      <td>F</td>\n",
       "      <td>57</td>\n",
       "      <td>No injury to occupant, outrigger canoe and pad...</td>\n",
       "      <td>N</td>\n",
       "      <td>18h00</td>\n",
       "      <td>White shark</td>\n",
       "      <td>R. Collier, GSAF</td>\n",
       "      <td>2018.06.25-Wolfe.pdf</td>\n",
       "      <td>http://sharkattackfile.net/spreadsheets/pdf_di...</td>\n",
       "      <td>http://sharkattackfile.net/spreadsheets/pdf_di...</td>\n",
       "      <td>2018.06.25</td>\n",
       "      <td>2018.06.25</td>\n",
       "      <td>6303.0</td>\n",
       "      <td>NaN</td>\n",
       "      <td>NaN</td>\n",
       "    </tr>\n",
       "    <tr>\n",
       "      <th>1</th>\n",
       "      <td>2018.06.18</td>\n",
       "      <td>18-Jun-2018</td>\n",
       "      <td>2018.0</td>\n",
       "      <td>Unprovoked</td>\n",
       "      <td>USA</td>\n",
       "      <td>Georgia</td>\n",
       "      <td>St. Simon Island, Glynn County</td>\n",
       "      <td>Standing</td>\n",
       "      <td>Adyson McNeely</td>\n",
       "      <td>F</td>\n",
       "      <td>11</td>\n",
       "      <td>Minor injury to left thigh</td>\n",
       "      <td>N</td>\n",
       "      <td>14h00  -15h00</td>\n",
       "      <td>NaN</td>\n",
       "      <td>K.McMurray, TrackingSharks.com</td>\n",
       "      <td>2018.06.18-McNeely.pdf</td>\n",
       "      <td>http://sharkattackfile.net/spreadsheets/pdf_di...</td>\n",
       "      <td>http://sharkattackfile.net/spreadsheets/pdf_di...</td>\n",
       "      <td>2018.06.18</td>\n",
       "      <td>2018.06.18</td>\n",
       "      <td>6302.0</td>\n",
       "      <td>NaN</td>\n",
       "      <td>NaN</td>\n",
       "    </tr>\n",
       "    <tr>\n",
       "      <th>2</th>\n",
       "      <td>2018.06.09</td>\n",
       "      <td>09-Jun-2018</td>\n",
       "      <td>2018.0</td>\n",
       "      <td>Invalid</td>\n",
       "      <td>USA</td>\n",
       "      <td>Hawaii</td>\n",
       "      <td>Habush, Oahu</td>\n",
       "      <td>Surfing</td>\n",
       "      <td>John Denges</td>\n",
       "      <td>M</td>\n",
       "      <td>48</td>\n",
       "      <td>Injury to left lower leg from surfboard skeg</td>\n",
       "      <td>N</td>\n",
       "      <td>07h45</td>\n",
       "      <td>NaN</td>\n",
       "      <td>K.McMurray, TrackingSharks.com</td>\n",
       "      <td>2018.06.09-Denges.pdf</td>\n",
       "      <td>http://sharkattackfile.net/spreadsheets/pdf_di...</td>\n",
       "      <td>http://sharkattackfile.net/spreadsheets/pdf_di...</td>\n",
       "      <td>2018.06.09</td>\n",
       "      <td>2018.06.09</td>\n",
       "      <td>6301.0</td>\n",
       "      <td>NaN</td>\n",
       "      <td>NaN</td>\n",
       "    </tr>\n",
       "    <tr>\n",
       "      <th>3</th>\n",
       "      <td>2018.06.08</td>\n",
       "      <td>08-Jun-2018</td>\n",
       "      <td>2018.0</td>\n",
       "      <td>Unprovoked</td>\n",
       "      <td>AUSTRALIA</td>\n",
       "      <td>New South Wales</td>\n",
       "      <td>Arrawarra Headland</td>\n",
       "      <td>Surfing</td>\n",
       "      <td>male</td>\n",
       "      <td>M</td>\n",
       "      <td>NaN</td>\n",
       "      <td>Minor injury to lower leg</td>\n",
       "      <td>N</td>\n",
       "      <td>NaN</td>\n",
       "      <td>2 m shark</td>\n",
       "      <td>B. Myatt, GSAF</td>\n",
       "      <td>2018.06.08-Arrawarra.pdf</td>\n",
       "      <td>http://sharkattackfile.net/spreadsheets/pdf_di...</td>\n",
       "      <td>http://sharkattackfile.net/spreadsheets/pdf_di...</td>\n",
       "      <td>2018.06.08</td>\n",
       "      <td>2018.06.08</td>\n",
       "      <td>6300.0</td>\n",
       "      <td>NaN</td>\n",
       "      <td>NaN</td>\n",
       "    </tr>\n",
       "    <tr>\n",
       "      <th>4</th>\n",
       "      <td>2018.06.04</td>\n",
       "      <td>04-Jun-2018</td>\n",
       "      <td>2018.0</td>\n",
       "      <td>Provoked</td>\n",
       "      <td>MEXICO</td>\n",
       "      <td>Colima</td>\n",
       "      <td>La Ticla</td>\n",
       "      <td>Free diving</td>\n",
       "      <td>Gustavo Ramos</td>\n",
       "      <td>M</td>\n",
       "      <td>NaN</td>\n",
       "      <td>Lacerations to leg &amp; hand shark PROVOKED INCIDENT</td>\n",
       "      <td>N</td>\n",
       "      <td>NaN</td>\n",
       "      <td>Tiger shark, 3m</td>\n",
       "      <td>A .Kipper</td>\n",
       "      <td>2018.06.04-Ramos.pdf</td>\n",
       "      <td>http://sharkattackfile.net/spreadsheets/pdf_di...</td>\n",
       "      <td>http://sharkattackfile.net/spreadsheets/pdf_di...</td>\n",
       "      <td>2018.06.04</td>\n",
       "      <td>2018.06.04</td>\n",
       "      <td>6299.0</td>\n",
       "      <td>NaN</td>\n",
       "      <td>NaN</td>\n",
       "    </tr>\n",
       "  </tbody>\n",
       "</table>\n",
       "</div>"
      ],
      "text/plain": [
       "  Case Number         Date    Year        Type    Country             Area  \\\n",
       "0  2018.06.25  25-Jun-2018  2018.0     Boating        USA       California   \n",
       "1  2018.06.18  18-Jun-2018  2018.0  Unprovoked        USA          Georgia   \n",
       "2  2018.06.09  09-Jun-2018  2018.0     Invalid        USA           Hawaii   \n",
       "3  2018.06.08  08-Jun-2018  2018.0  Unprovoked  AUSTRALIA  New South Wales   \n",
       "4  2018.06.04  04-Jun-2018  2018.0    Provoked     MEXICO           Colima   \n",
       "\n",
       "                         Location     Activity             Name Sex   Age  \\\n",
       "0     Oceanside, San Diego County     Paddling      Julie Wolfe    F   57   \n",
       "1  St. Simon Island, Glynn County     Standing  Adyson McNeely     F   11   \n",
       "2                    Habush, Oahu      Surfing      John Denges    M   48   \n",
       "3              Arrawarra Headland      Surfing             male    M  NaN   \n",
       "4                        La Ticla  Free diving   Gustavo Ramos     M  NaN   \n",
       "\n",
       "                                              Injury Fatal (Y/N)  \\\n",
       "0  No injury to occupant, outrigger canoe and pad...           N   \n",
       "1                         Minor injury to left thigh           N   \n",
       "2       Injury to left lower leg from surfboard skeg           N   \n",
       "3                          Minor injury to lower leg           N   \n",
       "4  Lacerations to leg & hand shark PROVOKED INCIDENT           N   \n",
       "\n",
       "            Time         Species           Investigator or Source  \\\n",
       "0          18h00      White shark                R. Collier, GSAF   \n",
       "1  14h00  -15h00              NaN  K.McMurray, TrackingSharks.com   \n",
       "2          07h45              NaN  K.McMurray, TrackingSharks.com   \n",
       "3            NaN        2 m shark                  B. Myatt, GSAF   \n",
       "4            NaN  Tiger shark, 3m                       A .Kipper   \n",
       "\n",
       "                        pdf  \\\n",
       "0      2018.06.25-Wolfe.pdf   \n",
       "1    2018.06.18-McNeely.pdf   \n",
       "2     2018.06.09-Denges.pdf   \n",
       "3  2018.06.08-Arrawarra.pdf   \n",
       "4      2018.06.04-Ramos.pdf   \n",
       "\n",
       "                                        href formula  \\\n",
       "0  http://sharkattackfile.net/spreadsheets/pdf_di...   \n",
       "1  http://sharkattackfile.net/spreadsheets/pdf_di...   \n",
       "2  http://sharkattackfile.net/spreadsheets/pdf_di...   \n",
       "3  http://sharkattackfile.net/spreadsheets/pdf_di...   \n",
       "4  http://sharkattackfile.net/spreadsheets/pdf_di...   \n",
       "\n",
       "                                                href Case Number.1  \\\n",
       "0  http://sharkattackfile.net/spreadsheets/pdf_di...    2018.06.25   \n",
       "1  http://sharkattackfile.net/spreadsheets/pdf_di...    2018.06.18   \n",
       "2  http://sharkattackfile.net/spreadsheets/pdf_di...    2018.06.09   \n",
       "3  http://sharkattackfile.net/spreadsheets/pdf_di...    2018.06.08   \n",
       "4  http://sharkattackfile.net/spreadsheets/pdf_di...    2018.06.04   \n",
       "\n",
       "  Case Number.2  original order Unnamed: 22 Unnamed: 23  \n",
       "0    2018.06.25          6303.0         NaN         NaN  \n",
       "1    2018.06.18          6302.0         NaN         NaN  \n",
       "2    2018.06.09          6301.0         NaN         NaN  \n",
       "3    2018.06.08          6300.0         NaN         NaN  \n",
       "4    2018.06.04          6299.0         NaN         NaN  "
      ]
     },
     "execution_count": 9,
     "metadata": {},
     "output_type": "execute_result"
    }
   ],
   "source": [
    "sharks.head()"
   ]
  },
  {
   "cell_type": "markdown",
   "id": "5e61ab99",
   "metadata": {
    "heading_collapsed": true,
    "hidden": true
   },
   "source": [
    "## Tail"
   ]
  },
  {
   "cell_type": "code",
   "execution_count": 10,
   "id": "61db9b41",
   "metadata": {
    "hidden": true,
    "scrolled": true
   },
   "outputs": [
    {
     "data": {
      "text/html": [
       "<div>\n",
       "<style scoped>\n",
       "    .dataframe tbody tr th:only-of-type {\n",
       "        vertical-align: middle;\n",
       "    }\n",
       "\n",
       "    .dataframe tbody tr th {\n",
       "        vertical-align: top;\n",
       "    }\n",
       "\n",
       "    .dataframe thead th {\n",
       "        text-align: right;\n",
       "    }\n",
       "</style>\n",
       "<table border=\"1\" class=\"dataframe\">\n",
       "  <thead>\n",
       "    <tr style=\"text-align: right;\">\n",
       "      <th></th>\n",
       "      <th>Case Number</th>\n",
       "      <th>Date</th>\n",
       "      <th>Year</th>\n",
       "      <th>Type</th>\n",
       "      <th>Country</th>\n",
       "      <th>Area</th>\n",
       "      <th>Location</th>\n",
       "      <th>Activity</th>\n",
       "      <th>Name</th>\n",
       "      <th>Sex</th>\n",
       "      <th>Age</th>\n",
       "      <th>Injury</th>\n",
       "      <th>Fatal (Y/N)</th>\n",
       "      <th>Time</th>\n",
       "      <th>Species</th>\n",
       "      <th>Investigator or Source</th>\n",
       "      <th>pdf</th>\n",
       "      <th>href formula</th>\n",
       "      <th>href</th>\n",
       "      <th>Case Number.1</th>\n",
       "      <th>Case Number.2</th>\n",
       "      <th>original order</th>\n",
       "      <th>Unnamed: 22</th>\n",
       "      <th>Unnamed: 23</th>\n",
       "    </tr>\n",
       "  </thead>\n",
       "  <tbody>\n",
       "    <tr>\n",
       "      <th>25718</th>\n",
       "      <td>NaN</td>\n",
       "      <td>NaN</td>\n",
       "      <td>NaN</td>\n",
       "      <td>NaN</td>\n",
       "      <td>NaN</td>\n",
       "      <td>NaN</td>\n",
       "      <td>NaN</td>\n",
       "      <td>NaN</td>\n",
       "      <td>NaN</td>\n",
       "      <td>NaN</td>\n",
       "      <td>NaN</td>\n",
       "      <td>NaN</td>\n",
       "      <td>NaN</td>\n",
       "      <td>NaN</td>\n",
       "      <td>NaN</td>\n",
       "      <td>NaN</td>\n",
       "      <td>NaN</td>\n",
       "      <td>NaN</td>\n",
       "      <td>NaN</td>\n",
       "      <td>NaN</td>\n",
       "      <td>NaN</td>\n",
       "      <td>NaN</td>\n",
       "      <td>NaN</td>\n",
       "      <td>NaN</td>\n",
       "    </tr>\n",
       "    <tr>\n",
       "      <th>25719</th>\n",
       "      <td>NaN</td>\n",
       "      <td>NaN</td>\n",
       "      <td>NaN</td>\n",
       "      <td>NaN</td>\n",
       "      <td>NaN</td>\n",
       "      <td>NaN</td>\n",
       "      <td>NaN</td>\n",
       "      <td>NaN</td>\n",
       "      <td>NaN</td>\n",
       "      <td>NaN</td>\n",
       "      <td>NaN</td>\n",
       "      <td>NaN</td>\n",
       "      <td>NaN</td>\n",
       "      <td>NaN</td>\n",
       "      <td>NaN</td>\n",
       "      <td>NaN</td>\n",
       "      <td>NaN</td>\n",
       "      <td>NaN</td>\n",
       "      <td>NaN</td>\n",
       "      <td>NaN</td>\n",
       "      <td>NaN</td>\n",
       "      <td>NaN</td>\n",
       "      <td>NaN</td>\n",
       "      <td>NaN</td>\n",
       "    </tr>\n",
       "    <tr>\n",
       "      <th>25720</th>\n",
       "      <td>NaN</td>\n",
       "      <td>NaN</td>\n",
       "      <td>NaN</td>\n",
       "      <td>NaN</td>\n",
       "      <td>NaN</td>\n",
       "      <td>NaN</td>\n",
       "      <td>NaN</td>\n",
       "      <td>NaN</td>\n",
       "      <td>NaN</td>\n",
       "      <td>NaN</td>\n",
       "      <td>NaN</td>\n",
       "      <td>NaN</td>\n",
       "      <td>NaN</td>\n",
       "      <td>NaN</td>\n",
       "      <td>NaN</td>\n",
       "      <td>NaN</td>\n",
       "      <td>NaN</td>\n",
       "      <td>NaN</td>\n",
       "      <td>NaN</td>\n",
       "      <td>NaN</td>\n",
       "      <td>NaN</td>\n",
       "      <td>NaN</td>\n",
       "      <td>NaN</td>\n",
       "      <td>NaN</td>\n",
       "    </tr>\n",
       "    <tr>\n",
       "      <th>25721</th>\n",
       "      <td>NaN</td>\n",
       "      <td>NaN</td>\n",
       "      <td>NaN</td>\n",
       "      <td>NaN</td>\n",
       "      <td>NaN</td>\n",
       "      <td>NaN</td>\n",
       "      <td>NaN</td>\n",
       "      <td>NaN</td>\n",
       "      <td>NaN</td>\n",
       "      <td>NaN</td>\n",
       "      <td>NaN</td>\n",
       "      <td>NaN</td>\n",
       "      <td>NaN</td>\n",
       "      <td>NaN</td>\n",
       "      <td>NaN</td>\n",
       "      <td>NaN</td>\n",
       "      <td>NaN</td>\n",
       "      <td>NaN</td>\n",
       "      <td>NaN</td>\n",
       "      <td>NaN</td>\n",
       "      <td>NaN</td>\n",
       "      <td>NaN</td>\n",
       "      <td>NaN</td>\n",
       "      <td>NaN</td>\n",
       "    </tr>\n",
       "    <tr>\n",
       "      <th>25722</th>\n",
       "      <td>xx</td>\n",
       "      <td>NaN</td>\n",
       "      <td>NaN</td>\n",
       "      <td>NaN</td>\n",
       "      <td>NaN</td>\n",
       "      <td>NaN</td>\n",
       "      <td>NaN</td>\n",
       "      <td>NaN</td>\n",
       "      <td>NaN</td>\n",
       "      <td>NaN</td>\n",
       "      <td>NaN</td>\n",
       "      <td>NaN</td>\n",
       "      <td>NaN</td>\n",
       "      <td>NaN</td>\n",
       "      <td>NaN</td>\n",
       "      <td>NaN</td>\n",
       "      <td>NaN</td>\n",
       "      <td>NaN</td>\n",
       "      <td>NaN</td>\n",
       "      <td>NaN</td>\n",
       "      <td>NaN</td>\n",
       "      <td>NaN</td>\n",
       "      <td>NaN</td>\n",
       "      <td>NaN</td>\n",
       "    </tr>\n",
       "  </tbody>\n",
       "</table>\n",
       "</div>"
      ],
      "text/plain": [
       "      Case Number Date  Year Type Country Area Location Activity Name Sex   \\\n",
       "25718         NaN  NaN   NaN  NaN     NaN  NaN      NaN      NaN  NaN  NaN   \n",
       "25719         NaN  NaN   NaN  NaN     NaN  NaN      NaN      NaN  NaN  NaN   \n",
       "25720         NaN  NaN   NaN  NaN     NaN  NaN      NaN      NaN  NaN  NaN   \n",
       "25721         NaN  NaN   NaN  NaN     NaN  NaN      NaN      NaN  NaN  NaN   \n",
       "25722          xx  NaN   NaN  NaN     NaN  NaN      NaN      NaN  NaN  NaN   \n",
       "\n",
       "       Age Injury Fatal (Y/N) Time Species  Investigator or Source  pdf  \\\n",
       "25718  NaN    NaN         NaN  NaN      NaN                    NaN  NaN   \n",
       "25719  NaN    NaN         NaN  NaN      NaN                    NaN  NaN   \n",
       "25720  NaN    NaN         NaN  NaN      NaN                    NaN  NaN   \n",
       "25721  NaN    NaN         NaN  NaN      NaN                    NaN  NaN   \n",
       "25722  NaN    NaN         NaN  NaN      NaN                    NaN  NaN   \n",
       "\n",
       "      href formula href Case Number.1 Case Number.2  original order  \\\n",
       "25718          NaN  NaN           NaN           NaN             NaN   \n",
       "25719          NaN  NaN           NaN           NaN             NaN   \n",
       "25720          NaN  NaN           NaN           NaN             NaN   \n",
       "25721          NaN  NaN           NaN           NaN             NaN   \n",
       "25722          NaN  NaN           NaN           NaN             NaN   \n",
       "\n",
       "      Unnamed: 22 Unnamed: 23  \n",
       "25718         NaN         NaN  \n",
       "25719         NaN         NaN  \n",
       "25720         NaN         NaN  \n",
       "25721         NaN         NaN  \n",
       "25722         NaN         NaN  "
      ]
     },
     "execution_count": 10,
     "metadata": {},
     "output_type": "execute_result"
    }
   ],
   "source": [
    "sharks.tail()"
   ]
  },
  {
   "cell_type": "markdown",
   "id": "c0130cde",
   "metadata": {
    "hidden": true
   },
   "source": [
    " With these preliminary data, we already know a lot about what needs to be cleaned. For example:\n",
    " - There are 25722 records, but most of its columns have only 6000 records; the tail method reveals that the last records are all NaN\n",
    " - There are columns that need to be dropped for lack of relevant information (or any information at all): The two 'unnamed' ones and probably the Case Number.1 and Case Number.2, which are duplicates of Case Number (which is more complete).\n",
    " - Most of the columns are of 'object' type, which means that some numeric columns are not correctly typed.\n",
    " - The columns 'Sex' and 'Species' have a space in its names.\n",
    " - The column 'Date' seems to be a duplicate of the Case Number column.\n",
    " - There are two columns of 'href', which leads to the question: why? Are they the same?\n",
    " - There are more-less 6302 records with more information, and some columns have a lot of missing information, like 'species' and 'time'\n",
    " - Why the min year is 0? We have records of 2023 years old? Probably, it's a NaN!"
   ]
  },
  {
   "cell_type": "markdown",
   "id": "cf815e39",
   "metadata": {
    "heading_collapsed": true,
    "hidden": true
   },
   "source": [
    "## Value counts:"
   ]
  },
  {
   "cell_type": "code",
   "execution_count": 11,
   "id": "8ce58a16",
   "metadata": {
    "hidden": true
   },
   "outputs": [
    {
     "name": "stdout",
     "output_type": "stream",
     "text": [
      "===========================================================================\n",
      "Column name: CASE NUMBER  --------  Nº of Registers: 8702\n",
      "===========================================================================\n",
      "0               2400\n",
      "1920.00.00.b       2\n",
      "1966.12.26         2\n",
      "2014.08.02         2\n",
      "1990.05.10         2\n",
      "                ... \n",
      "1999.09.05         1\n",
      "1999.09.10         1\n",
      "1999.09.16         1\n",
      "1999.09.18         1\n",
      "xx                 1\n",
      "Name: Case Number, Length: 6287, dtype: int64\n",
      "---------------------------------------------------------------------------\n",
      "Unique records:\n",
      "---------------------------------------------------------------------------\n",
      "['2018.06.25' '2018.06.18' '2018.06.09' ... 'ND.0001' '0' 'xx']\n",
      "\n",
      "===========================================================================\n",
      "Column name: DATE  --------  Nº of Registers: 6302\n",
      "===========================================================================\n",
      "1957                          11\n",
      "1942                           9\n",
      "1956                           8\n",
      "1958                           7\n",
      "1950                           7\n",
      "                              ..\n",
      "01-Dec-1994                    1\n",
      "Reported      10-Dec-1994      1\n",
      "11-Dec-1994                    1\n",
      "13-Dec-1994                    1\n",
      "1845-1853                      1\n",
      "Name: Date, Length: 5433, dtype: int64\n",
      "---------------------------------------------------------------------------\n",
      "Unique records:\n",
      "---------------------------------------------------------------------------\n",
      "['25-Jun-2018' '18-Jun-2018' '09-Jun-2018' ... '1883-1889' '1845-1853' nan]\n",
      "\n",
      "===========================================================================\n",
      "Column name: YEAR  --------  Nº of Registers: 6300\n",
      "===========================================================================\n",
      "2015.0    143\n",
      "2017.0    136\n",
      "2016.0    130\n",
      "2011.0    128\n",
      "2014.0    127\n",
      "         ... \n",
      "1786.0      1\n",
      "1785.0      1\n",
      "1784.0      1\n",
      "1783.0      1\n",
      "1815.0      1\n",
      "Name: Year, Length: 249, dtype: int64\n",
      "---------------------------------------------------------------------------\n",
      "Unique records:\n",
      "---------------------------------------------------------------------------\n",
      "[2018. 2017.   nan 2016. 2015. 2014. 2013. 2012. 2011. 2010. 2009. 2008.\n",
      " 2007. 2006. 2005. 2004. 2003. 2002. 2001. 2000. 1999. 1998. 1997. 1996.\n",
      " 1995. 1984. 1994. 1993. 1992. 1991. 1990. 1989. 1969. 1988. 1987. 1986.\n",
      " 1985. 1983. 1982. 1981. 1980. 1979. 1978. 1977. 1976. 1975. 1974. 1973.\n",
      " 1972. 1971. 1970. 1968. 1967. 1966. 1965. 1964. 1963. 1962. 1961. 1960.\n",
      " 1959. 1958. 1957. 1956. 1955. 1954. 1953. 1952. 1951. 1950. 1949. 1948.\n",
      " 1848. 1947. 1946. 1945. 1944. 1943. 1942. 1941. 1940. 1939. 1938. 1937.\n",
      " 1936. 1935. 1934. 1933. 1932. 1931. 1930. 1929. 1928. 1927. 1926. 1925.\n",
      " 1924. 1923. 1922. 1921. 1920. 1919. 1918. 1917. 1916. 1915. 1914. 1913.\n",
      " 1912. 1911. 1910. 1909. 1908. 1907. 1906. 1905. 1904. 1903. 1902. 1901.\n",
      " 1900. 1899. 1898. 1897. 1896. 1895. 1894. 1893. 1892. 1891. 1890. 1889.\n",
      " 1888. 1887. 1886. 1885. 1884. 1883. 1882. 1881. 1880. 1879. 1878. 1877.\n",
      " 1876. 1875. 1874. 1873. 1872. 1871. 1870. 1869. 1868. 1867. 1866. 1865.\n",
      " 1864. 1863. 1862. 1861. 1860. 1859. 1858. 1857. 1856. 1855. 1853. 1852.\n",
      " 1851. 1850. 1849. 1847. 1846. 1845. 1844. 1842. 1841. 1840. 1839. 1837.\n",
      " 1836. 1835. 1834. 1832. 1831. 1830. 1829. 1828. 1827. 1826. 1825. 1823.\n",
      " 1822. 1819. 1818. 1817. 1816. 1815. 1812. 1811. 1810. 1808. 1807. 1805.\n",
      " 1804. 1803. 1802. 1801. 1800. 1797. 1792. 1791. 1788. 1787. 1786. 1785.\n",
      " 1784. 1783. 1780. 1779. 1776. 1771. 1767. 1764. 1758. 1753. 1751. 1749.\n",
      " 1755. 1748. 1742. 1738. 1733. 1723. 1721. 1703. 1700. 1642. 1638. 1637.\n",
      " 1617. 1595. 1580. 1555. 1554. 1543.  500.   77.    5.    0.]\n",
      "\n",
      "===========================================================================\n",
      "Column name: TYPE  --------  Nº of Registers: 6298\n",
      "===========================================================================\n",
      "Unprovoked      4595\n",
      "Provoked         574\n",
      "Invalid          547\n",
      "Sea Disaster     239\n",
      "Boating          203\n",
      "Boat             137\n",
      "Questionable       2\n",
      "Boatomg            1\n",
      "Name: Type, dtype: int64\n",
      "---------------------------------------------------------------------------\n",
      "Unique records:\n",
      "---------------------------------------------------------------------------\n",
      "['Boating' 'Unprovoked' 'Invalid' 'Provoked' 'Questionable' 'Sea Disaster'\n",
      " nan 'Boat' 'Boatomg']\n",
      "\n",
      "===========================================================================\n",
      "Column name: COUNTRY  --------  Nº of Registers: 6252\n",
      "===========================================================================\n",
      "USA                       2229\n",
      "AUSTRALIA                 1338\n",
      "SOUTH AFRICA               579\n",
      "PAPUA NEW GUINEA           134\n",
      "NEW ZEALAND                128\n",
      "                          ... \n",
      "MALDIVE ISLANDS              1\n",
      "NICARAGUA                    1\n",
      "NORTH SEA                    1\n",
      "RED SEA / INDIAN OCEAN       1\n",
      "CEYLON (SRI LANKA)           1\n",
      "Name: Country, Length: 212, dtype: int64\n",
      "---------------------------------------------------------------------------\n",
      "Unique records:\n",
      "---------------------------------------------------------------------------\n",
      "['USA' 'AUSTRALIA' 'MEXICO' 'BRAZIL' 'ENGLAND' 'SOUTH AFRICA' 'THAILAND'\n",
      " 'COSTA RICA' 'MALDIVES' 'BAHAMAS' 'NEW CALEDONIA' 'ECUADOR' 'MALAYSIA'\n",
      " 'LIBYA' nan 'CUBA' 'MAURITIUS' 'NEW ZEALAND' 'SPAIN' 'SAMOA'\n",
      " 'SOLOMON ISLANDS' 'JAPAN' 'EGYPT' 'ST HELENA, British overseas territory'\n",
      " 'COMOROS' 'REUNION' 'FRENCH POLYNESIA' 'UNITED KINGDOM'\n",
      " 'UNITED ARAB EMIRATES' 'PHILIPPINES' 'INDONESIA' 'CHINA' 'COLUMBIA'\n",
      " 'CAPE VERDE' 'Fiji' 'DOMINICAN REPUBLIC' 'CAYMAN ISLANDS' 'ARUBA'\n",
      " 'MOZAMBIQUE' 'FIJI' 'PUERTO RICO' 'ITALY' 'ATLANTIC OCEAN' 'GREECE'\n",
      " 'ST. MARTIN' 'FRANCE' 'PAPUA NEW GUINEA' 'TRINIDAD & TOBAGO' 'KIRIBATI'\n",
      " 'ISRAEL' 'DIEGO GARCIA' 'TAIWAN' 'JAMAICA' 'PALESTINIAN TERRITORIES'\n",
      " 'GUAM' 'SEYCHELLES' 'BELIZE' 'NIGERIA' 'TONGA' 'SCOTLAND' 'CANADA'\n",
      " 'CROATIA' 'SAUDI ARABIA' 'CHILE' 'ANTIGUA' 'KENYA' 'RUSSIA'\n",
      " 'TURKS & CAICOS' 'UNITED ARAB EMIRATES (UAE)' 'AZORES' 'SOUTH KOREA'\n",
      " 'MALTA' 'VIETNAM' 'MADAGASCAR' 'PANAMA' 'SOMALIA' 'NEVIS'\n",
      " 'BRITISH VIRGIN ISLANDS' 'NORWAY' 'SENEGAL' 'YEMEN' 'GULF OF ADEN'\n",
      " 'Sierra Leone' 'ST. MAARTIN' 'GRAND CAYMAN' 'Seychelles' 'LIBERIA'\n",
      " 'VANUATU' 'MEXICO ' 'HONDURAS' 'VENEZUELA' 'SRI LANKA' ' TONGA' 'URUGUAY'\n",
      " 'INDIA' 'MICRONESIA' 'CARIBBEAN SEA' 'OKINAWA' 'TANZANIA'\n",
      " 'MARSHALL ISLANDS' 'EGYPT / ISRAEL' 'NORTHERN ARABIAN SEA' 'HONG KONG'\n",
      " 'EL SALVADOR' 'ANGOLA' 'BERMUDA' 'MONTENEGRO' 'IRAN' 'TUNISIA' 'NAMIBIA'\n",
      " 'NORTH ATLANTIC OCEAN' 'PORTUGAL' 'SOUTH CHINA SEA' 'BANGLADESH' 'PALAU'\n",
      " 'WESTERN SAMOA' 'PACIFIC OCEAN ' 'BRITISH ISLES' 'GRENADA' 'IRAQ'\n",
      " 'TURKEY' 'SINGAPORE' 'NEW BRITAIN' 'SUDAN' 'JOHNSTON ISLAND'\n",
      " 'SOUTH PACIFIC OCEAN' 'NEW GUINEA' 'RED SEA' 'NORTH PACIFIC OCEAN'\n",
      " 'FEDERATED STATES OF MICRONESIA' 'MID ATLANTIC OCEAN' 'ADMIRALTY ISLANDS'\n",
      " 'BRITISH WEST INDIES' 'SOUTH ATLANTIC OCEAN' 'PERSIAN GULF'\n",
      " 'RED SEA / INDIAN OCEAN' 'PACIFIC OCEAN' 'NORTH SEA' 'NICARAGUA '\n",
      " 'MALDIVE ISLANDS' 'AMERICAN SAMOA' 'ANDAMAN / NICOBAR ISLANDAS' 'GABON'\n",
      " 'MAYOTTE' 'NORTH ATLANTIC OCEAN ' 'THE BALKANS' 'SUDAN?' 'ARGENTINA'\n",
      " 'MARTINIQUE' 'INDIAN OCEAN' 'GUATEMALA' 'NETHERLANDS ANTILLES'\n",
      " 'NORTHERN MARIANA ISLANDS' 'IRAN / IRAQ' 'JAVA' 'SIERRA LEONE'\n",
      " ' PHILIPPINES' 'NICARAGUA' 'CENTRAL PACIFIC' 'SOLOMON ISLANDS / VANUATU'\n",
      " 'SOUTHWEST PACIFIC OCEAN' 'BAY OF BENGAL' 'MID-PACIFC OCEAN' 'SLOVENIA'\n",
      " 'CURACAO' 'ICELAND' 'ITALY / CROATIA' 'BARBADOS' 'MONACO' 'GUYANA'\n",
      " 'HAITI' 'SAN DOMINGO' 'IRELAND' 'KUWAIT' 'YEMEN ' 'REUNION ISLAND'\n",
      " 'FALKLAND ISLANDS' 'CRETE' 'CYPRUS' 'EGYPT ' 'WEST INDIES' 'BURMA'\n",
      " 'LEBANON' 'PARAGUAY' 'BRITISH NEW GUINEA' 'CEYLON' 'OCEAN' 'GEORGIA'\n",
      " 'SYRIA' 'TUVALU' 'INDIAN OCEAN?' 'GUINEA' 'ANDAMAN ISLANDS'\n",
      " 'EQUATORIAL GUINEA / CAMEROON' 'COOK ISLANDS' 'TOBAGO' 'PERU' 'AFRICA'\n",
      " 'ALGERIA' 'Coast of AFRICA' 'TASMAN SEA' 'GHANA' 'GREENLAND'\n",
      " 'MEDITERRANEAN SEA' 'SWEDEN' 'ROATAN' 'Between PORTUGAL & INDIA'\n",
      " 'DJIBOUTI' 'BAHREIN' 'KOREA' 'RED SEA?' 'ASIA?' 'CEYLON (SRI LANKA)']\n",
      "\n",
      "===========================================================================\n",
      "Column name: AREA  --------  Nº of Registers: 5847\n",
      "===========================================================================\n",
      "Florida                                 1037\n",
      "New South Wales                          486\n",
      "Queensland                               311\n",
      "Hawaii                                   298\n",
      "California                               290\n",
      "                                        ... \n",
      "Ysabel Island                              1\n",
      " Lau Province                              1\n",
      "South Coast, East New Britain              1\n",
      "Between Southampton & Canary Islands       1\n",
      "Moala Island                               1\n",
      "Name: Area, Length: 825, dtype: int64\n",
      "---------------------------------------------------------------------------\n",
      "Unique records:\n",
      "---------------------------------------------------------------------------\n",
      "['California' 'Georgia' 'Hawaii' 'New South Wales' 'Colima' 'Pernambuco'\n",
      " 'Florida' 'Queensland' 'South Carolina' 'Cornwall' 'Westerm Australia'\n",
      " 'Eastern Cape Province' 'Hua Hin' 'Cocos Island' 'Western Australia'\n",
      " 'Alifu Alifu Atoll' 'Western Cape Province' 'New Providence' 'Alagoas'\n",
      " nan 'Victoria' 'KwaZulu-Natal' 'Boi Island, Victoria' 'Galapagos Islands'\n",
      " 'Fernando de Noronha' 'Sepang' 'Holquin Province' 'Pamplemousses '\n",
      " 'South Australia' 'North Island' 'New York' 'Canary Islands'\n",
      " ' Upolu Island' 'Shizuoka Prefecture' 'Texas' 'Castellón' 'Massachusetts'\n",
      " 'Red Sea Protectorate' 'New Providence District'\n",
      " '40 miles off Grand Bahama Island' 'Ascension Island' 'New Jersey'\n",
      " 'Majorca' 'Washington' 'Tabasco' 'Anjouan' 'Ibiza Island' 'Marquesas'\n",
      " 'South Devon' 'New Providence ' 'Sharjah, ' 'Baja California Sur'\n",
      " 'Saint-Leu' 'South Island' 'Luzon Island' 'Great Exuma' 'Saint-Andre'\n",
      " 'Bimini' 'Bali' 'Tuamotos' 'Oregon' 'North Province'\n",
      " 'New Providence Island' 'Alicante Province' 'Hong Kong'\n",
      " 'Kochi Prefecture' 'Tasmania' 'Abaco Islands' 'Alabama' 'North Carolina'\n",
      " 'Isla Provedencia' 'Suez' 'Grand Terre' 'Boa Vista Island' 'Vanua Levu'\n",
      " 'Santa Catarina State' 'South Province' 'Altagracia Province'\n",
      " 'Grand Cayman' 'Balneário Camboriú' 'Fujairah Emirate'\n",
      " 'Grand Canary Island' 'Inhambane Province' 'Phuket' 'Alicante'\n",
      " 'Guanacaste' 'Bora Bora' 'Grand Bahama Island' 'Le Port' 'Rangiroa'\n",
      " 'Saint-Gilles-les-Bains' 'Sardinia' 'Sinaloa' 'Central Tuamotu'\n",
      " 'd\\x92Étang-Salé' 'Granada' 'Cargados Carajos Shoals (St. Brandon)'\n",
      " 'Moorea' 'Catalonia' 'Maryland' 'Louisiana' 'West End' 'Delaware'\n",
      " 'Atsumi peninsula' 'Palmyra Atoll' 'Wallis and Futuna'\n",
      " 'Baie de Sainte-Marie' 'Society Islands' 'Trinidad' 'Okinawa Prefecture'\n",
      " '740 miles SE of Tarawa Atoll' 'Southern District' 'Bay of Biscay'\n",
      " 'Quintana Roo' 'Exuma Islands' 'Saint-Paul' 'Taitung ' 'Kingston Parish'\n",
      " 'Santa Cruz Island' 'Saint-Gilles' 'Tuamotus' 'Eleuthera' 'St. Catherine'\n",
      " 'Palawan' 'Mercury Islands' 'Delta' \"Vava'u\" 'Inner Hebrides' 'Saint Leu'\n",
      " 'Trois-Bassins' 'British Colombia' 'Guerrero' 'Saint-Benoit'\n",
      " 'Tabuk Province' 'Antofagasta Province' \"St John's\" 'Santa Elena'\n",
      " 'East New Britain' 'Bois-Blanc ' 'Moray' 'Puerto Rico' 'Samaná Province'\n",
      " 'Coast Province' 'Central Province' 'Primorsky Krai'\n",
      " 'Peter the Great Bay, Khasan, Primorsky Krai (Far East)'\n",
      " 'Telyakovsky Bay, Khasan,  Primorsky Krai (Far East)' 'Praslin' 'Sucre'\n",
      " 'Middle Caicos' 'Caicos Bank' 'San Andrés archipelago' 'Kedah'\n",
      " 'Umm al Qaywayan Province' 'Vitu Levu' 'South Sinai Peninsula'\n",
      " ' Loyalty Islands' 'Saint Gilles ' 'Maine' 'Virginia' \"Ha'api \"\n",
      " 'Western Province' 'Jeju Province' 'Binh Dinh Province'\n",
      " 'Antsiranana Province' 'Sinai Peninsula' 'Off Vanua Levu' 'Merizo'\n",
      " 'Rio Grande Do Sul' 'Dubai' 'Torres Strait' 'Eastern Province'\n",
      " 'Eastern Cape  Province' 'Maputo Province' 'Bocas' 'Fife' 'Devon'\n",
      " 'Makira-Ulawa Province' 'Mombasa' 'Catalunya' 'St. Johns Reef'\n",
      " 'Off Green Island' 'North Region' 'Batangas province' 'Strait of Malacca'\n",
      " 'Guantanamo Province' 'Maranhão' 'Red Sea' 'Batanes Provine' 'Luzon'\n",
      " 'Northern Territory' ' Split-Dalmatia Count,' 'North Devon'\n",
      " 'US Virgin Islands' 'San Carlos' 'Cabo San Lucas' 'Sussex' 'Bahia'\n",
      " 'Easter Ross' 'Guerro' 'Yasawa Islands' 'Northern Bahamas' 'Tokyo Bay'\n",
      " 'Baja California' 'Green Bay' 'Loyalty Islands' 'Marovo Lagoon'\n",
      " 'Territory of Cocos (Keeling) Islands' 'Oslo Fjord' 'Kent' 'Bird Island'\n",
      " 'Providenciales' 'Bimini Islands' 'Muhafazat Hadramawt' 'Cook islans'\n",
      " 'Surigao del Norte' 'Between Somalia & Yemen' 'Ambergris Caye'\n",
      " 'Saint-Pierre' 'Kentucky' 'Andros Islands' 'Guam' 'Western Area'\n",
      " '300 miles from Antigua' '800 miles from land'\n",
      " '600 nm west of the Canary Islands' 'Simpson Bay' 'East Wall'\n",
      " 'Inner Islands' 'Shanghai' 'Malampa Province'\n",
      " \"South Ch'ungch'ong Province\" 'Bay Islands' 'New Mexico'\n",
      " 'Santa Isabel Province' 'Santiago de Cuba Province' 'Camaguey Province'\n",
      " 'Conservatória District' 'South Carolina ' 'Kuril Islands in the Pacific'\n",
      " 'Wakayama Prefecture' \"Nuku'alofa\" 'Saint-Benoît'\n",
      " 'South Island, near Karitane north of Dunedin' 'Rocha' 'Northlands'\n",
      " 'Anzoategui' 'Cook Islands' 'Tamil Nadu' 'Pearl Islands' 'Taveuni'\n",
      " 'Johnston Atoll' 'Baatan' 'Rio de Janeiro' 'Nueva Esparta' 'Southland'\n",
      " 'North Pacific coast' 'Caroline Islands' 'Cheshire'\n",
      " 'Louisiade Archipelago'\n",
      " 'KwaZulu-Natal between Port Edward and Port St Johns'\n",
      " 'Milne Bay Province' 'Cikobia Island (north of Vanua Levu)'\n",
      " 'Rayong Province' 'Zamboanga del Sur Province' 'Rio Grande de Norte'\n",
      " 'Off the western coast of peninsular Malaysia' 'New Brunswick'\n",
      " 'Miyako Island' 'Alaska' 'Minerva Reef' 'Madang Province'\n",
      " 'Worcestershire' 'Phang nga Province' 'Alinglaplap Atoll' 'Adriatic Sea'\n",
      " 'Ralik Chain' 'Grand Baie' \"L' Etang Salé-les-Bains\" 'Southern Japan'\n",
      " 'Cap Vert Peninsula' 'Marches region' 'Berry Islands' 'Transvaal' 'Gaza'\n",
      " \"Grand'Anse\" 'Beaufonds' 'Miyako' \"L'Etang-Sale\" 'Chatham Islands '\n",
      " 'South Sinai, Gulf of Aqaba' 'Cat Cay' 'Missouri'\n",
      " '12 miles off the north coast' 'Saint-Paul '\n",
      " 'Chatham Islands, east of New  Zealand' 'Saint-Denis' 'Vava\\x92u'\n",
      " 'Mississippi' 'Clearwater Bay' 'New Territories' 'Aichi Prefecture'\n",
      " 'Tafea Province' 'Kagoshima Prefecture' 'Saint-Joseph' 'Banaadir Region'\n",
      " 'La Libertad' 'Costa Blanca' 'Walkers Cay'\n",
      " 'On the Kowloon penisula, south of Sai Kung' 'Ehime Prefecture'\n",
      " 'Tongapatu Group' 'West Africa' 'Wakaya Island' 'North Carolina '\n",
      " 'Mexico / Caribbean Sea' 'Antarctic Ocean' 'La Saline-les-Bains'\n",
      " 'Sea of Japan' 'Tavenui' 'Ligurian Sea' \"L'Etang-Salé\"\n",
      " 'Kowloon Peninsula' 'Port Shelter' 'Laucala Island' 'Sainte-Marie'\n",
      " 'Great Exuma Island' 'Sainte-Suzanne' 'Tuscany' 'Tyrrhenian Sea'\n",
      " 'New Ireland' 'Valpariso Province' 'Viscayan Sea' 'Manfredonia '\n",
      " 'Tokyo Prefecture' 'Saint-Louis' 'Mindoro' 'Between DR and Puerto Rico'\n",
      " 'Between Honiara & Isabel Island' 'Florida Straits' 'Gulf of Lyons'\n",
      " 'Cádiz' 'Sicily' 'Andikira Fokithes' 'Central Philippines' 'Rhode Island'\n",
      " 'Northwest Italy' 'English Channel' 'North & South Carolina'\n",
      " 'Kumamoto Prefecture' 'Biserta' 'Saint-Philippe' 'Chungnam'\n",
      " 'Eronogo Region' 'Coquimbo' 'Pagasitikos Gulf' \"St. Mary's Parish\"\n",
      " 'Romblon Province' 'Lamu Archipelago' 'Los Vilos' 'Island of Kos'\n",
      " \"Ha'api\" 'Madeira Islands' 'Ho Ha Wan Marine Park' 'Southern Thailand'\n",
      " 'Golfo de Venezia' 'Ralik Archipelago'\n",
      " 'South China Sea 200 miles from Hong Kong' 'Reggio Calabria Province'\n",
      " 'Mirs Bay ' 'Genoa Province' 'Ganges-Brahmaputra delta'\n",
      " ' Split-Dalmatia County' 'Florida ' 'Primorje-Gorski Kotar County '\n",
      " 'Aulong Island' 'Western Caroline Islands' 'Upolu Island' 'Antibes'\n",
      " 'Illeginni Atoll' 'Istria County' 'Between Beira & Maputo'\n",
      " 'Khuzestan Province' 'Inhambe Province' 'Namonuito Atoll'\n",
      " 'Eastern Caroline Islands'\n",
      " 'Western Caroline Islands (North Pacific Ocean)' 'Caribbean Sea'\n",
      " 'St. Andrew Parish' '200 nm southeast of Manila' 'Limpopo River'\n",
      " 'New Ireland Province' 'Zadar County' 'Basrah' 'Clarendon' 'Moro Gulf'\n",
      " 'Johor' 'Magdalena Department' 'Mafia Island' 'Gulf Province'\n",
      " 'Morobe Province' 'Limón Province' 'Rombion Province' 'Veracruz'\n",
      " 'Brindisi Province' 'Kagawa Prefecture' 'Liguria' 'Hamilton'\n",
      " 'Out Islands' 'Mugla Province' 'Gibraltar' 'New Britain' 'Bay of Maputo'\n",
      " 'Duke of York Islands' 'Taranto province' 'Northern Taiwan'\n",
      " 'Admiralty Islands, Manus Province' 'North Sumatra'\n",
      " \"250 miles southwest of O'ahu, Hawaii\" 'West coast' 'East Sepik'\n",
      " 'Near Bougainville (North Solomons)' 'East of the Gulf of Aqaba'\n",
      " 'Bougainville (North Solomons)' 'Victoria ' 'Okayama Prefecture'\n",
      " 'San Blas' 'Connecticut' 'Lau Group' 'Caribbean Coast' 'Vita Levu'\n",
      " 'San Blas Islands' 'Puntarenas Province' 'Lomaloma, Lau'\n",
      " 'Between Southampton & Canary Islands' 'South Coast, East New Britain'\n",
      " ' Lau Province' 'Ysabel Island' 'Santo Domingo' 'San Blas coast'\n",
      " 'Thessaly' 'Lomaiviti  Island Group' 'Rodrigues' 'Manus Island'\n",
      " 'Pinas Bay' 'Grand Turk Island' 'Off coast of West Africa' 'Sharon'\n",
      " 'Antalya Province' 'Northern District'\n",
      " 'New Ireland Province, Bismarck Archipelago' 'Cyclades' 'Viti Levu'\n",
      " 'Off the Coromandel Peninsula, North Island' 'Madang'\n",
      " 'Guadalcanal Province' '10ºS, 142ºE' 'Kwajalein Atoll' 'East Flores'\n",
      " 'Guerrrero' 'Western Luzon Island' 'Shefa Province'\n",
      " '165  miles from Bermuda'\n",
      " '25 km off the coast of Iran & 483km from mouth of Persian Gulf'\n",
      " 'Venice Province' 'Sandaun Province' 'Anatolia'\n",
      " 'East New Britain Province' 'United Arab Emirates'\n",
      " 'Wake Island (EnenKio)' '19S, 178?E' 'Pennsylvania' '9.35N 79.35W'\n",
      " 'Roncador Bank' 'Western District' 'Enroute from Suez to Aden (Yemen)'\n",
      " '180 miles southeast of Okinawa' 'Eniwetok Atoll' 'Cap-Vert Peninsula'\n",
      " 'Delagoa Bay' 'In the English Channel ' 'Cook Strait'\n",
      " 'Unknown, treated at Wick, SCOTLAND' 'Corregidor Island' 'Paget'\n",
      " '33N, 68W' 'Casamance' 'Madang (WO)' 'Between Timor & Darwin, Australia'\n",
      " 'Pacific coast' 'St. Georges ' 'Eastern  Province'\n",
      " 'Northwest of Viti Levu' 'West New Britain Province' 'Rigo subdistrict'\n",
      " 'Masbate' '400 miles southeast of Sri Lanka' 'Lomaiviti Province'\n",
      " 'Kadavu' 'Leyte Island' 'Orissa' 'Hokkaido Prefecture' 'North Palawan'\n",
      " 'Queaon' 'Istria' 'PANAMA' 'In the Gulf Stream ' 'Mersin Province'\n",
      " 'Guyamas' 'Between England & South Africa' 'Mindanao'\n",
      " ' Kikori River mouth' 'South Chungcheong Province' 'Ahirkapi coast'\n",
      " 'Tutuila Island' 'Primorje-Gorski Kotar County'\n",
      " 'Between Hawaii & Wake Island' 'Taipei Hsien' 'Ibaraki Prefecture'\n",
      " 'South Pacific Ocean' 'Canal Zone' '1,000 miles east of Hawaii' 'Honiara'\n",
      " 'Yucatan Channel' 'Havana Province' 'Karun River'\n",
      " 'Abau Subdistrict,Central Province' 'New Britain, Bismarck Archipelago'\n",
      " 'Estuaire Province' 'Near Dakar, Cap Vert Peninsula'\n",
      " 'Near the Andaman & Nicobar Islands' 'Mozambique Channel' 'Tyrrenian Sea'\n",
      " 'Congreve Channel' 'St. Thomas Bay' 'Madeira'\n",
      " 'Between Comores & Madagascar' 'Corfu Island' '1000 miles west of Hawaii'\n",
      " 'Izo Islands' ' Primorje-Gorski Kotar County' 'Open sea' 'Aden'\n",
      " 'New Ireland, Bismarck Archipelago' '18S / 50E' 'Illinois'\n",
      " 'Isles del Rosario' 'Wake Island' 'Isle of Man' 'Nagasaki Prefecture'\n",
      " 'Liguaria' 'Slovenia' 'South shore ' 'Buenos Aires Province'\n",
      " '330 to 350 miles east of Wake Island' 'Nova Scotia' 'Gulf of Panama'\n",
      " 'Genoa  Province' 'Abau Sub District, Central Province' 'Teramo'\n",
      " 'Red Sea State' 'Curacao' 'Port Louis Province' 'Montserrado'\n",
      " 'Bay of Maputu' 'Sofala Province' 'Salerno' 'Salerno Province' 'Taranto'\n",
      " 'Naples Province' ' La Libertad' 'Sago Prefecture' 'Savona'\n",
      " 'Southern Province' 'Jakarta Harbour' 'Singapore Harbor' 'Calabria'\n",
      " 'Shatt-el-Arab River' 'Shatt-al-Arab River' 'Tamaulipas'\n",
      " 'Calvados Archipelago' 'Shat-Al-Arab River'\n",
      " 'Between Kwajalein Atoll & Johnston Island' 'Attica' 'Adana Province'\n",
      " 'Bandar Ma\\x92shur sea inlet' 'Saipan' 'Carpathian Sea' 'Kwajalein'\n",
      " 'Dar-es-Salaam ' '\"Head of the Gulf\"' 'Ryukyu' ' North Carolina'\n",
      " 'In transit between Tinian and Leyte' 'Northern Java' 'Tel Aviv'\n",
      " 'Colon Province' '300 miles east of Luzon'\n",
      " 'Bernardino Strait near Gulf of Leyte'\n",
      " 'Off Samar Island in the Gulf of Leyte' 'Lake Nicaragua (fresh water)'\n",
      " 'Pacific Ocean' 'Near the Fiji Islands' '40 miles south of Naples '\n",
      " 'Northwest of Papua New Guinea' 'Between Hawaii and U.S.A.'\n",
      " 'Off South American coast' 'Makora-Ulawa Province' '04.05N-13.23W'\n",
      " 'Midway Atoll' '300 miles east of St. Thomas (Virgin Islands)'\n",
      " 'West of Ceylon (Sri  Lanka)' 'East Java' 'Camiguin Island'\n",
      " 'Cay Sal Bank' '(Southwestern Pacific)' 'Panama City' 'Off Libya'\n",
      " 'North of Pernambuco, Brazil' 'Off coast of Ecuador' 'Trelawney Province'\n",
      " 'In Convoy OB 274' 'New Georgia' 'Panama Bay (Pacific Ocean)' 'Bwagaoia'\n",
      " 'Western Papuan Gulf' 'Torres Strait ' 'Carabobo' 'Ascension Bay'\n",
      " 'North China' 'Lower San Juan River' 'Nicoya Peninsula' 'Basrah City'\n",
      " 'West Bengal' 'Queensland ' 'Argyllshire' 'Arran' 'Argyll'\n",
      " 'Fishing Grounds' 'Newfoundland' 'Isle of Wight' 'Makira-Uluwa Province'\n",
      " 'Northern (Oro) Province' 'Herzliyah' 'Elqui Province' 'Istanbul'\n",
      " 'St Michael Parish' 'Barlavento Islands' 'Viti Levu Island'\n",
      " 'Bay of Fundy' 'Manila' 'French Southern Territories' 'Niua '\n",
      " 'Black River' 'Phoenix Islands' 'Cienfuegos Province' 'Valencia'\n",
      " 'Santiago Island' 'Near Puntarenas' 'Porto Seguro' 'Salinas Bay'\n",
      " 'Golfo di Genova in the Ligurian Sea' 'Sants-Montjic'\n",
      " 'South of the Equator ' 'Bay of Monaco' 'Valencia ' 'Vancouver'\n",
      " '2 to 3 miles off Taboguilla Island, Pacific Ocean' 'Dorset'\n",
      " '150 miles offshore' 'Galica' 'Demerara County' 'Vera Cruz' ' Manila Bay'\n",
      " 'Lucy' 'East Yorkshire' 'Westmoreland Parish' 'Cavite Province, Luzon'\n",
      " 'Cape Haitien' 'Leyte' 'Halifax' 'Turtle Bogue'\n",
      " '60 miles north of San Domingo in the West Indies' 'Colon' 'Off Ireland'\n",
      " 'Mediterranean Sea' 'Gran Canaria' 'Apolima Strait' 'Essequibo' 'Lagos '\n",
      " 'Trieste' '5aint-Denis' 'Viti Levu group' 'Balearics' 'Málaga '\n",
      " 'Chatham Islands' 'Georges Bank' 'Zambesi River' 'Colón Province'\n",
      " '30 nm from Singapore' 'Andalucia' 'Sfax' 'South Atlantic Ocean'\n",
      " 'Galicia' 'Gulf of Suez' 'Java' 'Tiburon Peninsula' 'Oaxaca'\n",
      " 'Harare Province' 'Khánh Hòa Province' 'Maluku Province' 'Suez Canal'\n",
      " ' Nusa Tenggara' 'Between Noumea & Sydney' 'Villa Clara Province'\n",
      " 'Ancona Province' 'Quezon' 'Rio San Juan' 'Southern Cyprus' 'Syracuse'\n",
      " 'Western Viscayas' 'Mindoro Occidental' 'Negros ' 'Imperia Province'\n",
      " 'Muala' 'East coast' 'Ratak ' 'Socotra Islands' 'Off Cape Haitien'\n",
      " 'Moluccas' 'Bocas del Toro' 'Provence' 'Bay of Campeche' 'Rangoon'\n",
      " 'Bay of Bengal' 'Bayelsa State' 'South Island?' 'Norfolk Island'\n",
      " 'Brittany' 'Line Islands' 'Woodlark Islands' 'Munxar Reef'\n",
      " 'Northern Peloponnese' 'Between Perth & Colombo' 'Gujarat' 'Lukovo'\n",
      " 'Cortés' 'Gulf of California'\n",
      " 'Somewhere between Philadelphia and Hiogo, Japan' ' New Jersey'\n",
      " \"Côte d'Azur  \" 'Maldonado coast' 'Western Banks' 'Andaman Islands'\n",
      " 'Off the coast of West Africa' 'Misamis Oriental' 'Strait of Messina'\n",
      " 'Hoogly River' 'Cyclades archipelago' 'Mount Lebanon'\n",
      " 'Between Hastings & Fairlight, Sussex' 'Veracruz ' 'Gilbert Islands'\n",
      " 'Lomaiviti Provine' 'Off the coast of South America' '22ºN, 88ºE'\n",
      " 'Matanzas Province (north coast)' 'Alpes Maritime' 'Edinburgh'\n",
      " 'Eastern Catalona' '300 miles east of Mauritius' 'Foveaux Strait'\n",
      " 'Sumatra' 'Conakry Region' 'Corfu' 'Malaga' 'Bonin Islands'\n",
      " 'Fernando Po Island' 'Mangaia Island' 'New York ' 'Corfu '\n",
      " 'Between Australia & USA' 'Tongatapu' 'Norfolk' 'Island of St. Thomas'\n",
      " 'Cumberland' 'Sanma Province' \"35º39 : 165º8'\" 'CUBA' 'Western Area '\n",
      " 'Paraiba' 'Cape Coast' 'Rivers State' 'Maharashtra' 'St. Anne'\n",
      " 'St Helena' \"Côte d'Azur \" 'Skagerrak arm of the North Sea'\n",
      " 'Las Perlas archipelago' 'Bardestrand' 'Southwest coast' 'Kerala'\n",
      " 'Nice & Marseilles' 'Magarita or Cubagua Islands' 'Ionian Sea' 'Piraeus'\n",
      " 'Off Thessaly' 'Bocas del Toro Province' 'Rocha ' 'Gulf of Tadjoura'\n",
      " 'Cyrenaica' 'Northern Province' 'Los Roques  Islands'\n",
      " 'Dodecanese Islands' 'Malaita Province' 'South Korea'\n",
      " 'Milne Bay  Province' 'Island of Volos' 'Amirante Islands'\n",
      " 'Kadavu Island Group' 'Toamasina Province' 'Riau Province' 'Bikini Atoll'\n",
      " 'Between New Ireland & New Britain' 'Ba Ria-Vung Tau  Province'\n",
      " 'Moala Island']\n",
      "\n",
      "===========================================================================\n",
      "Column name: LOCATION  --------  Nº of Registers: 5762\n",
      "===========================================================================\n",
      "New Smyrna Beach, Volusia County                  163\n",
      "Daytona Beach, Volusia County                      30\n",
      "Ponce Inlet, Volusia County                        20\n",
      "Melbourne Beach, Brevard County                    18\n",
      "Myrtle Beach, Horry County                         17\n",
      "                                                 ... \n",
      "Whale Beach                                         1\n",
      "l'Anse-Vata                                         1\n",
      "Hole-in-the Wall                                    1\n",
      "Wreck of the Navy Barge, 22 miles SE of Rudee       1\n",
      "Below the English fort, Trincomalee                 1\n",
      "Name: Location, Length: 4108, dtype: int64\n",
      "---------------------------------------------------------------------------\n",
      "Unique records:\n",
      "---------------------------------------------------------------------------\n",
      "['Oceanside, San Diego County' 'St. Simon Island, Glynn County'\n",
      " 'Habush, Oahu' ... 'Ocracoke Inlet' 'Panama Bay 8ºN, 79ºW'\n",
      " 'Below the English fort, Trincomalee']\n",
      "\n",
      "===========================================================================\n",
      "Column name: ACTIVITY  --------  Nº of Registers: 5758\n",
      "===========================================================================\n",
      "Surfing                                   971\n",
      "Swimming                                  869\n",
      "Fishing                                   431\n",
      "Spearfishing                              333\n",
      "Bathing                                   162\n",
      "                                         ... \n",
      "Playing with a frisbee in the shallows      1\n",
      "Sinking of the ferryboat Dumaguete          1\n",
      "Wreck of the Storm King                     1\n",
      "Feeding mullet to sharks                    1\n",
      "Wreck of  large double sailing canoe        1\n",
      "Name: Activity, Length: 1532, dtype: int64\n",
      "---------------------------------------------------------------------------\n",
      "Unique records:\n",
      "---------------------------------------------------------------------------\n",
      "['Paddling' 'Standing' 'Surfing' ...\n",
      " 'Crew swimming alongside their anchored ship' '4 men were bathing'\n",
      " 'Wreck of  large double sailing canoe']\n",
      "\n",
      "===========================================================================\n",
      "Column name: NAME  --------  Nº of Registers: 6092\n",
      "===========================================================================\n",
      "male                               550\n",
      "female                              97\n",
      "boy                                 23\n",
      "2 males                             16\n",
      "boat                                14\n",
      "                                  ... \n",
      "Jeremiah Wyche                       1\n",
      "Frederico Nóbrega (aka Derico)       1\n",
      "Joo Whan Hong                        1\n",
      "Alton Cicero da Silva                1\n",
      "Jules Patterson                      1\n",
      "Name: Name, Length: 5230, dtype: int64\n",
      "---------------------------------------------------------------------------\n",
      "Unique records:\n",
      "---------------------------------------------------------------------------\n",
      "['Julie Wolfe' 'Adyson\\xa0McNeely ' 'John Denges' ... 'A \"chiefess\"'\n",
      " 'Ahmun' 'Jules Patterson']\n",
      "\n",
      "===========================================================================\n",
      "Column name: SEX   --------  Nº of Registers: 5737\n",
      "===========================================================================\n",
      "M      5094\n",
      "F       637\n",
      "M         2\n",
      "N         2\n",
      "lli       1\n",
      ".         1\n",
      "Name: Sex , dtype: int64\n",
      "---------------------------------------------------------------------------\n",
      "Unique records:\n",
      "---------------------------------------------------------------------------\n",
      "['F' 'M' nan 'M ' 'lli' 'N' '.']\n",
      "\n",
      "===========================================================================\n",
      "Column name: AGE  --------  Nº of Registers: 3471\n",
      "===========================================================================\n",
      "17                154\n",
      "18                150\n",
      "19                142\n",
      "20                141\n",
      "15                139\n",
      "                 ... \n",
      "20?                 1\n",
      " 28                 1\n",
      "7      &    31      1\n",
      " 30                 1\n",
      "13 or 14            1\n",
      "Name: Age, Length: 157, dtype: int64\n",
      "---------------------------------------------------------------------------\n",
      "Unique records:\n",
      "---------------------------------------------------------------------------\n",
      "['57' '11' '48' nan '18' '52' '15' '12' '32' '10' '21' '34' '30' '60' '33'\n",
      " '29' '54' '41' '37' '56' '19' '25' '69' '38' '55' '35' '46' '45' '14'\n",
      " '40s' '28' '20' '24' '26' '49' '22' '7' '31' '17' '40' '13' '42' '3' '8'\n",
      " '50' '16' '82' '73' '20s' '68' '51' '39' '58' 'Teen' '47' '61' '65' '36'\n",
      " '66' '43' '60s' '9' '72' '59' '6' '27' '64' '23' '71' '44' '62' '63' '70'\n",
      " '18 months' '53' '30s' '50s' 'teen' '77' '74' '28 & 26' '5' '86'\n",
      " '18 or 20' '12 or 13' '46 & 34' '28, 23 & 30' 'Teens' '36 & 26' '8 or 10'\n",
      " '84' '\\xa0 ' ' ' '30 or 36' '6½' '21 & ?' '75' '33 or 37' 'mid-30s'\n",
      " '23 & 20' ' 30' '7      &    31' ' 28' '20?' \"60's\" '32 & 30' '16 to 18'\n",
      " '87' '67' 'Elderly' 'mid-20s' 'Ca. 33' '74 ' '45 ' '21 or 26' '20 ' '>50'\n",
      " '18 to 22' 'adult' '9 & 12' '? & 19' '9 months' '25 to 35' '23 & 26' '1'\n",
      " '(adult)' '33 & 37' '25 or 28' '37, 67, 35, 27,  ? & 27' '21, 34,24 & 35'\n",
      " '30 & 32' '50 & 30' '17 & 35' 'X' '\"middle-age\"' '13 or 18' '34 & 19'\n",
      " '33 & 26' '2 to 3 months' 'MAKE LINE GREEN' ' 43' '81' '\"young\"' '7 or 8'\n",
      " '78' '17 & 16' 'F' 'Both 11' '9 or 10' 'young' '36 & 23' '  ' 'A.M.'\n",
      " '?    &   14' '10 or 12' '31 or 33' '2½' '13 or 14']\n",
      "\n",
      "===========================================================================\n",
      "Column name: INJURY  --------  Nº of Registers: 6274\n",
      "===========================================================================\n",
      "FATAL                                                                                     802\n",
      "Survived                                                                                   97\n",
      "Foot bitten                                                                                87\n",
      "No injury                                                                                  82\n",
      "Leg bitten                                                                                 72\n",
      "                                                                                         ... \n",
      "Cut foot, but injury caused by fishing line, not the shark                                  1\n",
      "Left foot bitten after he accidentally stepped on the shark         PROVOKED INCIDENT       1\n",
      "2 puncture wounds in left leg                                                               1\n",
      "PROVOKED INCIDENT    Knee bitten by shark trapped in net                                    1\n",
      "FATAL. \"Shark bit him in half, carrying away the lower extremities\"                         1\n",
      "Name: Injury, Length: 3737, dtype: int64\n",
      "---------------------------------------------------------------------------\n",
      "Unique records:\n",
      "---------------------------------------------------------------------------\n",
      "['No injury to occupant, outrigger canoe and paddle damaged'\n",
      " 'Minor injury to left thigh'\n",
      " 'Injury to left lower leg from surfboard skeg' ...\n",
      " 'FATAL, leg stripped of flesh  '\n",
      " 'FATAL, knocked overboard by tail of shark & carried off by shark '\n",
      " 'FATAL. \"Shark bit him in half, carrying away the lower extremities\" ']\n",
      "\n",
      "===========================================================================\n",
      "Column name: FATAL (Y/N)  --------  Nº of Registers: 5763\n",
      "===========================================================================\n",
      "N          4293\n",
      "Y          1388\n",
      "UNKNOWN      71\n",
      " N            7\n",
      "M             1\n",
      "2017          1\n",
      "N             1\n",
      "y             1\n",
      "Name: Fatal (Y/N), dtype: int64\n",
      "---------------------------------------------------------------------------\n",
      "Unique records:\n",
      "---------------------------------------------------------------------------\n",
      "['N' 'Y' nan 'M' 'UNKNOWN' '2017' ' N' 'N ' 'y']\n",
      "\n",
      "===========================================================================\n",
      "Column name: TIME  --------  Nº of Registers: 2948\n",
      "===========================================================================\n",
      "Afternoon      187\n",
      "11h00          128\n",
      "Morning        121\n",
      "12h00          109\n",
      "15h00          108\n",
      "              ... \n",
      "14h37            1\n",
      "10h07            1\n",
      "13h53            1\n",
      "13h23            1\n",
      "19h00-20h00      1\n",
      "Name: Time, Length: 366, dtype: int64\n",
      "---------------------------------------------------------------------------\n",
      "Unique records:\n",
      "---------------------------------------------------------------------------\n",
      "['18h00' '14h00  -15h00' '07h45' nan 'Late afternoon' '17h00' '14h00'\n",
      " 'Morning' '15h00' '08h15' '11h00' '10h30' '10h40' '16h50' '07h00' '09h30'\n",
      " 'Afternoon' '21h50' '09h40' '08h00' '17h35' '15h30' '07h30' '19h00, Dusk'\n",
      " 'Night' '16h00' '15h01' '12h00' '13h45' '23h30' '09h00' '14h30' '18h30'\n",
      " '12h30' '16h30' '18h45' '06h00' '10h00' '10h44' '13h19' 'Midday' '13h30'\n",
      " '10h45' '11h20' '11h45' '19h30' '08h30' '15h45' 'Shortly before 12h00'\n",
      " '17h34' '17h10' '11h15' '08h50' '17h45' '13h00' '10h20' '13h20' '02h00'\n",
      " '09h50' '11h30' '17h30' '9h00' '10h43' 'After noon' '15h15' '15h40'\n",
      " '19h05' '1300' '14h30 / 15h30' '22h00' '16h20' '14h34' '15h25' '14h55'\n",
      " '17h46' 'Morning ' '15h49' '19h00' 'Midnight' '09h30 / 10h00' '10h15'\n",
      " '18h15' '04h00' '14h50' '13h50' '19h20' '10h25' '10h45-11h15' '16h45'\n",
      " '15h52' '06h15' '14h40' '19h45' '10h10' '08h45' 'Evening' '12h10' '18h05'\n",
      " '11h41' '12h25' '17h51' '16h12' '12h45' '10h50' '14h15' '09h45' '06h45'\n",
      " '05h00' '03h30' 'Sometime between 06h00 & 08hoo' '06h30' '17h20' '20h00'\n",
      " '16h40' '16h18' '11h10' 'Early afternoon' '17h50' '07h00 - 08h00'\n",
      " '18h15-18h30' '17h01' '09h57' '08h20' '17h58' '20h30' '15h19' '10h55'\n",
      " '15h55' '23h00' '12h40' '13h55' '16h05' '14h10' '15h20' '12h50' '14h45'\n",
      " '13h40' '13h24' '09h00 - 09h30' '0830' '11h40' '08h10' '15h56' '14h20'\n",
      " 'Just before noon' '07h56' '1600' '17h17' '16h35' '09h05' '07h15' '07h20'\n",
      " '19h28' '12h38' '05h50' '15h50' '11h05' 'Early morning' 'Dawn' '05h45'\n",
      " '13h25' '12h20' '13h26' '09h11' '12h15' '13h15' '18h20' '15h35' 'AM'\n",
      " '13h51' 'A.M.' '08h05' '19h15' '10h35' '15h44' 'Dusk' '21h00' 'Lunchtime'\n",
      " '15j45' '09h35' '10h27' '10h16' '0500' 'Before 07h00' '09h20'\n",
      " '10h00 -- 11h00' '12h05' '14h21' '18h50' '15h53' '\"Just before 11h00\"'\n",
      " '11h115' '13h42' '20h15' '12h39' '07h05' 'Sunset' '  ' '13h05' '11h50'\n",
      " '\"Evening\"' 'Just before sundown' '17h55' '22h30' '17h15' '16h10'\n",
      " '11h30 ' '06h10' '16h15' 'Between 05h00 and 08h00' '07h08'\n",
      " '17h00 or 17h40' '03h00' '>08h00' '--' '12h02' '12h55' '16h14' '17h11'\n",
      " '00h30' '14h37' '10h07' '13h53' '11h55' '13h23' 'Just after 12h00'\n",
      " '02h30' '08h40' '11h56' '14h35' ' ' 'Early Morning' '07h50'\n",
      " 'Shortly after midnight' '14h25' '13h345' '\\xa0 ' '06h47' '09h00 -10h00'\n",
      " '20h45 (Sunset)' 'Late morning' 'P.M.' '18h40' '13h14' '13h06'\n",
      " 'Shortly before 13h00' '12h34' '11h53' '8:04 pm' '12h46' '12h48' '17h42'\n",
      " '12h35' 'Possibly same incident as 2000.08.21' 'After Dusk' '11h57'\n",
      " 'Noon' '17h40' '11h25' '18h25' '10h28' '09h15' '14h16' '09h55'\n",
      " '2 hours after Opperman' '15h05' '09h30 ' 'Mid afternoon' 'Mid morning'\n",
      " '11h48' '11h00 / 11h30' '07h19' '13h37' '11h06' '\"Night\"' '18h30?'\n",
      " '11h58' '11h51' '18h12' '07h10' '07h40' '12h33'\n",
      " '30 minutes after 1992.07.08.a' '>06h45' '15h06' '12h54'\n",
      " 'Between 06h00 & 07h20' '16h55' '05h40' '<07h30' '21h30' '17h00 Sunset'\n",
      " 'Nightfall' 'X' '08h57' '18h30 (Sunset)' '06j00' '08h35' '10h22' '02h45'\n",
      " 'Prior to 10h37' 'Daybreak' '18h10' '>12h00' 'Mid-morning' '08h55'\n",
      " '16h30 or 18h00' 'Just before dawn' ' 14h00' 'Daytime' '06h50' '01h00'\n",
      " 'Dark' '10h00 / 11h00' '\"After lunch\"' '07h32' '15h00 or 15h45' '>17h00'\n",
      " '19h00 / 20h00' '12h45 / 13h45' '14h00 - 15h00' 'night' '03h45 - 04h00'\n",
      " '13h10' '09h30 / 15h30' '08h00 / 09h30' '19h35' '12h00 to 14h00' '13h35'\n",
      " 'Late night' '01h32' '10h30 or 13h30' '16h23' '15h00j' 'Midday.'\n",
      " '\"After dark\"' '10h00 or 14h00' '19h10' '16h25' '2 hrs before sunset'\n",
      " '18h15 to 21h30' '1500' '\"shortly before dusk\"' '>17h30' '>14h30'\n",
      " 'Between 11h00 & 12h00' 'After 04h00' '11h01 -time of ship sinking'\n",
      " 'Ship aban-doned at 03h10' '19h55' 'After dusk'\n",
      " 'FATAL  (Wire netting installed at local beaches after this incident.)'\n",
      " '01h30' 'After midnight' 'Late afternon' '05h30' '08h58'\n",
      " '\"Early evening\"' 'Late Afternoon' '   ' 'Before daybreak' 'dusk'\n",
      " 'Before 10h30' '06h00 -- 07h00' '01h50' '17h00-18h00' '19h00-20h00']\n",
      "\n",
      "===========================================================================\n"
     ]
    },
    {
     "name": "stdout",
     "output_type": "stream",
     "text": [
      "Column name: SPECIES   --------  Nº of Registers: 3464\n",
      "===========================================================================\n",
      "White shark                                                                                                                      163\n",
      "Shark involvement prior to death was not confirmed                                                                               105\n",
      "Invalid                                                                                                                          102\n",
      "Shark involvement not confirmed                                                                                                   88\n",
      "Tiger shark                                                                                                                       73\n",
      "                                                                                                                                ... \n",
      "1.2 m to 1.5 m [4.5' to 5'] shark                                                                                                  1\n",
      "Bull shark, 2.3 m [7.5']                                                                                                           1\n",
      "0.9 m  [3'] shark                                                                                                                  1\n",
      "Mako shark, 14'                                                                                                                    1\n",
      "Said to involve a grey nurse shark that leapt out of the water and  seized the boy but species identification is questionable      1\n",
      "Name: Species , Length: 1549, dtype: int64\n",
      "---------------------------------------------------------------------------\n",
      "Unique records:\n",
      "---------------------------------------------------------------------------\n",
      "['White shark' nan '2 m shark' ... \"12' tiger shark\" 'Blue pointers'\n",
      " 'Said to involve a grey nurse shark that leapt out of the water and  seized the boy but species identification is questionable']\n",
      "\n",
      "===========================================================================\n",
      "Column name: INVESTIGATOR OR SOURCE  --------  Nº of Registers: 6285\n",
      "===========================================================================\n",
      "C. Moore, GSAF                                                    105\n",
      "C. Creswell, GSAF                                                  92\n",
      "S. Petersohn, GSAF                                                 82\n",
      "R. Collier                                                         55\n",
      "T. Peake, GSAF                                                     48\n",
      "                                                                 ... \n",
      "Deseret News, 2/19/1996; European Stars and Stripes, 2/20/1996      1\n",
      "Daily Telegraph, 2/29/1996, p.5; H. Edwards, pp.31-32               1\n",
      "J. Royle, et. al. (1997)                                            1\n",
      "Advertiser, 3/6/1996, p.9; Daily Mail (London), 3/9/1996            1\n",
      "S.W. Baker                                                          1\n",
      "Name: Investigator or Source, Length: 4969, dtype: int64\n",
      "---------------------------------------------------------------------------\n",
      "Unique records:\n",
      "---------------------------------------------------------------------------\n",
      "['R. Collier, GSAF' 'K.McMurray, TrackingSharks.com' 'B. Myatt, GSAF' ...\n",
      " 'F. Schwartz, p.23; C. Creswell, GSAF' 'The Sun, 10/20/1938' 'S.W. Baker']\n",
      "\n",
      "===========================================================================\n",
      "Column name: PDF  --------  Nº of Registers: 6302\n",
      "===========================================================================\n",
      "1923.00.00.a-NJ fisherman.pdf      2\n",
      "1935.06.05.R-SolomonIslands.pdf    2\n",
      "1916.12.08.a-b-German.pdf          2\n",
      "1907.10.16.R-HongKong.pdf          2\n",
      "1921.11.27.a-b-Jack.pdf            2\n",
      "                                  ..\n",
      "1999.10.30.a-TroyJesse.pdf         1\n",
      "1999.10.30.b-Dolsky.pdf            1\n",
      "1999.11.00.a-Morson.pdf            1\n",
      "1999.11.00.b-Bayo.pdf              1\n",
      "ND-0001-Ceylon.pdf                 1\n",
      "Name: pdf, Length: 6291, dtype: int64\n",
      "---------------------------------------------------------------------------\n",
      "Unique records:\n",
      "---------------------------------------------------------------------------\n",
      "['2018.06.25-Wolfe.pdf' '2018.06.18-McNeely.pdf' '2018.06.09-Denges.pdf'\n",
      " ... 'ND-0002-JulesPatterson.pdf' 'ND-0001-Ceylon.pdf' nan]\n",
      "\n",
      "===========================================================================\n",
      "Column name: HREF FORMULA  --------  Nº of Registers: 6301\n",
      "===========================================================================\n",
      "http://sharkattackfile.net/spreadsheets/pdf_directory/1923.00.00.a-NJ fisherman.pdf      2\n",
      "http://sharkattackfile.net/spreadsheets/pdf_directory/1935.06.05.R-SolomonIslands.pdf    2\n",
      "http://sharkattackfile.net/spreadsheets/pdf_directory/1916.12.08.a-b-German.pdf          2\n",
      "http://sharkattackfile.net/spreadsheets/pdf_directory/1907.10.16.R-HongKong.pdf          2\n",
      "http://sharkattackfile.net/spreadsheets/pdf_directory/1921.11.27.a-b-Jack.pdf            2\n",
      "                                                                                        ..\n",
      "http://sharkattackfile.net/spreadsheets/pdf_directory/1999.10.30.a-TroyJesse.pdf         1\n",
      "http://sharkattackfile.net/spreadsheets/pdf_directory/1999.10.30.b-Dolsky.pdf            1\n",
      "http://sharkattackfile.net/spreadsheets/pdf_directory/1999.11.00.a-Morson.pdf            1\n",
      "http://sharkattackfile.net/spreadsheets/pdf_directory/1999.11.00.b-Bayo.pdf              1\n",
      "http://sharkattackfile.net/spreadsheets/pdf_directoryND-0001-Ceylon.pdf                  1\n",
      "Name: href formula, Length: 6290, dtype: int64\n",
      "---------------------------------------------------------------------------\n",
      "Unique records:\n",
      "---------------------------------------------------------------------------\n",
      "['http://sharkattackfile.net/spreadsheets/pdf_directory/2018.06.25-Wolfe.pdf'\n",
      " 'http://sharkattackfile.net/spreadsheets/pdf_directory/2018.06.18-McNeely.pdf'\n",
      " 'http://sharkattackfile.net/spreadsheets/pdf_directory/2018.06.09-Denges.pdf'\n",
      " ...\n",
      " 'http://sharkattackfile.net/spreadsheets/pdf_directory/ND-0003-Ocracoke_1900-1905.pdf'\n",
      " 'http://sharkattackfile.net/spreadsheets/pdf_directory/ND-0002-JulesPatterson.pdf'\n",
      " 'http://sharkattackfile.net/spreadsheets/pdf_directoryND-0001-Ceylon.pdf']\n",
      "\n",
      "===========================================================================\n",
      "Column name: HREF  --------  Nº of Registers: 6302\n",
      "===========================================================================\n",
      "http://sharkattackfile.net/spreadsheets/pdf_directory/w014.01.25-Grant.pdf                 4\n",
      "http://sharkattackfile.net/spreadsheets/pdf_directory/2014.10.02.b-Vandenberg.pdf          3\n",
      "http://sharkattackfile.net/spreadsheets/pdf_directory/1923.00.00.a-NJ fisherman.pdf        2\n",
      "http://sharkattackfile.net/spreadsheets/pdf_directory/1934.12.23.a-b-Inman.pdf             2\n",
      "http://sharkattackfile.net/spreadsheets/pdf_directory/1929.03.04.a-b.Roads-Aldridge.pdf    2\n",
      "                                                                                          ..\n",
      "http://sharkattackfile.net/spreadsheets/pdf_directory/1999.09.10-Warnock.pdf               1\n",
      "http://sharkattackfile.net/spreadsheets/pdf_directory/1999.09.16-Ferguson.pdf              1\n",
      "http://sharkattackfile.net/spreadsheets/pdf_directory/1999.09.18-Wallersheim.pdf           1\n",
      "http://sharkattackfile.net/spreadsheets/pdf_directory/1999.09.24-boat.pdf                  1\n",
      "http://sharkattackfile.net/spreadsheets/pdf_directoryND-0001-Ceylon.pdf                    1\n",
      "Name: href, Length: 6285, dtype: int64\n",
      "---------------------------------------------------------------------------\n",
      "Unique records:\n",
      "---------------------------------------------------------------------------\n",
      "['http://sharkattackfile.net/spreadsheets/pdf_directory/2018.06.25-Wolfe.pdf'\n",
      " 'http://sharkattackfile.net/spreadsheets/pdf_directory/2018.06.18-McNeely.pdf'\n",
      " 'http://sharkattackfile.net/spreadsheets/pdf_directory/2018.06.09-Denges.pdf'\n",
      " ...\n",
      " 'http://sharkattackfile.net/spreadsheets/pdf_directory/ND-0002-JulesPatterson.pdf'\n",
      " 'http://sharkattackfile.net/spreadsheets/pdf_directoryND-0001-Ceylon.pdf'\n",
      " nan]\n",
      "\n",
      "===========================================================================\n",
      "Column name: CASE NUMBER.1  --------  Nº of Registers: 6302\n",
      "===========================================================================\n",
      "1920.00.00.b      2\n",
      "1915.07.06.a.R    2\n",
      "2009.12.18        2\n",
      "2014.08.02        2\n",
      "1952.08.04        2\n",
      "                 ..\n",
      "1999.09.10        1\n",
      "1999.09.16        1\n",
      "1999.09.18        1\n",
      "1999.09.24        1\n",
      "ND.0001           1\n",
      "Name: Case Number.1, Length: 6285, dtype: int64\n",
      "---------------------------------------------------------------------------\n",
      "Unique records:\n",
      "---------------------------------------------------------------------------\n",
      "['2018.06.25' '2018.06.18' '2018.06.09' ... 'ND.0002' 'ND.0001' nan]\n",
      "\n",
      "===========================================================================\n",
      "Column name: CASE NUMBER.2  --------  Nº of Registers: 6302\n",
      "===========================================================================\n",
      "1920.00.00.b      2\n",
      "1915.07.06.a.R    2\n",
      "2009.12.18        2\n",
      "2014.08.02        2\n",
      "1962.06.11.b      2\n",
      "                 ..\n",
      "1999.09.05        1\n",
      "1999.09.10        1\n",
      "1999.09.16        1\n",
      "1999.09.18        1\n",
      "ND.0001           1\n",
      "Name: Case Number.2, Length: 6286, dtype: int64\n",
      "---------------------------------------------------------------------------\n",
      "Unique records:\n",
      "---------------------------------------------------------------------------\n",
      "['2018.06.25' '2018.06.18' '2018.06.09' ... 'ND.0002' 'ND.0001' nan]\n",
      "\n",
      "===========================================================================\n",
      "Column name: ORIGINAL ORDER  --------  Nº of Registers: 6309\n",
      "===========================================================================\n",
      "569.0     2\n",
      "6303.0    1\n",
      "2102.0    1\n",
      "2093.0    1\n",
      "2094.0    1\n",
      "         ..\n",
      "4203.0    1\n",
      "4204.0    1\n",
      "4205.0    1\n",
      "4206.0    1\n",
      "6310.0    1\n",
      "Name: original order, Length: 6308, dtype: int64\n",
      "---------------------------------------------------------------------------\n",
      "Unique records:\n",
      "---------------------------------------------------------------------------\n",
      "[6303. 6302. 6301. ... 6309. 6310.   nan]\n",
      "\n",
      "===========================================================================\n",
      "Column name: UNNAMED: 22  --------  Nº of Registers: 1\n",
      "===========================================================================\n",
      "stopped here    1\n",
      "Name: Unnamed: 22, dtype: int64\n",
      "---------------------------------------------------------------------------\n",
      "Unique records:\n",
      "---------------------------------------------------------------------------\n",
      "[nan 'stopped here']\n",
      "\n",
      "===========================================================================\n",
      "Column name: UNNAMED: 23  --------  Nº of Registers: 2\n",
      "===========================================================================\n",
      "Teramo             1\n",
      "change filename    1\n",
      "Name: Unnamed: 23, dtype: int64\n",
      "---------------------------------------------------------------------------\n",
      "Unique records:\n",
      "---------------------------------------------------------------------------\n",
      "[nan 'Teramo' 'change filename']\n",
      "\n"
     ]
    }
   ],
   "source": [
    "for column in sharks.columns:\n",
    "    print('=' * 75)\n",
    "    print(f'Column name: {column.upper()}  --------  Nº of Registers: {len(sharks[sharks[column].notna()])}')\n",
    "    print('=' * 75)\n",
    "    print(sharks[column].value_counts())\n",
    "    print('-' * 75)\n",
    "    print('Unique records:')\n",
    "    print('-' * 75)\n",
    "    print(sharks[column].unique())\n",
    "    print()"
   ]
  },
  {
   "cell_type": "markdown",
   "id": "949cb488",
   "metadata": {
    "heading_collapsed": true
   },
   "source": [
    "# Data Cleaning"
   ]
  },
  {
   "cell_type": "code",
   "execution_count": 19,
   "id": "4b47d4b5",
   "metadata": {
    "hidden": true
   },
   "outputs": [],
   "source": [
    "# Resumo\n",
    "sharks = sharks.rename({'Sex ': 'Sex', 'Species ': 'Species'}, axis=1)\n",
    "sharks = sharks.drop(['Case Number.1', 'Case Number.2'], axis=1)\n",
    "sharks = sharks.drop(['Unnamed: 22', 'Unnamed: 23'], axis=1)\n",
    "sharks = sharks.drop('original order', axis=1)\n",
    "sharks = sharks.drop(['href', 'href formula', 'pdf'], axis=1)\n",
    "sharks = sharks.dropna(subset='Case Number', axis=0)\n",
    "sharks = sharks.drop(sharks[sharks['Case Number'] == 'xx'].index)\n",
    "sharks = sharks.drop(sharks[sharks['Case Number'] == '0'].index)"
   ]
  },
  {
   "cell_type": "markdown",
   "id": "131069d2",
   "metadata": {
    "heading_collapsed": true,
    "hidden": true
   },
   "source": [
    "## Renaming Columns"
   ]
  },
  {
   "cell_type": "code",
   "execution_count": 13,
   "id": "022409e7",
   "metadata": {
    "hidden": true
   },
   "outputs": [
    {
     "data": {
      "text/plain": [
       "Index(['Case Number', 'Date', 'Year', 'Type', 'Country', 'Area', 'Location',\n",
       "       'Activity', 'Name', 'Sex', 'Age', 'Injury', 'Fatal (Y/N)', 'Time',\n",
       "       'Species', 'Investigator or Source'],\n",
       "      dtype='object')"
      ]
     },
     "execution_count": 13,
     "metadata": {},
     "output_type": "execute_result"
    }
   ],
   "source": [
    "sharks.columns"
   ]
  },
  {
   "cell_type": "code",
   "execution_count": 14,
   "id": "3b5e603e",
   "metadata": {
    "hidden": true
   },
   "outputs": [],
   "source": [
    "sharks = sharks.rename({'Sex ': 'Sex', 'Species ': 'Species'}, axis=1)"
   ]
  },
  {
   "cell_type": "code",
   "execution_count": 15,
   "id": "c1f316ad",
   "metadata": {
    "hidden": true
   },
   "outputs": [
    {
     "data": {
      "text/plain": [
       "Index(['Case Number', 'Date', 'Year', 'Type', 'Country', 'Area', 'Location',\n",
       "       'Activity', 'Name', 'Sex', 'Age', 'Injury', 'Fatal (Y/N)', 'Time',\n",
       "       'Species', 'Investigator or Source'],\n",
       "      dtype='object')"
      ]
     },
     "execution_count": 15,
     "metadata": {},
     "output_type": "execute_result"
    }
   ],
   "source": [
    "sharks.columns"
   ]
  },
  {
   "cell_type": "markdown",
   "id": "0c2dd61d",
   "metadata": {
    "heading_collapsed": true,
    "hidden": true
   },
   "source": [
    "## Dropping columns"
   ]
  },
  {
   "cell_type": "markdown",
   "id": "76d4b5c5",
   "metadata": {
    "heading_collapsed": true,
    "hidden": true
   },
   "source": [
    "### Case Number duplicada"
   ]
  },
  {
   "cell_type": "code",
   "execution_count": 16,
   "id": "cfd6c4c7",
   "metadata": {
    "hidden": true
   },
   "outputs": [
    {
     "name": "stdout",
     "output_type": "stream",
     "text": [
      "<class 'pandas.core.series.Series'>\n",
      "Int64Index: 6301 entries, 0 to 6301\n",
      "Series name: Case Number\n",
      "Non-Null Count  Dtype \n",
      "--------------  ----- \n",
      "6301 non-null   object\n",
      "dtypes: object(1)\n",
      "memory usage: 98.5+ KB\n"
     ]
    }
   ],
   "source": [
    "sharks['Case Number'].info()"
   ]
  },
  {
   "cell_type": "code",
   "execution_count": 17,
   "id": "951438a3",
   "metadata": {
    "hidden": true
   },
   "outputs": [
    {
     "ename": "KeyError",
     "evalue": "'Case Number.1'",
     "output_type": "error",
     "traceback": [
      "\u001b[1;31m---------------------------------------------------------------------------\u001b[0m",
      "\u001b[1;31mKeyError\u001b[0m                                  Traceback (most recent call last)",
      "File \u001b[1;32m~\\AppData\\Local\\Programs\\Python\\Python310\\lib\\site-packages\\pandas\\core\\indexes\\base.py:3803\u001b[0m, in \u001b[0;36mIndex.get_loc\u001b[1;34m(self, key, method, tolerance)\u001b[0m\n\u001b[0;32m   3802\u001b[0m \u001b[38;5;28;01mtry\u001b[39;00m:\n\u001b[1;32m-> 3803\u001b[0m     \u001b[38;5;28;01mreturn\u001b[39;00m \u001b[38;5;28;43mself\u001b[39;49m\u001b[38;5;241;43m.\u001b[39;49m\u001b[43m_engine\u001b[49m\u001b[38;5;241;43m.\u001b[39;49m\u001b[43mget_loc\u001b[49m\u001b[43m(\u001b[49m\u001b[43mcasted_key\u001b[49m\u001b[43m)\u001b[49m\n\u001b[0;32m   3804\u001b[0m \u001b[38;5;28;01mexcept\u001b[39;00m \u001b[38;5;167;01mKeyError\u001b[39;00m \u001b[38;5;28;01mas\u001b[39;00m err:\n",
      "File \u001b[1;32m~\\AppData\\Local\\Programs\\Python\\Python310\\lib\\site-packages\\pandas\\_libs\\index.pyx:138\u001b[0m, in \u001b[0;36mpandas._libs.index.IndexEngine.get_loc\u001b[1;34m()\u001b[0m\n",
      "File \u001b[1;32m~\\AppData\\Local\\Programs\\Python\\Python310\\lib\\site-packages\\pandas\\_libs\\index.pyx:165\u001b[0m, in \u001b[0;36mpandas._libs.index.IndexEngine.get_loc\u001b[1;34m()\u001b[0m\n",
      "File \u001b[1;32mpandas\\_libs\\hashtable_class_helper.pxi:5745\u001b[0m, in \u001b[0;36mpandas._libs.hashtable.PyObjectHashTable.get_item\u001b[1;34m()\u001b[0m\n",
      "File \u001b[1;32mpandas\\_libs\\hashtable_class_helper.pxi:5753\u001b[0m, in \u001b[0;36mpandas._libs.hashtable.PyObjectHashTable.get_item\u001b[1;34m()\u001b[0m\n",
      "\u001b[1;31mKeyError\u001b[0m: 'Case Number.1'",
      "\nThe above exception was the direct cause of the following exception:\n",
      "\u001b[1;31mKeyError\u001b[0m                                  Traceback (most recent call last)",
      "Cell \u001b[1;32mIn[17], line 1\u001b[0m\n\u001b[1;32m----> 1\u001b[0m \u001b[38;5;28msum\u001b[39m(sharks[\u001b[38;5;124m'\u001b[39m\u001b[38;5;124mCase Number\u001b[39m\u001b[38;5;124m'\u001b[39m] \u001b[38;5;241m==\u001b[39m \u001b[43msharks\u001b[49m\u001b[43m[\u001b[49m\u001b[38;5;124;43m'\u001b[39;49m\u001b[38;5;124;43mCase Number.1\u001b[39;49m\u001b[38;5;124;43m'\u001b[39;49m\u001b[43m]\u001b[49m)\n",
      "File \u001b[1;32m~\\AppData\\Local\\Programs\\Python\\Python310\\lib\\site-packages\\pandas\\core\\frame.py:3805\u001b[0m, in \u001b[0;36mDataFrame.__getitem__\u001b[1;34m(self, key)\u001b[0m\n\u001b[0;32m   3803\u001b[0m \u001b[38;5;28;01mif\u001b[39;00m \u001b[38;5;28mself\u001b[39m\u001b[38;5;241m.\u001b[39mcolumns\u001b[38;5;241m.\u001b[39mnlevels \u001b[38;5;241m>\u001b[39m \u001b[38;5;241m1\u001b[39m:\n\u001b[0;32m   3804\u001b[0m     \u001b[38;5;28;01mreturn\u001b[39;00m \u001b[38;5;28mself\u001b[39m\u001b[38;5;241m.\u001b[39m_getitem_multilevel(key)\n\u001b[1;32m-> 3805\u001b[0m indexer \u001b[38;5;241m=\u001b[39m \u001b[38;5;28;43mself\u001b[39;49m\u001b[38;5;241;43m.\u001b[39;49m\u001b[43mcolumns\u001b[49m\u001b[38;5;241;43m.\u001b[39;49m\u001b[43mget_loc\u001b[49m\u001b[43m(\u001b[49m\u001b[43mkey\u001b[49m\u001b[43m)\u001b[49m\n\u001b[0;32m   3806\u001b[0m \u001b[38;5;28;01mif\u001b[39;00m is_integer(indexer):\n\u001b[0;32m   3807\u001b[0m     indexer \u001b[38;5;241m=\u001b[39m [indexer]\n",
      "File \u001b[1;32m~\\AppData\\Local\\Programs\\Python\\Python310\\lib\\site-packages\\pandas\\core\\indexes\\base.py:3805\u001b[0m, in \u001b[0;36mIndex.get_loc\u001b[1;34m(self, key, method, tolerance)\u001b[0m\n\u001b[0;32m   3803\u001b[0m     \u001b[38;5;28;01mreturn\u001b[39;00m \u001b[38;5;28mself\u001b[39m\u001b[38;5;241m.\u001b[39m_engine\u001b[38;5;241m.\u001b[39mget_loc(casted_key)\n\u001b[0;32m   3804\u001b[0m \u001b[38;5;28;01mexcept\u001b[39;00m \u001b[38;5;167;01mKeyError\u001b[39;00m \u001b[38;5;28;01mas\u001b[39;00m err:\n\u001b[1;32m-> 3805\u001b[0m     \u001b[38;5;28;01mraise\u001b[39;00m \u001b[38;5;167;01mKeyError\u001b[39;00m(key) \u001b[38;5;28;01mfrom\u001b[39;00m \u001b[38;5;21;01merr\u001b[39;00m\n\u001b[0;32m   3806\u001b[0m \u001b[38;5;28;01mexcept\u001b[39;00m \u001b[38;5;167;01mTypeError\u001b[39;00m:\n\u001b[0;32m   3807\u001b[0m     \u001b[38;5;66;03m# If we have a listlike key, _check_indexing_error will raise\u001b[39;00m\n\u001b[0;32m   3808\u001b[0m     \u001b[38;5;66;03m#  InvalidIndexError. Otherwise we fall through and re-raise\u001b[39;00m\n\u001b[0;32m   3809\u001b[0m     \u001b[38;5;66;03m#  the TypeError.\u001b[39;00m\n\u001b[0;32m   3810\u001b[0m     \u001b[38;5;28mself\u001b[39m\u001b[38;5;241m.\u001b[39m_check_indexing_error(key)\n",
      "\u001b[1;31mKeyError\u001b[0m: 'Case Number.1'"
     ]
    }
   ],
   "source": [
    "sum(sharks['Case Number'] == sharks['Case Number.1'])"
   ]
  },
  {
   "cell_type": "code",
   "execution_count": null,
   "id": "efe2c7b2",
   "metadata": {
    "hidden": true
   },
   "outputs": [],
   "source": [
    "sum(sharks['Case Number'] == sharks['Case Number.2'])"
   ]
  },
  {
   "cell_type": "code",
   "execution_count": null,
   "id": "571b6155",
   "metadata": {
    "hidden": true
   },
   "outputs": [],
   "source": [
    "sharks[sharks['Case Number'] != sharks['Case Number.1']][['Case Number', 'Case Number.1', 'Case Number.2']]"
   ]
  },
  {
   "cell_type": "markdown",
   "id": "34b8dcdf",
   "metadata": {
    "hidden": true
   },
   "source": [
    "As colunas são basicamente iguais, em geral com diferenças de formatação, acréscimos que não se mantém iguais (um 'a' no final) ou, em alguns casos, um dado ligeiramente diferente (dia 6 em vez de 5); no geral, acho que vale a pena eliminar as colunas extras."
   ]
  },
  {
   "cell_type": "code",
   "execution_count": null,
   "id": "f22d5872",
   "metadata": {
    "hidden": true
   },
   "outputs": [],
   "source": [
    "sharks = sharks.drop(['Case Number.1', 'Case Number.2'], axis=1)"
   ]
  },
  {
   "cell_type": "code",
   "execution_count": null,
   "id": "9d9981e2",
   "metadata": {
    "hidden": true
   },
   "outputs": [],
   "source": [
    "sharks.head()"
   ]
  },
  {
   "cell_type": "markdown",
   "id": "613135d1",
   "metadata": {
    "heading_collapsed": true,
    "hidden": true
   },
   "source": [
    "### Unnamed Columns"
   ]
  },
  {
   "cell_type": "code",
   "execution_count": null,
   "id": "afa15976",
   "metadata": {
    "hidden": true
   },
   "outputs": [],
   "source": [
    "sharks.columns"
   ]
  },
  {
   "cell_type": "code",
   "execution_count": null,
   "id": "d061a0c3",
   "metadata": {
    "hidden": true
   },
   "outputs": [],
   "source": [
    "sharks['Unnamed: 22'].value_counts()"
   ]
  },
  {
   "cell_type": "code",
   "execution_count": null,
   "id": "6826d96a",
   "metadata": {
    "hidden": true
   },
   "outputs": [],
   "source": [
    "sharks['Unnamed: 23'].value_counts()"
   ]
  },
  {
   "cell_type": "markdown",
   "id": "4825fe94",
   "metadata": {
    "hidden": true
   },
   "source": [
    "Dados inúteis à análise, eliminá-los"
   ]
  },
  {
   "cell_type": "code",
   "execution_count": null,
   "id": "67282bf0",
   "metadata": {
    "hidden": true
   },
   "outputs": [],
   "source": [
    "sharks = sharks.drop(['Unnamed: 22', 'Unnamed: 23'], axis=1)"
   ]
  },
  {
   "cell_type": "code",
   "execution_count": null,
   "id": "2fb68d18",
   "metadata": {
    "hidden": true
   },
   "outputs": [],
   "source": [
    "sharks.columns"
   ]
  },
  {
   "cell_type": "markdown",
   "id": "e80ce38f",
   "metadata": {
    "heading_collapsed": true,
    "hidden": true
   },
   "source": [
    "### Column Original Order"
   ]
  },
  {
   "cell_type": "code",
   "execution_count": null,
   "id": "ec3edca3",
   "metadata": {
    "hidden": true
   },
   "outputs": [],
   "source": [
    "sharks.sort_values(by='original order', ascending=True)"
   ]
  },
  {
   "cell_type": "markdown",
   "id": "a4908fe8",
   "metadata": {
    "hidden": true
   },
   "source": [
    "Parece ser basicamente o index invertido, com alguns problemas. Eu poderia simplesmente estabelecê-la como index, preservando a ordem original, mas não acredito que isso seja útil para a minha análise porque, para ver uma progressão no tempo, melhor fazer uso da data. Assim, vou excluí-la."
   ]
  },
  {
   "cell_type": "code",
   "execution_count": null,
   "id": "702ca8a9",
   "metadata": {
    "hidden": true
   },
   "outputs": [],
   "source": [
    "sharks = sharks.drop('original order', axis=1)"
   ]
  },
  {
   "cell_type": "code",
   "execution_count": null,
   "id": "3b73cc1d",
   "metadata": {
    "hidden": true
   },
   "outputs": [],
   "source": [
    "sharks.columns"
   ]
  },
  {
   "cell_type": "markdown",
   "id": "020bdfd6",
   "metadata": {
    "heading_collapsed": true,
    "hidden": true
   },
   "source": [
    "### hrefs e pdf"
   ]
  },
  {
   "cell_type": "code",
   "execution_count": null,
   "id": "5212441a",
   "metadata": {
    "hidden": true
   },
   "outputs": [],
   "source": [
    "sum(sharks['href formula'] == sharks['href'])"
   ]
  },
  {
   "cell_type": "code",
   "execution_count": null,
   "id": "90acfaa4",
   "metadata": {
    "hidden": true
   },
   "outputs": [],
   "source": [
    "sharks['href formula'].count()"
   ]
  },
  {
   "cell_type": "markdown",
   "id": "de79811e",
   "metadata": {
    "hidden": true
   },
   "source": [
    "Apesar de não ser estritamente a mesma quantidade, dá para se considerar que é basicamente igual. Como não é, a princípio, algo que eu queira me deter na análise, mais fácil eliminar também. Pelo mesmo motivo, eliminarei o 'pdf'."
   ]
  },
  {
   "cell_type": "code",
   "execution_count": null,
   "id": "1f61c8a5",
   "metadata": {
    "hidden": true
   },
   "outputs": [],
   "source": [
    "sharks = sharks.drop(['href', 'href formula', 'pdf'], axis=1)"
   ]
  },
  {
   "cell_type": "code",
   "execution_count": null,
   "id": "cf8ce5ba",
   "metadata": {
    "hidden": true
   },
   "outputs": [],
   "source": [
    "sharks"
   ]
  },
  {
   "cell_type": "markdown",
   "id": "ae4d4b78",
   "metadata": {
    "heading_collapsed": true,
    "hidden": true
   },
   "source": [
    "## Dropping rows"
   ]
  },
  {
   "cell_type": "code",
   "execution_count": null,
   "id": "7087c1be",
   "metadata": {
    "hidden": true
   },
   "outputs": [],
   "source": [
    "sharks = sharks.dropna(subset='Case Number', axis=0)"
   ]
  },
  {
   "cell_type": "code",
   "execution_count": null,
   "id": "12d09f77",
   "metadata": {
    "hidden": true
   },
   "outputs": [],
   "source": [
    "sharks.tail()"
   ]
  },
  {
   "cell_type": "code",
   "execution_count": null,
   "id": "9e11eb17",
   "metadata": {
    "hidden": true
   },
   "outputs": [],
   "source": [
    "sharks = sharks.drop(sharks[sharks['Case Number'] == 'xx'].index)\n",
    "sharks = sharks.drop(sharks[sharks['Case Number'] == '0'].index)"
   ]
  },
  {
   "cell_type": "code",
   "execution_count": null,
   "id": "9b0e882d",
   "metadata": {
    "hidden": true
   },
   "outputs": [],
   "source": [
    "sharks"
   ]
  },
  {
   "cell_type": "markdown",
   "id": "a5429ae2",
   "metadata": {
    "heading_collapsed": true,
    "hidden": true
   },
   "source": [
    "## Type correction"
   ]
  },
  {
   "cell_type": "markdown",
   "id": "66530ee2",
   "metadata": {
    "hidden": true
   },
   "source": [
    "Numeric columns should be:\n",
    "- Year (already ok)\n",
    "- Age\n",
    "- original order (already ok)"
   ]
  },
  {
   "cell_type": "markdown",
   "id": "34941a2b",
   "metadata": {
    "heading_collapsed": true,
    "hidden": true
   },
   "source": [
    "### Age"
   ]
  },
  {
   "cell_type": "code",
   "execution_count": null,
   "id": "37099afa",
   "metadata": {
    "hidden": true
   },
   "outputs": [],
   "source": [
    "sharks['Age'].head(20)"
   ]
  },
  {
   "cell_type": "code",
   "execution_count": null,
   "id": "d585de8f",
   "metadata": {
    "hidden": true
   },
   "outputs": [],
   "source": [
    "sharks['Age'].value_counts()"
   ]
  },
  {
   "cell_type": "code",
   "execution_count": null,
   "id": "0b957b5e",
   "metadata": {
    "hidden": true
   },
   "outputs": [],
   "source": [
    "sharks['Age'].unique()"
   ]
  },
  {
   "cell_type": "markdown",
   "id": "93bd8277",
   "metadata": {
    "hidden": true
   },
   "source": [
    "Alright, this is a problem. I shall think if I drop the text records or if I just give up, losing important information. Maybe there is some way to only calculate the numeric data? Maybe a function called by map()?"
   ]
  },
  {
   "cell_type": "code",
   "execution_count": null,
   "id": "ac1d294b",
   "metadata": {
    "hidden": true
   },
   "outputs": [],
   "source": [
    "def convert_age(age):\n",
    "    try:\n",
    "        return int(age)\n",
    "    except:\n",
    "        return np.nan"
   ]
  },
  {
   "cell_type": "code",
   "execution_count": null,
   "id": "400335e8",
   "metadata": {
    "hidden": true
   },
   "outputs": [],
   "source": [
    "sharks['Age'].map(convert_age).mean()"
   ]
  },
  {
   "cell_type": "code",
   "execution_count": null,
   "id": "d0f1f6ef",
   "metadata": {
    "hidden": true
   },
   "outputs": [],
   "source": [
    "sharks['Age'].map(convert_age).describe()"
   ]
  },
  {
   "cell_type": "markdown",
   "id": "2786b410",
   "metadata": {
    "hidden": true
   },
   "source": [
    "It works!"
   ]
  },
  {
   "cell_type": "markdown",
   "id": "ee444daf",
   "metadata": {
    "heading_collapsed": true,
    "hidden": true
   },
   "source": [
    "## NaN analysis, filling or dropping"
   ]
  },
  {
   "cell_type": "code",
   "execution_count": null,
   "id": "8e7b0f78",
   "metadata": {
    "hidden": true
   },
   "outputs": [],
   "source": [
    "sharks.columns"
   ]
  },
  {
   "cell_type": "code",
   "execution_count": null,
   "id": "113efa73",
   "metadata": {
    "hidden": true
   },
   "outputs": [],
   "source": [
    "sharks.loc[187, 'Year'] = 2017"
   ]
  },
  {
   "cell_type": "code",
   "execution_count": null,
   "id": "eba162b6",
   "metadata": {
    "hidden": true
   },
   "outputs": [],
   "source": [
    "sharks.loc[6079, 'Year'] = 1836"
   ]
  },
  {
   "cell_type": "code",
   "execution_count": null,
   "id": "d5a60995",
   "metadata": {
    "hidden": true,
    "scrolled": true
   },
   "outputs": [],
   "source": [
    "sharks[sharks['Year'].isna()]"
   ]
  },
  {
   "cell_type": "markdown",
   "id": "73458815",
   "metadata": {
    "heading_collapsed": true,
    "hidden": true
   },
   "source": [
    "## Duplicates?"
   ]
  },
  {
   "cell_type": "code",
   "execution_count": null,
   "id": "0fa5c99c",
   "metadata": {
    "hidden": true
   },
   "outputs": [],
   "source": [
    "sum(sharks.duplicated())"
   ]
  },
  {
   "cell_type": "markdown",
   "id": "70ec8a84",
   "metadata": {
    "hidden": true
   },
   "source": [
    "Sem duplicatas estritamente falando"
   ]
  },
  {
   "cell_type": "markdown",
   "id": "d440d377",
   "metadata": {
    "heading_collapsed": true
   },
   "source": [
    "# Analysing the Data Again"
   ]
  },
  {
   "cell_type": "code",
   "execution_count": null,
   "id": "2e0b6647",
   "metadata": {
    "hidden": true
   },
   "outputs": [],
   "source": [
    "sharks.info()"
   ]
  },
  {
   "cell_type": "code",
   "execution_count": null,
   "id": "2853bb48",
   "metadata": {
    "hidden": true
   },
   "outputs": [],
   "source": [
    "sharks.describe()"
   ]
  },
  {
   "cell_type": "markdown",
   "id": "5d27ce6f",
   "metadata": {
    "hidden": true
   },
   "source": [
    "The year '0' means that the date is uncertain"
   ]
  },
  {
   "cell_type": "code",
   "execution_count": null,
   "id": "e49403d9",
   "metadata": {
    "hidden": true
   },
   "outputs": [],
   "source": [
    "sharks[sharks['Year'] == sharks['Year'].min()]['Date'].value_counts()"
   ]
  },
  {
   "cell_type": "code",
   "execution_count": null,
   "id": "3595e240",
   "metadata": {
    "hidden": true
   },
   "outputs": [],
   "source": [
    "sharks.head()"
   ]
  },
  {
   "cell_type": "code",
   "execution_count": null,
   "id": "028c0f13",
   "metadata": {
    "hidden": true
   },
   "outputs": [],
   "source": [
    "sharks.tail()"
   ]
  },
  {
   "cell_type": "markdown",
   "id": "a2435884",
   "metadata": {
    "heading_collapsed": true,
    "hidden": true
   },
   "source": [
    "### Análise de localização"
   ]
  },
  {
   "cell_type": "code",
   "execution_count": null,
   "id": "4f784ed3",
   "metadata": {
    "hidden": true
   },
   "outputs": [],
   "source": [
    "sharks.groupby('Country').count().sort_values(by='Case Number', ascending=False)"
   ]
  },
  {
   "cell_type": "code",
   "execution_count": null,
   "id": "f5ae0c96",
   "metadata": {
    "hidden": true
   },
   "outputs": [],
   "source": [
    "sharks_usa = sharks[sharks['Country'] == 'USA']"
   ]
  },
  {
   "cell_type": "code",
   "execution_count": null,
   "id": "690c6c10",
   "metadata": {
    "hidden": true
   },
   "outputs": [],
   "source": [
    "sharks_usa['Area'].value_counts()"
   ]
  },
  {
   "cell_type": "code",
   "execution_count": null,
   "id": "37c5caff",
   "metadata": {
    "hidden": true
   },
   "outputs": [],
   "source": [
    "sharks_usa_florida = sharks_usa[sharks_usa['Area'] == 'Florida']"
   ]
  },
  {
   "cell_type": "code",
   "execution_count": null,
   "id": "2244b73c",
   "metadata": {
    "hidden": true
   },
   "outputs": [],
   "source": [
    "sharks_usa_florida.info()"
   ]
  },
  {
   "cell_type": "code",
   "execution_count": null,
   "id": "34331247",
   "metadata": {
    "hidden": true
   },
   "outputs": [],
   "source": [
    "sharks_usa_florida['Location'].value_counts()"
   ]
  },
  {
   "cell_type": "code",
   "execution_count": null,
   "id": "ca9131c5",
   "metadata": {
    "hidden": true
   },
   "outputs": [],
   "source": [
    "sharks_usa_florida_new_smyrna = sharks_usa_florida[sharks_usa_florida['Location'] == 'New Smyrna Beach, Volusia County']"
   ]
  },
  {
   "cell_type": "code",
   "execution_count": null,
   "id": "ff9f94a7",
   "metadata": {
    "hidden": true
   },
   "outputs": [],
   "source": [
    "mask_volusia = sharks_usa_florida['Location'].map(lambda x: str(x).endswith('Volusia County'))\n",
    "sharks_usa_volusia_county = sharks_usa_florida[mask_volusia]"
   ]
  },
  {
   "cell_type": "code",
   "execution_count": null,
   "id": "1c100435",
   "metadata": {
    "hidden": true
   },
   "outputs": [],
   "source": [
    "sharks_usa_volusia_county.info()"
   ]
  },
  {
   "cell_type": "code",
   "execution_count": null,
   "id": "aa2c7633",
   "metadata": {
    "hidden": true
   },
   "outputs": [],
   "source": [
    "sharks_usa_volusia_county.select_dtypes('object').describe().T"
   ]
  },
  {
   "cell_type": "markdown",
   "id": "aad43cdd",
   "metadata": {},
   "source": [
    "# Analysing Hypothesis"
   ]
  },
  {
   "cell_type": "markdown",
   "id": "4d16fb2a",
   "metadata": {},
   "source": [
    "What are the greatest mortality rates by country?"
   ]
  },
  {
   "cell_type": "code",
   "execution_count": 20,
   "id": "7bc6e064",
   "metadata": {},
   "outputs": [],
   "source": [
    "sharks['Fatality'] = sharks['Fatal (Y/N)'].map(lambda x:1 if x=='Y' else 0)"
   ]
  },
  {
   "cell_type": "code",
   "execution_count": 21,
   "id": "2cff71c5",
   "metadata": {},
   "outputs": [],
   "source": [
    "mask_usa_australia = (sharks['Country'] == 'USA') | (sharks['Country'] == 'AUSTRALIA')\n",
    "sharks_loc_usa_australia = sharks[mask_usa_australia].copy()"
   ]
  },
  {
   "cell_type": "markdown",
   "id": "0c10ca22",
   "metadata": {},
   "source": [
    "Em toda a história de registros, há 2228 casos nos EUA e 1338 na Austrália."
   ]
  },
  {
   "cell_type": "code",
   "execution_count": 22,
   "id": "f4550e53",
   "metadata": {},
   "outputs": [
    {
     "data": {
      "text/plain": [
       "USA          2228\n",
       "AUSTRALIA    1338\n",
       "Name: Country, dtype: int64"
      ]
     },
     "execution_count": 22,
     "metadata": {},
     "output_type": "execute_result"
    }
   ],
   "source": [
    "sharks_loc_usa_australia['Country'].value_counts()"
   ]
  },
  {
   "cell_type": "markdown",
   "id": "1c3f74d9",
   "metadata": {},
   "source": [
    "O dataframe abaixo mostra todos os anos para cada um dos países com registros de ataques de tubarão.\n",
    "\n",
    "Obs.: cabe limpeza, já que o ano zero é claramente errado."
   ]
  },
  {
   "cell_type": "code",
   "execution_count": 23,
   "id": "42467141",
   "metadata": {},
   "outputs": [
    {
     "data": {
      "text/html": [
       "<div>\n",
       "<style scoped>\n",
       "    .dataframe tbody tr th:only-of-type {\n",
       "        vertical-align: middle;\n",
       "    }\n",
       "\n",
       "    .dataframe tbody tr th {\n",
       "        vertical-align: top;\n",
       "    }\n",
       "\n",
       "    .dataframe thead th {\n",
       "        text-align: right;\n",
       "    }\n",
       "</style>\n",
       "<table border=\"1\" class=\"dataframe\">\n",
       "  <thead>\n",
       "    <tr style=\"text-align: right;\">\n",
       "      <th></th>\n",
       "      <th>Country</th>\n",
       "      <th>Year</th>\n",
       "      <th>fatal_cases</th>\n",
       "      <th>total_cases</th>\n",
       "    </tr>\n",
       "  </thead>\n",
       "  <tbody>\n",
       "    <tr>\n",
       "      <th>0</th>\n",
       "      <td>AUSTRALIA</td>\n",
       "      <td>0.0</td>\n",
       "      <td>8</td>\n",
       "      <td>16</td>\n",
       "    </tr>\n",
       "    <tr>\n",
       "      <th>1</th>\n",
       "      <td>AUSTRALIA</td>\n",
       "      <td>5.0</td>\n",
       "      <td>0</td>\n",
       "      <td>1</td>\n",
       "    </tr>\n",
       "    <tr>\n",
       "      <th>2</th>\n",
       "      <td>AUSTRALIA</td>\n",
       "      <td>1788.0</td>\n",
       "      <td>0</td>\n",
       "      <td>1</td>\n",
       "    </tr>\n",
       "    <tr>\n",
       "      <th>3</th>\n",
       "      <td>AUSTRALIA</td>\n",
       "      <td>1791.0</td>\n",
       "      <td>1</td>\n",
       "      <td>1</td>\n",
       "    </tr>\n",
       "    <tr>\n",
       "      <th>4</th>\n",
       "      <td>AUSTRALIA</td>\n",
       "      <td>1803.0</td>\n",
       "      <td>0</td>\n",
       "      <td>1</td>\n",
       "    </tr>\n",
       "    <tr>\n",
       "      <th>...</th>\n",
       "      <td>...</td>\n",
       "      <td>...</td>\n",
       "      <td>...</td>\n",
       "      <td>...</td>\n",
       "    </tr>\n",
       "    <tr>\n",
       "      <th>357</th>\n",
       "      <td>USA</td>\n",
       "      <td>2014.0</td>\n",
       "      <td>0</td>\n",
       "      <td>66</td>\n",
       "    </tr>\n",
       "    <tr>\n",
       "      <th>358</th>\n",
       "      <td>USA</td>\n",
       "      <td>2015.0</td>\n",
       "      <td>1</td>\n",
       "      <td>73</td>\n",
       "    </tr>\n",
       "    <tr>\n",
       "      <th>359</th>\n",
       "      <td>USA</td>\n",
       "      <td>2016.0</td>\n",
       "      <td>0</td>\n",
       "      <td>64</td>\n",
       "    </tr>\n",
       "    <tr>\n",
       "      <th>360</th>\n",
       "      <td>USA</td>\n",
       "      <td>2017.0</td>\n",
       "      <td>0</td>\n",
       "      <td>65</td>\n",
       "    </tr>\n",
       "    <tr>\n",
       "      <th>361</th>\n",
       "      <td>USA</td>\n",
       "      <td>2018.0</td>\n",
       "      <td>0</td>\n",
       "      <td>10</td>\n",
       "    </tr>\n",
       "  </tbody>\n",
       "</table>\n",
       "<p>362 rows × 4 columns</p>\n",
       "</div>"
      ],
      "text/plain": [
       "       Country    Year  fatal_cases  total_cases\n",
       "0    AUSTRALIA     0.0            8           16\n",
       "1    AUSTRALIA     5.0            0            1\n",
       "2    AUSTRALIA  1788.0            0            1\n",
       "3    AUSTRALIA  1791.0            1            1\n",
       "4    AUSTRALIA  1803.0            0            1\n",
       "..         ...     ...          ...          ...\n",
       "357        USA  2014.0            0           66\n",
       "358        USA  2015.0            1           73\n",
       "359        USA  2016.0            0           64\n",
       "360        USA  2017.0            0           65\n",
       "361        USA  2018.0            0           10\n",
       "\n",
       "[362 rows x 4 columns]"
      ]
     },
     "execution_count": 23,
     "metadata": {},
     "output_type": "execute_result"
    }
   ],
   "source": [
    "sharks_usa_australia_year = sharks_loc_usa_australia.groupby(['Country', 'Year'])['Fatality'].agg(fatal_cases = 'sum', total_cases = 'count').reset_index()\n",
    "sharks_usa_australia_year"
   ]
  },
  {
   "cell_type": "code",
   "execution_count": 24,
   "id": "fa9d8355",
   "metadata": {},
   "outputs": [],
   "source": [
    "sharks_usa_australia_year['fatality_rate'] = sharks_usa_australia_year['fatal_cases'] / sharks_usa_australia_year['total_cases']"
   ]
  },
  {
   "cell_type": "code",
   "execution_count": 25,
   "id": "de23e038",
   "metadata": {},
   "outputs": [
    {
     "data": {
      "text/html": [
       "<div>\n",
       "<style scoped>\n",
       "    .dataframe tbody tr th:only-of-type {\n",
       "        vertical-align: middle;\n",
       "    }\n",
       "\n",
       "    .dataframe tbody tr th {\n",
       "        vertical-align: top;\n",
       "    }\n",
       "\n",
       "    .dataframe thead th {\n",
       "        text-align: right;\n",
       "    }\n",
       "</style>\n",
       "<table border=\"1\" class=\"dataframe\">\n",
       "  <thead>\n",
       "    <tr style=\"text-align: right;\">\n",
       "      <th></th>\n",
       "      <th>Country</th>\n",
       "      <th>Year</th>\n",
       "      <th>fatal_cases</th>\n",
       "      <th>total_cases</th>\n",
       "      <th>fatality_rate</th>\n",
       "    </tr>\n",
       "  </thead>\n",
       "  <tbody>\n",
       "    <tr>\n",
       "      <th>0</th>\n",
       "      <td>AUSTRALIA</td>\n",
       "      <td>0.0</td>\n",
       "      <td>8</td>\n",
       "      <td>16</td>\n",
       "      <td>0.500000</td>\n",
       "    </tr>\n",
       "    <tr>\n",
       "      <th>1</th>\n",
       "      <td>AUSTRALIA</td>\n",
       "      <td>5.0</td>\n",
       "      <td>0</td>\n",
       "      <td>1</td>\n",
       "      <td>0.000000</td>\n",
       "    </tr>\n",
       "    <tr>\n",
       "      <th>2</th>\n",
       "      <td>AUSTRALIA</td>\n",
       "      <td>1788.0</td>\n",
       "      <td>0</td>\n",
       "      <td>1</td>\n",
       "      <td>0.000000</td>\n",
       "    </tr>\n",
       "    <tr>\n",
       "      <th>3</th>\n",
       "      <td>AUSTRALIA</td>\n",
       "      <td>1791.0</td>\n",
       "      <td>1</td>\n",
       "      <td>1</td>\n",
       "      <td>1.000000</td>\n",
       "    </tr>\n",
       "    <tr>\n",
       "      <th>4</th>\n",
       "      <td>AUSTRALIA</td>\n",
       "      <td>1803.0</td>\n",
       "      <td>0</td>\n",
       "      <td>1</td>\n",
       "      <td>0.000000</td>\n",
       "    </tr>\n",
       "    <tr>\n",
       "      <th>...</th>\n",
       "      <td>...</td>\n",
       "      <td>...</td>\n",
       "      <td>...</td>\n",
       "      <td>...</td>\n",
       "      <td>...</td>\n",
       "    </tr>\n",
       "    <tr>\n",
       "      <th>357</th>\n",
       "      <td>USA</td>\n",
       "      <td>2014.0</td>\n",
       "      <td>0</td>\n",
       "      <td>66</td>\n",
       "      <td>0.000000</td>\n",
       "    </tr>\n",
       "    <tr>\n",
       "      <th>358</th>\n",
       "      <td>USA</td>\n",
       "      <td>2015.0</td>\n",
       "      <td>1</td>\n",
       "      <td>73</td>\n",
       "      <td>0.013699</td>\n",
       "    </tr>\n",
       "    <tr>\n",
       "      <th>359</th>\n",
       "      <td>USA</td>\n",
       "      <td>2016.0</td>\n",
       "      <td>0</td>\n",
       "      <td>64</td>\n",
       "      <td>0.000000</td>\n",
       "    </tr>\n",
       "    <tr>\n",
       "      <th>360</th>\n",
       "      <td>USA</td>\n",
       "      <td>2017.0</td>\n",
       "      <td>0</td>\n",
       "      <td>65</td>\n",
       "      <td>0.000000</td>\n",
       "    </tr>\n",
       "    <tr>\n",
       "      <th>361</th>\n",
       "      <td>USA</td>\n",
       "      <td>2018.0</td>\n",
       "      <td>0</td>\n",
       "      <td>10</td>\n",
       "      <td>0.000000</td>\n",
       "    </tr>\n",
       "  </tbody>\n",
       "</table>\n",
       "<p>362 rows × 5 columns</p>\n",
       "</div>"
      ],
      "text/plain": [
       "       Country    Year  fatal_cases  total_cases  fatality_rate\n",
       "0    AUSTRALIA     0.0            8           16       0.500000\n",
       "1    AUSTRALIA     5.0            0            1       0.000000\n",
       "2    AUSTRALIA  1788.0            0            1       0.000000\n",
       "3    AUSTRALIA  1791.0            1            1       1.000000\n",
       "4    AUSTRALIA  1803.0            0            1       0.000000\n",
       "..         ...     ...          ...          ...            ...\n",
       "357        USA  2014.0            0           66       0.000000\n",
       "358        USA  2015.0            1           73       0.013699\n",
       "359        USA  2016.0            0           64       0.000000\n",
       "360        USA  2017.0            0           65       0.000000\n",
       "361        USA  2018.0            0           10       0.000000\n",
       "\n",
       "[362 rows x 5 columns]"
      ]
     },
     "execution_count": 25,
     "metadata": {},
     "output_type": "execute_result"
    }
   ],
   "source": [
    "sharks_usa_australia_year"
   ]
  },
  {
   "cell_type": "markdown",
   "id": "73acdd87",
   "metadata": {},
   "source": [
    "Uma primeira facilitação de análise é excluir um certo intervalo de registros."
   ]
  },
  {
   "cell_type": "code",
   "execution_count": 26,
   "id": "bbacd932",
   "metadata": {
    "scrolled": true
   },
   "outputs": [
    {
     "data": {
      "text/html": [
       "<div>\n",
       "<style scoped>\n",
       "    .dataframe tbody tr th:only-of-type {\n",
       "        vertical-align: middle;\n",
       "    }\n",
       "\n",
       "    .dataframe tbody tr th {\n",
       "        vertical-align: top;\n",
       "    }\n",
       "\n",
       "    .dataframe thead th {\n",
       "        text-align: right;\n",
       "    }\n",
       "</style>\n",
       "<table border=\"1\" class=\"dataframe\">\n",
       "  <thead>\n",
       "    <tr style=\"text-align: right;\">\n",
       "      <th></th>\n",
       "      <th>Country</th>\n",
       "      <th>Year</th>\n",
       "      <th>fatal_cases</th>\n",
       "      <th>total_cases</th>\n",
       "      <th>fatality_rate</th>\n",
       "    </tr>\n",
       "  </thead>\n",
       "  <tbody>\n",
       "    <tr>\n",
       "      <th>64</th>\n",
       "      <td>AUSTRALIA</td>\n",
       "      <td>1901.0</td>\n",
       "      <td>1</td>\n",
       "      <td>2</td>\n",
       "      <td>0.500000</td>\n",
       "    </tr>\n",
       "    <tr>\n",
       "      <th>65</th>\n",
       "      <td>AUSTRALIA</td>\n",
       "      <td>1902.0</td>\n",
       "      <td>2</td>\n",
       "      <td>3</td>\n",
       "      <td>0.666667</td>\n",
       "    </tr>\n",
       "    <tr>\n",
       "      <th>66</th>\n",
       "      <td>AUSTRALIA</td>\n",
       "      <td>1903.0</td>\n",
       "      <td>4</td>\n",
       "      <td>4</td>\n",
       "      <td>1.000000</td>\n",
       "    </tr>\n",
       "    <tr>\n",
       "      <th>67</th>\n",
       "      <td>AUSTRALIA</td>\n",
       "      <td>1904.0</td>\n",
       "      <td>1</td>\n",
       "      <td>1</td>\n",
       "      <td>1.000000</td>\n",
       "    </tr>\n",
       "    <tr>\n",
       "      <th>68</th>\n",
       "      <td>AUSTRALIA</td>\n",
       "      <td>1905.0</td>\n",
       "      <td>1</td>\n",
       "      <td>6</td>\n",
       "      <td>0.166667</td>\n",
       "    </tr>\n",
       "    <tr>\n",
       "      <th>...</th>\n",
       "      <td>...</td>\n",
       "      <td>...</td>\n",
       "      <td>...</td>\n",
       "      <td>...</td>\n",
       "      <td>...</td>\n",
       "    </tr>\n",
       "    <tr>\n",
       "      <th>357</th>\n",
       "      <td>USA</td>\n",
       "      <td>2014.0</td>\n",
       "      <td>0</td>\n",
       "      <td>66</td>\n",
       "      <td>0.000000</td>\n",
       "    </tr>\n",
       "    <tr>\n",
       "      <th>358</th>\n",
       "      <td>USA</td>\n",
       "      <td>2015.0</td>\n",
       "      <td>1</td>\n",
       "      <td>73</td>\n",
       "      <td>0.013699</td>\n",
       "    </tr>\n",
       "    <tr>\n",
       "      <th>359</th>\n",
       "      <td>USA</td>\n",
       "      <td>2016.0</td>\n",
       "      <td>0</td>\n",
       "      <td>64</td>\n",
       "      <td>0.000000</td>\n",
       "    </tr>\n",
       "    <tr>\n",
       "      <th>360</th>\n",
       "      <td>USA</td>\n",
       "      <td>2017.0</td>\n",
       "      <td>0</td>\n",
       "      <td>65</td>\n",
       "      <td>0.000000</td>\n",
       "    </tr>\n",
       "    <tr>\n",
       "      <th>361</th>\n",
       "      <td>USA</td>\n",
       "      <td>2018.0</td>\n",
       "      <td>0</td>\n",
       "      <td>10</td>\n",
       "      <td>0.000000</td>\n",
       "    </tr>\n",
       "  </tbody>\n",
       "</table>\n",
       "<p>234 rows × 5 columns</p>\n",
       "</div>"
      ],
      "text/plain": [
       "       Country    Year  fatal_cases  total_cases  fatality_rate\n",
       "64   AUSTRALIA  1901.0            1            2       0.500000\n",
       "65   AUSTRALIA  1902.0            2            3       0.666667\n",
       "66   AUSTRALIA  1903.0            4            4       1.000000\n",
       "67   AUSTRALIA  1904.0            1            1       1.000000\n",
       "68   AUSTRALIA  1905.0            1            6       0.166667\n",
       "..         ...     ...          ...          ...            ...\n",
       "357        USA  2014.0            0           66       0.000000\n",
       "358        USA  2015.0            1           73       0.013699\n",
       "359        USA  2016.0            0           64       0.000000\n",
       "360        USA  2017.0            0           65       0.000000\n",
       "361        USA  2018.0            0           10       0.000000\n",
       "\n",
       "[234 rows x 5 columns]"
      ]
     },
     "execution_count": 26,
     "metadata": {},
     "output_type": "execute_result"
    }
   ],
   "source": [
    "sharks_usa_australia_year_1900 = sharks_usa_australia_year[sharks_usa_australia_year['Year'] > 1900]\n",
    "sharks_usa_australia_year_1900"
   ]
  },
  {
   "cell_type": "code",
   "execution_count": 27,
   "id": "4cd27c57",
   "metadata": {
    "scrolled": true
   },
   "outputs": [
    {
     "data": {
      "text/plain": [
       "<Axes: xlabel='Year', ylabel='fatal_cases'>"
      ]
     },
     "execution_count": 27,
     "metadata": {},
     "output_type": "execute_result"
    },
    {
     "data": {
      "image/png": "[encoded data removed]",
      "text/plain": [
       "<Figure size 640x480 with 1 Axes>"
      ]
     },
     "metadata": {},
     "output_type": "display_data"
    }
   ],
   "source": [
    "sns.lineplot(data=sharks_usa_australia_year_1900, x='Year', y='fatal_cases', hue='Country')"
   ]
  },
  {
   "cell_type": "code",
   "execution_count": 28,
   "id": "e8822579",
   "metadata": {},
   "outputs": [
    {
     "data": {
      "text/plain": [
       "<Axes: xlabel='Year', ylabel='total_cases'>"
      ]
     },
     "execution_count": 28,
     "metadata": {},
     "output_type": "execute_result"
    },
    {
     "data": {
      "image/png": "[encoded data removed]",
      "text/plain": [
       "<Figure size 640x480 with 1 Axes>"
      ]
     },
     "metadata": {},
     "output_type": "display_data"
    }
   ],
   "source": [
    "sns.lineplot(data=sharks_usa_australia_year_1900, x='Year', y='total_cases', hue='Country')"
   ]
  },
  {
   "cell_type": "code",
   "execution_count": 29,
   "id": "30ac70b9",
   "metadata": {},
   "outputs": [
    {
     "data": {
      "text/plain": [
       "<Axes: xlabel='Year', ylabel='fatality_rate'>"
      ]
     },
     "execution_count": 29,
     "metadata": {},
     "output_type": "execute_result"
    },
    {
     "data": {
      "image/png": "[encoded data removed]",
      "text/plain": [
       "<Figure size 640x480 with 1 Axes>"
      ]
     },
     "metadata": {},
     "output_type": "display_data"
    }
   ],
   "source": [
    "sns.lineplot(data=sharks_usa_australia_year_1900, x='Year', y='fatality_rate', hue='Country')"
   ]
  },
  {
   "cell_type": "markdown",
   "id": "20cc7519",
   "metadata": {},
   "source": [
    "O gráfico abaixo mostra que há uma quantidade muito maior de registros dos USA a partir da década de 80, sempre tendendo ao crescimento. O número da Austrália cresce também, mas a quantidade total é sempre menor. Isso não necessariamente reflete um menor número de ataques de tubarão, mas um menor número de registros de ataques de tubarão. "
   ]
  },
  {
   "cell_type": "code",
   "execution_count": 30,
   "id": "1a2d4326",
   "metadata": {
    "scrolled": true
   },
   "outputs": [
    {
     "data": {
      "text/html": [
       "<div>\n",
       "<style scoped>\n",
       "    .dataframe tbody tr th:only-of-type {\n",
       "        vertical-align: middle;\n",
       "    }\n",
       "\n",
       "    .dataframe tbody tr th {\n",
       "        vertical-align: top;\n",
       "    }\n",
       "\n",
       "    .dataframe thead th {\n",
       "        text-align: right;\n",
       "    }\n",
       "</style>\n",
       "<table border=\"1\" class=\"dataframe\">\n",
       "  <thead>\n",
       "    <tr style=\"text-align: right;\">\n",
       "      <th></th>\n",
       "      <th>Country</th>\n",
       "      <th>Year</th>\n",
       "      <th>fatal_cases</th>\n",
       "      <th>total_cases</th>\n",
       "      <th>fatality_rate</th>\n",
       "    </tr>\n",
       "  </thead>\n",
       "  <tbody>\n",
       "    <tr>\n",
       "      <th>64</th>\n",
       "      <td>AUSTRALIA</td>\n",
       "      <td>1901.0</td>\n",
       "      <td>1</td>\n",
       "      <td>2</td>\n",
       "      <td>0.500000</td>\n",
       "    </tr>\n",
       "    <tr>\n",
       "      <th>65</th>\n",
       "      <td>AUSTRALIA</td>\n",
       "      <td>1902.0</td>\n",
       "      <td>2</td>\n",
       "      <td>3</td>\n",
       "      <td>0.666667</td>\n",
       "    </tr>\n",
       "    <tr>\n",
       "      <th>66</th>\n",
       "      <td>AUSTRALIA</td>\n",
       "      <td>1903.0</td>\n",
       "      <td>4</td>\n",
       "      <td>4</td>\n",
       "      <td>1.000000</td>\n",
       "    </tr>\n",
       "    <tr>\n",
       "      <th>67</th>\n",
       "      <td>AUSTRALIA</td>\n",
       "      <td>1904.0</td>\n",
       "      <td>1</td>\n",
       "      <td>1</td>\n",
       "      <td>1.000000</td>\n",
       "    </tr>\n",
       "    <tr>\n",
       "      <th>68</th>\n",
       "      <td>AUSTRALIA</td>\n",
       "      <td>1905.0</td>\n",
       "      <td>1</td>\n",
       "      <td>6</td>\n",
       "      <td>0.166667</td>\n",
       "    </tr>\n",
       "    <tr>\n",
       "      <th>...</th>\n",
       "      <td>...</td>\n",
       "      <td>...</td>\n",
       "      <td>...</td>\n",
       "      <td>...</td>\n",
       "      <td>...</td>\n",
       "    </tr>\n",
       "    <tr>\n",
       "      <th>357</th>\n",
       "      <td>USA</td>\n",
       "      <td>2014.0</td>\n",
       "      <td>0</td>\n",
       "      <td>66</td>\n",
       "      <td>0.000000</td>\n",
       "    </tr>\n",
       "    <tr>\n",
       "      <th>358</th>\n",
       "      <td>USA</td>\n",
       "      <td>2015.0</td>\n",
       "      <td>1</td>\n",
       "      <td>73</td>\n",
       "      <td>0.013699</td>\n",
       "    </tr>\n",
       "    <tr>\n",
       "      <th>359</th>\n",
       "      <td>USA</td>\n",
       "      <td>2016.0</td>\n",
       "      <td>0</td>\n",
       "      <td>64</td>\n",
       "      <td>0.000000</td>\n",
       "    </tr>\n",
       "    <tr>\n",
       "      <th>360</th>\n",
       "      <td>USA</td>\n",
       "      <td>2017.0</td>\n",
       "      <td>0</td>\n",
       "      <td>65</td>\n",
       "      <td>0.000000</td>\n",
       "    </tr>\n",
       "    <tr>\n",
       "      <th>361</th>\n",
       "      <td>USA</td>\n",
       "      <td>2018.0</td>\n",
       "      <td>0</td>\n",
       "      <td>10</td>\n",
       "      <td>0.000000</td>\n",
       "    </tr>\n",
       "  </tbody>\n",
       "</table>\n",
       "<p>234 rows × 5 columns</p>\n",
       "</div>"
      ],
      "text/plain": [
       "       Country    Year  fatal_cases  total_cases  fatality_rate\n",
       "64   AUSTRALIA  1901.0            1            2       0.500000\n",
       "65   AUSTRALIA  1902.0            2            3       0.666667\n",
       "66   AUSTRALIA  1903.0            4            4       1.000000\n",
       "67   AUSTRALIA  1904.0            1            1       1.000000\n",
       "68   AUSTRALIA  1905.0            1            6       0.166667\n",
       "..         ...     ...          ...          ...            ...\n",
       "357        USA  2014.0            0           66       0.000000\n",
       "358        USA  2015.0            1           73       0.013699\n",
       "359        USA  2016.0            0           64       0.000000\n",
       "360        USA  2017.0            0           65       0.000000\n",
       "361        USA  2018.0            0           10       0.000000\n",
       "\n",
       "[234 rows x 5 columns]"
      ]
     },
     "execution_count": 30,
     "metadata": {},
     "output_type": "execute_result"
    }
   ],
   "source": [
    "sharks_usa_australia_year_1900"
   ]
  },
  {
   "cell_type": "code",
   "execution_count": 31,
   "id": "2aa68114",
   "metadata": {},
   "outputs": [
    {
     "data": {
      "text/html": [
       "<div>\n",
       "<style scoped>\n",
       "    .dataframe tbody tr th:only-of-type {\n",
       "        vertical-align: middle;\n",
       "    }\n",
       "\n",
       "    .dataframe tbody tr th {\n",
       "        vertical-align: top;\n",
       "    }\n",
       "\n",
       "    .dataframe thead th {\n",
       "        text-align: right;\n",
       "    }\n",
       "</style>\n",
       "<table border=\"1\" class=\"dataframe\">\n",
       "  <thead>\n",
       "    <tr style=\"text-align: right;\">\n",
       "      <th></th>\n",
       "      <th>Country</th>\n",
       "      <th>Year</th>\n",
       "      <th>fatal_cases</th>\n",
       "      <th>total_cases</th>\n",
       "      <th>fatality_rate</th>\n",
       "    </tr>\n",
       "  </thead>\n",
       "  <tbody>\n",
       "    <tr>\n",
       "      <th>124</th>\n",
       "      <td>AUSTRALIA</td>\n",
       "      <td>1961.0</td>\n",
       "      <td>2</td>\n",
       "      <td>24</td>\n",
       "      <td>0.083333</td>\n",
       "    </tr>\n",
       "    <tr>\n",
       "      <th>125</th>\n",
       "      <td>AUSTRALIA</td>\n",
       "      <td>1962.0</td>\n",
       "      <td>1</td>\n",
       "      <td>20</td>\n",
       "      <td>0.050000</td>\n",
       "    </tr>\n",
       "    <tr>\n",
       "      <th>126</th>\n",
       "      <td>AUSTRALIA</td>\n",
       "      <td>1963.0</td>\n",
       "      <td>1</td>\n",
       "      <td>11</td>\n",
       "      <td>0.090909</td>\n",
       "    </tr>\n",
       "    <tr>\n",
       "      <th>127</th>\n",
       "      <td>AUSTRALIA</td>\n",
       "      <td>1964.0</td>\n",
       "      <td>1</td>\n",
       "      <td>9</td>\n",
       "      <td>0.111111</td>\n",
       "    </tr>\n",
       "    <tr>\n",
       "      <th>128</th>\n",
       "      <td>AUSTRALIA</td>\n",
       "      <td>1965.0</td>\n",
       "      <td>1</td>\n",
       "      <td>5</td>\n",
       "      <td>0.200000</td>\n",
       "    </tr>\n",
       "    <tr>\n",
       "      <th>...</th>\n",
       "      <td>...</td>\n",
       "      <td>...</td>\n",
       "      <td>...</td>\n",
       "      <td>...</td>\n",
       "      <td>...</td>\n",
       "    </tr>\n",
       "    <tr>\n",
       "      <th>357</th>\n",
       "      <td>USA</td>\n",
       "      <td>2014.0</td>\n",
       "      <td>0</td>\n",
       "      <td>66</td>\n",
       "      <td>0.000000</td>\n",
       "    </tr>\n",
       "    <tr>\n",
       "      <th>358</th>\n",
       "      <td>USA</td>\n",
       "      <td>2015.0</td>\n",
       "      <td>1</td>\n",
       "      <td>73</td>\n",
       "      <td>0.013699</td>\n",
       "    </tr>\n",
       "    <tr>\n",
       "      <th>359</th>\n",
       "      <td>USA</td>\n",
       "      <td>2016.0</td>\n",
       "      <td>0</td>\n",
       "      <td>64</td>\n",
       "      <td>0.000000</td>\n",
       "    </tr>\n",
       "    <tr>\n",
       "      <th>360</th>\n",
       "      <td>USA</td>\n",
       "      <td>2017.0</td>\n",
       "      <td>0</td>\n",
       "      <td>65</td>\n",
       "      <td>0.000000</td>\n",
       "    </tr>\n",
       "    <tr>\n",
       "      <th>361</th>\n",
       "      <td>USA</td>\n",
       "      <td>2018.0</td>\n",
       "      <td>0</td>\n",
       "      <td>10</td>\n",
       "      <td>0.000000</td>\n",
       "    </tr>\n",
       "  </tbody>\n",
       "</table>\n",
       "<p>116 rows × 5 columns</p>\n",
       "</div>"
      ],
      "text/plain": [
       "       Country    Year  fatal_cases  total_cases  fatality_rate\n",
       "124  AUSTRALIA  1961.0            2           24       0.083333\n",
       "125  AUSTRALIA  1962.0            1           20       0.050000\n",
       "126  AUSTRALIA  1963.0            1           11       0.090909\n",
       "127  AUSTRALIA  1964.0            1            9       0.111111\n",
       "128  AUSTRALIA  1965.0            1            5       0.200000\n",
       "..         ...     ...          ...          ...            ...\n",
       "357        USA  2014.0            0           66       0.000000\n",
       "358        USA  2015.0            1           73       0.013699\n",
       "359        USA  2016.0            0           64       0.000000\n",
       "360        USA  2017.0            0           65       0.000000\n",
       "361        USA  2018.0            0           10       0.000000\n",
       "\n",
       "[116 rows x 5 columns]"
      ]
     },
     "execution_count": 31,
     "metadata": {},
     "output_type": "execute_result"
    }
   ],
   "source": [
    "sharks_usa_australia_year_1960 = sharks_usa_australia_year[sharks_usa_australia_year['Year'] > 1960]\n",
    "sharks_usa_australia_year_1960"
   ]
  },
  {
   "cell_type": "code",
   "execution_count": 32,
   "id": "30e116c8",
   "metadata": {},
   "outputs": [
    {
     "data": {
      "text/html": [
       "<div>\n",
       "<style scoped>\n",
       "    .dataframe tbody tr th:only-of-type {\n",
       "        vertical-align: middle;\n",
       "    }\n",
       "\n",
       "    .dataframe tbody tr th {\n",
       "        vertical-align: top;\n",
       "    }\n",
       "\n",
       "    .dataframe thead th {\n",
       "        text-align: right;\n",
       "    }\n",
       "</style>\n",
       "<table border=\"1\" class=\"dataframe\">\n",
       "  <thead>\n",
       "    <tr style=\"text-align: right;\">\n",
       "      <th></th>\n",
       "      <th>Year</th>\n",
       "      <th>fatal_cases</th>\n",
       "      <th>total_cases</th>\n",
       "      <th>fatality_rate</th>\n",
       "    </tr>\n",
       "    <tr>\n",
       "      <th>Country</th>\n",
       "      <th></th>\n",
       "      <th></th>\n",
       "      <th></th>\n",
       "      <th></th>\n",
       "    </tr>\n",
       "  </thead>\n",
       "  <tbody>\n",
       "    <tr>\n",
       "      <th>AUSTRALIA</th>\n",
       "      <td>1989.5</td>\n",
       "      <td>1.293103</td>\n",
       "      <td>11.775862</td>\n",
       "      <td>0.144176</td>\n",
       "    </tr>\n",
       "    <tr>\n",
       "      <th>USA</th>\n",
       "      <td>1989.5</td>\n",
       "      <td>1.051724</td>\n",
       "      <td>29.844828</td>\n",
       "      <td>0.043554</td>\n",
       "    </tr>\n",
       "  </tbody>\n",
       "</table>\n",
       "</div>"
      ],
      "text/plain": [
       "             Year  fatal_cases  total_cases  fatality_rate\n",
       "Country                                                   \n",
       "AUSTRALIA  1989.5     1.293103    11.775862       0.144176\n",
       "USA        1989.5     1.051724    29.844828       0.043554"
      ]
     },
     "execution_count": 32,
     "metadata": {},
     "output_type": "execute_result"
    }
   ],
   "source": [
    "sharks_usa_australia_year_1960.groupby('Country').mean()"
   ]
  },
  {
   "cell_type": "markdown",
   "id": "76824a1b",
   "metadata": {},
   "source": [
    "Mais de 3x fatality rate média!"
   ]
  },
  {
   "cell_type": "code",
   "execution_count": 33,
   "id": "c8bebe20",
   "metadata": {},
   "outputs": [
    {
     "data": {
      "text/plain": [
       "Country\n",
       "AUSTRALIA    0.094778\n",
       "USA          0.050873\n",
       "Name: fatality_rate, dtype: float64"
      ]
     },
     "execution_count": 33,
     "metadata": {},
     "output_type": "execute_result"
    }
   ],
   "source": [
    "mask_dec_60 = (sharks_usa_australia_year_1960['Year'] >= 1960) & (sharks_usa_australia_year_1960['Year'] < 1970)\n",
    "mask_dec_70 = (sharks_usa_australia_year_1960['Year'] >= 1970) & (sharks_usa_australia_year_1960['Year'] < 1980)\n",
    "mask_dec_80 = (sharks_usa_australia_year_1960['Year'] >= 1980) & (sharks_usa_australia_year_1960['Year'] < 1990)\n",
    "mask_dec_90 = (sharks_usa_australia_year_1960['Year'] >= 1990) & (sharks_usa_australia_year_1960['Year'] < 2000)\n",
    "mask_dec_2000 = (sharks_usa_australia_year_1960['Year'] >= 2000) & (sharks_usa_australia_year_1960['Year'] < 2010)\n",
    "mask_dec_2010 = (sharks_usa_australia_year_1960['Year'] >= 2010) & (sharks_usa_australia_year_1960['Year'] < 2020)\n",
    "\n",
    "sharks_usa_australia_year_1960[mask_dec_60].groupby('Country')['fatality_rate'].mean()"
   ]
  },
  {
   "cell_type": "code",
   "execution_count": 34,
   "id": "a988aca1",
   "metadata": {},
   "outputs": [
    {
     "data": {
      "text/html": [
       "<div>\n",
       "<style scoped>\n",
       "    .dataframe tbody tr th:only-of-type {\n",
       "        vertical-align: middle;\n",
       "    }\n",
       "\n",
       "    .dataframe tbody tr th {\n",
       "        vertical-align: top;\n",
       "    }\n",
       "\n",
       "    .dataframe thead th {\n",
       "        text-align: right;\n",
       "    }\n",
       "</style>\n",
       "<table border=\"1\" class=\"dataframe\">\n",
       "  <thead>\n",
       "    <tr style=\"text-align: right;\">\n",
       "      <th>Country</th>\n",
       "      <th>AUSTRALIA</th>\n",
       "      <th>USA</th>\n",
       "    </tr>\n",
       "  </thead>\n",
       "  <tbody>\n",
       "    <tr>\n",
       "      <th>60s</th>\n",
       "      <td>0.094778</td>\n",
       "      <td>0.050873</td>\n",
       "    </tr>\n",
       "    <tr>\n",
       "      <th>70s</th>\n",
       "      <td>0.128333</td>\n",
       "      <td>0.064829</td>\n",
       "    </tr>\n",
       "    <tr>\n",
       "      <th>80s</th>\n",
       "      <td>0.289597</td>\n",
       "      <td>0.053847</td>\n",
       "    </tr>\n",
       "    <tr>\n",
       "      <th>90s</th>\n",
       "      <td>0.169087</td>\n",
       "      <td>0.048134</td>\n",
       "    </tr>\n",
       "    <tr>\n",
       "      <th>2000s</th>\n",
       "      <td>0.086365</td>\n",
       "      <td>0.028750</td>\n",
       "    </tr>\n",
       "    <tr>\n",
       "      <th>2010s</th>\n",
       "      <td>0.086154</td>\n",
       "      <td>0.012517</td>\n",
       "    </tr>\n",
       "  </tbody>\n",
       "</table>\n",
       "</div>"
      ],
      "text/plain": [
       "Country  AUSTRALIA       USA\n",
       "60s       0.094778  0.050873\n",
       "70s       0.128333  0.064829\n",
       "80s       0.289597  0.053847\n",
       "90s       0.169087  0.048134\n",
       "2000s     0.086365  0.028750\n",
       "2010s     0.086154  0.012517"
      ]
     },
     "execution_count": 34,
     "metadata": {},
     "output_type": "execute_result"
    }
   ],
   "source": [
    "sharks_decade_variation = pd.DataFrame(\n",
    "    [sharks_usa_australia_year_1960[mask_dec_60].groupby('Country')['fatality_rate'].mean(),\n",
    "    sharks_usa_australia_year_1960[mask_dec_70].groupby('Country')['fatality_rate'].mean(),\n",
    "    sharks_usa_australia_year_1960[mask_dec_80].groupby('Country')['fatality_rate'].mean(),\n",
    "    sharks_usa_australia_year_1960[mask_dec_90].groupby('Country')['fatality_rate'].mean(),\n",
    "    sharks_usa_australia_year_1960[mask_dec_2000].groupby('Country')['fatality_rate'].mean(),\n",
    "    sharks_usa_australia_year_1960[mask_dec_2010].groupby('Country')['fatality_rate'].mean(),\n",
    "    ], index=['60s', '70s', '80s', '90s', '2000s', '2010s']\n",
    ")\n",
    "\n",
    "sharks_decade_variation"
   ]
  },
  {
   "cell_type": "code",
   "execution_count": 35,
   "id": "bde79ed2",
   "metadata": {
    "scrolled": true
   },
   "outputs": [
    {
     "data": {
      "text/plain": [
       "<Axes: >"
      ]
     },
     "execution_count": 35,
     "metadata": {},
     "output_type": "execute_result"
    },
    {
     "data": {
      "image/png": "[encoded data removed]",
      "text/plain": [
       "<Figure size 640x480 with 1 Axes>"
      ]
     },
     "metadata": {},
     "output_type": "display_data"
    }
   ],
   "source": [
    "sns.lineplot(data=sharks_decade_variation)"
   ]
  },
  {
   "cell_type": "code",
   "execution_count": 41,
   "id": "35611b83",
   "metadata": {},
   "outputs": [
    {
     "name": "stderr",
     "output_type": "stream",
     "text": [
      "C:\\Users\\alexa\\AppData\\Local\\Temp\\ipykernel_7948\\3088559541.py:1: SettingWithCopyWarning: \n",
      "A value is trying to be set on a copy of a slice from a DataFrame.\n",
      "Try using .loc[row_indexer,col_indexer] = value instead\n",
      "\n",
      "See the caveats in the documentation: https://pandas.pydata.org/pandas-docs/stable/user_guide/indexing.html#returning-a-view-versus-a-copy\n",
      "  sharks_usa_australia_year_1960['Decade'] = pd.cut(sharks_usa_australia_year_1960['Year'], bins=[1960, 1970, 1980, 1990, 2000, 2010, 2020])\n"
     ]
    }
   ],
   "source": [
    "sharks_usa_australia_year_1960['Decade'] = pd.cut(sharks_usa_australia_year_1960['Year'], bins=[1960, 1970, 1980, 1990, 2000, 2010, 2020])"
   ]
  },
  {
   "cell_type": "code",
   "execution_count": 72,
   "id": "8c013ed3",
   "metadata": {},
   "outputs": [],
   "source": [
    "decades_fatality_stats = sharks_usa_australia_year_1960.groupby(['Country', 'Decade']).agg(total_cases=('total_cases', 'sum'), fatal_cases=('fatal_cases', 'sum')).reset_index()"
   ]
  },
  {
   "cell_type": "code",
   "execution_count": 73,
   "id": "647f04a7",
   "metadata": {},
   "outputs": [
    {
     "data": {
      "text/html": [
       "<div>\n",
       "<style scoped>\n",
       "    .dataframe tbody tr th:only-of-type {\n",
       "        vertical-align: middle;\n",
       "    }\n",
       "\n",
       "    .dataframe tbody tr th {\n",
       "        vertical-align: top;\n",
       "    }\n",
       "\n",
       "    .dataframe thead th {\n",
       "        text-align: right;\n",
       "    }\n",
       "</style>\n",
       "<table border=\"1\" class=\"dataframe\">\n",
       "  <thead>\n",
       "    <tr style=\"text-align: right;\">\n",
       "      <th></th>\n",
       "      <th>Country</th>\n",
       "      <th>Decade</th>\n",
       "      <th>total_cases</th>\n",
       "      <th>fatal_cases</th>\n",
       "    </tr>\n",
       "  </thead>\n",
       "  <tbody>\n",
       "    <tr>\n",
       "      <th>0</th>\n",
       "      <td>AUSTRALIA</td>\n",
       "      <td>(1960, 1970]</td>\n",
       "      <td>114</td>\n",
       "      <td>10</td>\n",
       "    </tr>\n",
       "    <tr>\n",
       "      <th>1</th>\n",
       "      <td>AUSTRALIA</td>\n",
       "      <td>(1970, 1980]</td>\n",
       "      <td>59</td>\n",
       "      <td>11</td>\n",
       "    </tr>\n",
       "    <tr>\n",
       "      <th>2</th>\n",
       "      <td>AUSTRALIA</td>\n",
       "      <td>(1980, 1990]</td>\n",
       "      <td>54</td>\n",
       "      <td>11</td>\n",
       "    </tr>\n",
       "    <tr>\n",
       "      <th>3</th>\n",
       "      <td>AUSTRALIA</td>\n",
       "      <td>(1990, 2000]</td>\n",
       "      <td>79</td>\n",
       "      <td>13</td>\n",
       "    </tr>\n",
       "    <tr>\n",
       "      <th>4</th>\n",
       "      <td>AUSTRALIA</td>\n",
       "      <td>(2000, 2010]</td>\n",
       "      <td>173</td>\n",
       "      <td>12</td>\n",
       "    </tr>\n",
       "    <tr>\n",
       "      <th>5</th>\n",
       "      <td>AUSTRALIA</td>\n",
       "      <td>(2010, 2020]</td>\n",
       "      <td>204</td>\n",
       "      <td>18</td>\n",
       "    </tr>\n",
       "    <tr>\n",
       "      <th>6</th>\n",
       "      <td>USA</td>\n",
       "      <td>(1960, 1970]</td>\n",
       "      <td>141</td>\n",
       "      <td>8</td>\n",
       "    </tr>\n",
       "    <tr>\n",
       "      <th>7</th>\n",
       "      <td>USA</td>\n",
       "      <td>(1970, 1980]</td>\n",
       "      <td>104</td>\n",
       "      <td>9</td>\n",
       "    </tr>\n",
       "    <tr>\n",
       "      <th>8</th>\n",
       "      <td>USA</td>\n",
       "      <td>(1980, 1990]</td>\n",
       "      <td>214</td>\n",
       "      <td>13</td>\n",
       "    </tr>\n",
       "    <tr>\n",
       "      <th>9</th>\n",
       "      <td>USA</td>\n",
       "      <td>(1990, 2000]</td>\n",
       "      <td>310</td>\n",
       "      <td>12</td>\n",
       "    </tr>\n",
       "    <tr>\n",
       "      <th>10</th>\n",
       "      <td>USA</td>\n",
       "      <td>(2000, 2010]</td>\n",
       "      <td>512</td>\n",
       "      <td>15</td>\n",
       "    </tr>\n",
       "    <tr>\n",
       "      <th>11</th>\n",
       "      <td>USA</td>\n",
       "      <td>(2010, 2020]</td>\n",
       "      <td>450</td>\n",
       "      <td>4</td>\n",
       "    </tr>\n",
       "  </tbody>\n",
       "</table>\n",
       "</div>"
      ],
      "text/plain": [
       "      Country        Decade  total_cases  fatal_cases\n",
       "0   AUSTRALIA  (1960, 1970]          114           10\n",
       "1   AUSTRALIA  (1970, 1980]           59           11\n",
       "2   AUSTRALIA  (1980, 1990]           54           11\n",
       "3   AUSTRALIA  (1990, 2000]           79           13\n",
       "4   AUSTRALIA  (2000, 2010]          173           12\n",
       "5   AUSTRALIA  (2010, 2020]          204           18\n",
       "6         USA  (1960, 1970]          141            8\n",
       "7         USA  (1970, 1980]          104            9\n",
       "8         USA  (1980, 1990]          214           13\n",
       "9         USA  (1990, 2000]          310           12\n",
       "10        USA  (2000, 2010]          512           15\n",
       "11        USA  (2010, 2020]          450            4"
      ]
     },
     "execution_count": 73,
     "metadata": {},
     "output_type": "execute_result"
    }
   ],
   "source": [
    "decades_fatality_stats"
   ]
  },
  {
   "cell_type": "code",
   "execution_count": 74,
   "id": "1fc5f39d",
   "metadata": {},
   "outputs": [],
   "source": [
    "decades_fatality_stats['mean'] = decades_fatality_stats['fatal_cases'] / decades_fatality_stats['total_cases']"
   ]
  },
  {
   "cell_type": "code",
   "execution_count": 85,
   "id": "755f763a",
   "metadata": {},
   "outputs": [
    {
     "data": {
      "text/html": [
       "<div>\n",
       "<style scoped>\n",
       "    .dataframe tbody tr th:only-of-type {\n",
       "        vertical-align: middle;\n",
       "    }\n",
       "\n",
       "    .dataframe tbody tr th {\n",
       "        vertical-align: top;\n",
       "    }\n",
       "\n",
       "    .dataframe thead th {\n",
       "        text-align: right;\n",
       "    }\n",
       "</style>\n",
       "<table border=\"1\" class=\"dataframe\">\n",
       "  <thead>\n",
       "    <tr style=\"text-align: right;\">\n",
       "      <th></th>\n",
       "      <th>Country</th>\n",
       "      <th>Decade</th>\n",
       "      <th>total_cases</th>\n",
       "      <th>fatal_cases</th>\n",
       "      <th>mean</th>\n",
       "    </tr>\n",
       "  </thead>\n",
       "  <tbody>\n",
       "    <tr>\n",
       "      <th>0</th>\n",
       "      <td>AUSTRALIA</td>\n",
       "      <td>(1960, 1970]</td>\n",
       "      <td>114</td>\n",
       "      <td>10</td>\n",
       "      <td>0.087719</td>\n",
       "    </tr>\n",
       "    <tr>\n",
       "      <th>1</th>\n",
       "      <td>AUSTRALIA</td>\n",
       "      <td>(1970, 1980]</td>\n",
       "      <td>59</td>\n",
       "      <td>11</td>\n",
       "      <td>0.186441</td>\n",
       "    </tr>\n",
       "    <tr>\n",
       "      <th>2</th>\n",
       "      <td>AUSTRALIA</td>\n",
       "      <td>(1980, 1990]</td>\n",
       "      <td>54</td>\n",
       "      <td>11</td>\n",
       "      <td>0.203704</td>\n",
       "    </tr>\n",
       "    <tr>\n",
       "      <th>3</th>\n",
       "      <td>AUSTRALIA</td>\n",
       "      <td>(1990, 2000]</td>\n",
       "      <td>79</td>\n",
       "      <td>13</td>\n",
       "      <td>0.164557</td>\n",
       "    </tr>\n",
       "    <tr>\n",
       "      <th>4</th>\n",
       "      <td>AUSTRALIA</td>\n",
       "      <td>(2000, 2010]</td>\n",
       "      <td>173</td>\n",
       "      <td>12</td>\n",
       "      <td>0.069364</td>\n",
       "    </tr>\n",
       "    <tr>\n",
       "      <th>5</th>\n",
       "      <td>AUSTRALIA</td>\n",
       "      <td>(2010, 2020]</td>\n",
       "      <td>204</td>\n",
       "      <td>18</td>\n",
       "      <td>0.088235</td>\n",
       "    </tr>\n",
       "    <tr>\n",
       "      <th>6</th>\n",
       "      <td>USA</td>\n",
       "      <td>(1960, 1970]</td>\n",
       "      <td>141</td>\n",
       "      <td>8</td>\n",
       "      <td>0.056738</td>\n",
       "    </tr>\n",
       "    <tr>\n",
       "      <th>7</th>\n",
       "      <td>USA</td>\n",
       "      <td>(1970, 1980]</td>\n",
       "      <td>104</td>\n",
       "      <td>9</td>\n",
       "      <td>0.086538</td>\n",
       "    </tr>\n",
       "    <tr>\n",
       "      <th>8</th>\n",
       "      <td>USA</td>\n",
       "      <td>(1980, 1990]</td>\n",
       "      <td>214</td>\n",
       "      <td>13</td>\n",
       "      <td>0.060748</td>\n",
       "    </tr>\n",
       "    <tr>\n",
       "      <th>9</th>\n",
       "      <td>USA</td>\n",
       "      <td>(1990, 2000]</td>\n",
       "      <td>310</td>\n",
       "      <td>12</td>\n",
       "      <td>0.038710</td>\n",
       "    </tr>\n",
       "    <tr>\n",
       "      <th>10</th>\n",
       "      <td>USA</td>\n",
       "      <td>(2000, 2010]</td>\n",
       "      <td>512</td>\n",
       "      <td>15</td>\n",
       "      <td>0.029297</td>\n",
       "    </tr>\n",
       "    <tr>\n",
       "      <th>11</th>\n",
       "      <td>USA</td>\n",
       "      <td>(2010, 2020]</td>\n",
       "      <td>450</td>\n",
       "      <td>4</td>\n",
       "      <td>0.008889</td>\n",
       "    </tr>\n",
       "  </tbody>\n",
       "</table>\n",
       "</div>"
      ],
      "text/plain": [
       "      Country        Decade  total_cases  fatal_cases      mean\n",
       "0   AUSTRALIA  (1960, 1970]          114           10  0.087719\n",
       "1   AUSTRALIA  (1970, 1980]           59           11  0.186441\n",
       "2   AUSTRALIA  (1980, 1990]           54           11  0.203704\n",
       "3   AUSTRALIA  (1990, 2000]           79           13  0.164557\n",
       "4   AUSTRALIA  (2000, 2010]          173           12  0.069364\n",
       "5   AUSTRALIA  (2010, 2020]          204           18  0.088235\n",
       "6         USA  (1960, 1970]          141            8  0.056738\n",
       "7         USA  (1970, 1980]          104            9  0.086538\n",
       "8         USA  (1980, 1990]          214           13  0.060748\n",
       "9         USA  (1990, 2000]          310           12  0.038710\n",
       "10        USA  (2000, 2010]          512           15  0.029297\n",
       "11        USA  (2010, 2020]          450            4  0.008889"
      ]
     },
     "execution_count": 85,
     "metadata": {},
     "output_type": "execute_result"
    }
   ],
   "source": [
    "decades_fatality_stats"
   ]
  },
  {
   "cell_type": "code",
   "execution_count": 98,
   "id": "5c63627a",
   "metadata": {},
   "outputs": [
    {
     "data": {
      "text/html": [
       "<div>\n",
       "<style scoped>\n",
       "    .dataframe tbody tr th:only-of-type {\n",
       "        vertical-align: middle;\n",
       "    }\n",
       "\n",
       "    .dataframe tbody tr th {\n",
       "        vertical-align: top;\n",
       "    }\n",
       "\n",
       "    .dataframe thead th {\n",
       "        text-align: right;\n",
       "    }\n",
       "</style>\n",
       "<table border=\"1\" class=\"dataframe\">\n",
       "  <thead>\n",
       "    <tr style=\"text-align: right;\">\n",
       "      <th></th>\n",
       "      <th>Country</th>\n",
       "      <th>Decade</th>\n",
       "      <th>total_cases</th>\n",
       "      <th>fatal_cases</th>\n",
       "      <th>mean</th>\n",
       "    </tr>\n",
       "  </thead>\n",
       "  <tbody>\n",
       "    <tr>\n",
       "      <th>0</th>\n",
       "      <td>AUSTRALIA</td>\n",
       "      <td>(1960, 1970]</td>\n",
       "      <td>114</td>\n",
       "      <td>10</td>\n",
       "      <td>0.087719</td>\n",
       "    </tr>\n",
       "    <tr>\n",
       "      <th>6</th>\n",
       "      <td>USA</td>\n",
       "      <td>(1960, 1970]</td>\n",
       "      <td>141</td>\n",
       "      <td>8</td>\n",
       "      <td>0.056738</td>\n",
       "    </tr>\n",
       "    <tr>\n",
       "      <th>1</th>\n",
       "      <td>AUSTRALIA</td>\n",
       "      <td>(1970, 1980]</td>\n",
       "      <td>59</td>\n",
       "      <td>11</td>\n",
       "      <td>0.186441</td>\n",
       "    </tr>\n",
       "    <tr>\n",
       "      <th>7</th>\n",
       "      <td>USA</td>\n",
       "      <td>(1970, 1980]</td>\n",
       "      <td>104</td>\n",
       "      <td>9</td>\n",
       "      <td>0.086538</td>\n",
       "    </tr>\n",
       "    <tr>\n",
       "      <th>2</th>\n",
       "      <td>AUSTRALIA</td>\n",
       "      <td>(1980, 1990]</td>\n",
       "      <td>54</td>\n",
       "      <td>11</td>\n",
       "      <td>0.203704</td>\n",
       "    </tr>\n",
       "    <tr>\n",
       "      <th>8</th>\n",
       "      <td>USA</td>\n",
       "      <td>(1980, 1990]</td>\n",
       "      <td>214</td>\n",
       "      <td>13</td>\n",
       "      <td>0.060748</td>\n",
       "    </tr>\n",
       "    <tr>\n",
       "      <th>3</th>\n",
       "      <td>AUSTRALIA</td>\n",
       "      <td>(1990, 2000]</td>\n",
       "      <td>79</td>\n",
       "      <td>13</td>\n",
       "      <td>0.164557</td>\n",
       "    </tr>\n",
       "    <tr>\n",
       "      <th>9</th>\n",
       "      <td>USA</td>\n",
       "      <td>(1990, 2000]</td>\n",
       "      <td>310</td>\n",
       "      <td>12</td>\n",
       "      <td>0.038710</td>\n",
       "    </tr>\n",
       "    <tr>\n",
       "      <th>4</th>\n",
       "      <td>AUSTRALIA</td>\n",
       "      <td>(2000, 2010]</td>\n",
       "      <td>173</td>\n",
       "      <td>12</td>\n",
       "      <td>0.069364</td>\n",
       "    </tr>\n",
       "    <tr>\n",
       "      <th>10</th>\n",
       "      <td>USA</td>\n",
       "      <td>(2000, 2010]</td>\n",
       "      <td>512</td>\n",
       "      <td>15</td>\n",
       "      <td>0.029297</td>\n",
       "    </tr>\n",
       "    <tr>\n",
       "      <th>5</th>\n",
       "      <td>AUSTRALIA</td>\n",
       "      <td>(2010, 2020]</td>\n",
       "      <td>204</td>\n",
       "      <td>18</td>\n",
       "      <td>0.088235</td>\n",
       "    </tr>\n",
       "    <tr>\n",
       "      <th>11</th>\n",
       "      <td>USA</td>\n",
       "      <td>(2010, 2020]</td>\n",
       "      <td>450</td>\n",
       "      <td>4</td>\n",
       "      <td>0.008889</td>\n",
       "    </tr>\n",
       "  </tbody>\n",
       "</table>\n",
       "</div>"
      ],
      "text/plain": [
       "      Country        Decade  total_cases  fatal_cases      mean\n",
       "0   AUSTRALIA  (1960, 1970]          114           10  0.087719\n",
       "6         USA  (1960, 1970]          141            8  0.056738\n",
       "1   AUSTRALIA  (1970, 1980]           59           11  0.186441\n",
       "7         USA  (1970, 1980]          104            9  0.086538\n",
       "2   AUSTRALIA  (1980, 1990]           54           11  0.203704\n",
       "8         USA  (1980, 1990]          214           13  0.060748\n",
       "3   AUSTRALIA  (1990, 2000]           79           13  0.164557\n",
       "9         USA  (1990, 2000]          310           12  0.038710\n",
       "4   AUSTRALIA  (2000, 2010]          173           12  0.069364\n",
       "10        USA  (2000, 2010]          512           15  0.029297\n",
       "5   AUSTRALIA  (2010, 2020]          204           18  0.088235\n",
       "11        USA  (2010, 2020]          450            4  0.008889"
      ]
     },
     "execution_count": 98,
     "metadata": {},
     "output_type": "execute_result"
    }
   ],
   "source": [
    "decades_fatality_stats.sort_values(by='Decade')"
   ]
  }
 ],
 "metadata": {
  "kernelspec": {
   "display_name": "Python 3 (ipykernel)",
   "language": "python",
   "name": "python3"
  },
  "language_info": {
   "codemirror_mode": {
    "name": "ipython",
    "version": 3
   },
   "file_extension": ".py",
   "mimetype": "text/x-python",
   "name": "python",
   "nbconvert_exporter": "python",
   "pygments_lexer": "ipython3",
   "version": "3.10.4"
  },
  "toc": {
   "base_numbering": 1,
   "nav_menu": {},
   "number_sections": true,
   "sideBar": true,
   "skip_h1_title": false,
   "title_cell": "Table of Contents",
   "title_sidebar": "Contents",
   "toc_cell": false,
   "toc_position": {
    "height": "calc(100% - 180px)",
    "left": "10px",
    "top": "150px",
    "width": "303.837px"
   },
   "toc_section_display": true,
   "toc_window_display": false
  }
 },
 "nbformat": 4,
 "nbformat_minor": 5
}
